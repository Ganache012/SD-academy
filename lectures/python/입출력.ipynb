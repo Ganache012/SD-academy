{
 "cells": [
  {
   "cell_type": "markdown",
   "metadata": {},
   "source": [
    "# 입출력 첫번째 표준 입출력\n",
    "\n",
    "- input(), print()\n",
    "- input과 같은 경우 블록함수로써, 입력이 들어올때 까지 대기\n",
    "- input() 함수로 입력받는 경우 자료형은 문자열이다."
   ]
  },
  {
   "cell_type": "markdown",
   "metadata": {},
   "source": [
    "# 두 수를 입력받아, 입력받은 두 수의 합을 구해 봅시다. "
   ]
  },
  {
   "cell_type": "code",
   "execution_count": null,
   "metadata": {},
   "outputs": [],
   "source": [
    "# n = input(\"첫번째 수를 입력하세요: \")\n",
    "# m = input(\"두번째 수를 입력하세요: \")\n",
    "# 입력의 형태: 1,2,3, ...\n",
    "# 입력의 형태: 29 84 6 738 947\n",
    "\n",
    "while True:\n",
    "    tmp = input(\"두 수를 입력하세요: \")\n",
    "    n, m = tmp.split(sep=',')\n",
    "\n",
    "    # validation\n",
    "    if n.isdecimal() and m.isdecimal():\n",
    "        n = int(n)\n",
    "        m = int(m)\n",
    "        print(\"입력된 두 수의 합은 {} 입니다.\".format(n+m))\n",
    "    else:\n",
    "        print(\"계산할 수 없는 값이 입력되었습니다\")"
   ]
  },
  {
   "cell_type": "markdown",
   "metadata": {},
   "source": [
    "# 입출력 두번째 파일 읽고/쓰기"
   ]
  },
  {
   "cell_type": "code",
   "execution_count": 39,
   "metadata": {},
   "outputs": [
    {
     "name": "stdout",
     "output_type": "stream",
     "text": [
      "Lorem ipsum dolor sit amet, consectetur adipiscing elit.\n",
      "\n",
      "Sed finibus enim eget aliquet porttitor.\n",
      "\n",
      "In lobortis nisl sit amet quam viverra, vel commodo urna sodales.\n",
      "\n",
      "Sed eget sapien nec erat facilisis pellentesque quis et justo.\n",
      "\n",
      "Suspendisse venenatis nibh vehicula urna egestas, vel dapibus odio luctus.\n",
      "\n",
      "Nullam eu diam a ex blandit varius ut vel velit.\n",
      "\n",
      "Ut ornare eros et vehicula pretium.\n",
      "\n",
      "Phasellus dapibus elit ut ornare lobortis.\n",
      "\n",
      "Duis porttitor purus eget lacus tristique ultrices.\n",
      "\n",
      "Donec a lorem vel dolor eleifend imperdiet.\n"
     ]
    }
   ],
   "source": [
    "# open(\"/workspace/sd_jupyter/open.txt\") # 절대경로\n",
    "file = open(\"../../open.txt\") # 상대경로\n",
    "# file.read()\n",
    "# print(file.readline() )\n",
    "# print(file.readline() )\n",
    "\n",
    "for line in file.readlines():\n",
    "    print(line)\n",
    "    \n",
    "file.close() # 중요!"
   ]
  },
  {
   "cell_type": "code",
   "execution_count": 40,
   "metadata": {},
   "outputs": [],
   "source": [
    "file = open(\"../../open.txt\", mode='w')\n",
    "file.write(\"동해물과 백두산이 마르고 닳도록...\")\n",
    "file.close()"
   ]
  },
  {
   "cell_type": "code",
   "execution_count": 45,
   "metadata": {},
   "outputs": [
    {
     "name": "stdout",
     "output_type": "stream",
     "text": [
      "Lorem ipsum dolor sit amet, consectetur adipiscing elit.\n",
      "\n",
      "Sed finibus enim eget aliquet porttitor.\n",
      "\n",
      "In lobortis nisl sit amet quam viverra, vel commodo urna sodales.\n",
      "\n",
      "Sed eget sapien nec erat facilisis pellentesque quis et justo.\n",
      "\n",
      "Suspendisse venenatis nibh vehicula urna egestas, vel dapibus odio luctus.\n",
      "\n",
      "Nullam eu diam a ex blandit varius ut vel velit.\n",
      "\n",
      "Ut ornare eros et vehicula pretium.\n",
      "\n",
      "Phasellus dapibus elit ut ornare lobortis.\n",
      "\n",
      "Duis porttitor purus eget lacus tristique ultrices.\n",
      "\n",
      "Donec a lorem vel dolor eleifend imperdiet.\n"
     ]
    }
   ],
   "source": [
    "# f = open(...)\n",
    "with open(\"../../open.txt\", mode='r') as f:\n",
    "    print( f.readline() )\n",
    "    for line in f.readlines():\n",
    "        print(line)"
   ]
  },
  {
   "cell_type": "markdown",
   "metadata": {},
   "source": [
    "# 입출력 세번째 네트워크를 통한 입출력\n",
    "- 네트워크 통신도 입출력의 한 종류로써 생각해볼 수 있다. \n",
    "- 여기선 파이썬에서 간단한 소켓 프로그래밍을 소개한다. "
   ]
  },
  {
   "cell_type": "markdown",
   "metadata": {},
   "source": [
    "서버 소켓 프로그램은 다음과 같다. "
   ]
  },
  {
   "cell_type": "code",
   "execution_count": null,
   "metadata": {},
   "outputs": [],
   "source": [
    "import socket\n",
    "\n",
    "host = '172.17.0.22'\n",
    "port = 22222\n",
    "\n",
    "server_socket = socket.socket(socket.AF_INET, socket.SOCK_STREAM)\n",
    "\n",
    "server_socket.setsockopt(socket.SOL_SOCKET, \n",
    "                         socket.SO_REUSEADDR, 1)\n",
    "\n",
    "server_socket.bind( (host, port) )\n",
    "server_socket.listen()\n",
    "client_socket, client_addr = server_socket.accept()\n",
    "\n",
    "data = client_socket.recv(1024)\n",
    "print(\"receive from: {}\".format(data.decode()) )\n",
    "\n",
    "client_socket.close()\n",
    "server_socket.close()"
   ]
  },
  {
   "cell_type": "markdown",
   "metadata": {},
   "source": [
    "다음은 클라이언트용 소켓 프로그램이다. "
   ]
  },
  {
   "cell_type": "code",
   "execution_count": null,
   "metadata": {},
   "outputs": [],
   "source": [
    "import socket\n",
    "\n",
    "addr = '172.17.0.22'\n",
    "port = 22222\n",
    "\n",
    "socket = socket.socket(socket.AF_INET, socket.SOCK_STREAM)\n",
    "\n",
    "socket.connect( (addr, port) )\n",
    "socket.sendall('안녕하세요'.encode() )"
   ]
  }
 ],
 "metadata": {
  "kernelspec": {
   "display_name": "Python 3",
   "language": "python",
   "name": "python3"
  },
  "language_info": {
   "codemirror_mode": {
    "name": "ipython",
    "version": 3
   },
   "file_extension": ".py",
   "mimetype": "text/x-python",
   "name": "python",
   "nbconvert_exporter": "python",
   "pygments_lexer": "ipython3",
   "version": "3.7.1"
  }
 },
 "nbformat": 4,
 "nbformat_minor": 2
}
