{
 "cells": [
  {
   "cell_type": "markdown",
   "metadata": {},
   "source": [
    "# Stock 클래스 생성\n",
    "- 주식 종목에 대한 정보를 저장하는 Stock클래스를 정의 해봅니다."
   ]
  },
  {
   "cell_type": "code",
   "execution_count": 1,
   "metadata": {},
   "outputs": [],
   "source": [
    "class Stock:\n",
    "    pass"
   ]
  },
  {
   "cell_type": "markdown",
   "metadata": {},
   "source": [
    "# Stock 클래스의 객체가 생성될 때, 종목명과 종목코드를 입력 받을 수 있도록 생성자를 정의 해봅니다.\n",
    "- 입력에\n",
    "```\n",
    "    samsung = Stock(\"삼성전자\", \"005939\")\n",
    "```"
   ]
  },
  {
   "cell_type": "code",
   "execution_count": 4,
   "metadata": {},
   "outputs": [],
   "source": [
    "class Stock:\n",
    "    #종목명: topic_name, 종목 코드:topic_code\n",
    "    def __init__(self, topic_name = '', topic_code = ''):\n",
    "        self.topic_name = topic_name\n",
    "        self.topic_code = topic_code"
   ]
  },
  {
   "cell_type": "code",
   "execution_count": 7,
   "metadata": {},
   "outputs": [
    {
     "data": {
      "text/plain": [
       "'005939'"
      ]
     },
     "execution_count": 7,
     "metadata": {},
     "output_type": "execute_result"
    }
   ],
   "source": [
    "stock1 = Stock('삼성전자', '005939')\n",
    "stock1.topic_name\n",
    "stock1.topic_code"
   ]
  },
  {
   "cell_type": "markdown",
   "metadata": {},
   "source": [
    "# 객체에 종목명을 입력할 수 있는 set_name 메서드를 추가 해봅니다.\n",
    "- 입력에\n",
    "```\n",
    "    a = Stock()\n",
    "    a.set_name(\"삼성전자\")\n",
    "```"
   ]
  },
  {
   "cell_type": "code",
   "execution_count": 8,
   "metadata": {},
   "outputs": [],
   "source": [
    "class Stock:\n",
    "    #종목명: topic_name, 종목 코드:topic_code\n",
    "    def __init__(self, topic_name = '', topic_code = ''):\n",
    "        self.topic_name = topic_name\n",
    "        self.topic_code = topic_code\n",
    "    \n",
    "    def set_name(self, topic_name):\n",
    "        self.topic_name = topic_name"
   ]
  },
  {
   "cell_type": "code",
   "execution_count": 10,
   "metadata": {},
   "outputs": [
    {
     "data": {
      "text/plain": [
       "'삼성전자'"
      ]
     },
     "execution_count": 10,
     "metadata": {},
     "output_type": "execute_result"
    }
   ],
   "source": [
    "a = Stock()\n",
    "a.set_name(\"삼성전자\")\n",
    "a.topic_name"
   ]
  },
  {
   "cell_type": "markdown",
   "metadata": {},
   "source": [
    "# 객체에 종목코드를 입력할 수 있는 set_code 메서드를 추가 해봅니다.\n",
    "- 입력 예\n",
    "```\n",
    "  a = Stock()\n",
    "  a.set_code(\"005930\")\n",
    "```"
   ]
  },
  {
   "cell_type": "code",
   "execution_count": 11,
   "metadata": {},
   "outputs": [],
   "source": [
    "class Stock:\n",
    "    #종목명: topic_name, 종목 코드:topic_code\n",
    "    def __init__(self, topic_name = '', topic_code = ''):\n",
    "        self.topic_name = topic_name\n",
    "        self.topic_code = topic_code\n",
    "    \n",
    "    def set_name(self, topic_name):\n",
    "        self.topic_name = topic_name\n",
    "        \n",
    "    def set_code(self, topic_code):\n",
    "        self.topic_code = topic_code"
   ]
  },
  {
   "cell_type": "code",
   "execution_count": 12,
   "metadata": {},
   "outputs": [
    {
     "data": {
      "text/plain": [
       "'005930'"
      ]
     },
     "execution_count": 12,
     "metadata": {},
     "output_type": "execute_result"
    }
   ],
   "source": [
    "a = Stock()\n",
    "a.set_code(\"005930\")\n",
    "a.topic_code"
   ]
  },
  {
   "cell_type": "markdown",
   "metadata": {},
   "source": [
    "# 생성자에서 종목명, 종목코드, PER, PBR, 배당수익률을 입력 받을 수 있도록 생성자를 수정 해봅니다."
   ]
  },
  {
   "cell_type": "code",
   "execution_count": 30,
   "metadata": {},
   "outputs": [],
   "source": [
    "class Stock:\n",
    "    #종목명: topic_name, 종목 코드:topic_code\n",
    "    #d_yield : 배당수익률\n",
    "    def __init__(self, topic_name = '', topic_code = '', PER = 0, PBR = 0, d_yield = 0 ):\n",
    "        self.topic_name = topic_name\n",
    "        self.topic_code = topic_code\n",
    "        self.PER = PER\n",
    "        self.PBR = PBR\n",
    "        self.d_yield = d_yield\n",
    "    \n",
    "    def set_name(self, topic_name):\n",
    "        self.topic_name = topic_name\n",
    "        \n",
    "    def set_code(self, topic_code):\n",
    "        self.topic_code = topic_code"
   ]
  },
  {
   "cell_type": "markdown",
   "metadata": {},
   "source": [
    "# 수정된 생성자를 통해 다음의 객체를 생성 해봅니다.\n",
    "- github 참조"
   ]
  },
  {
   "cell_type": "code",
   "execution_count": 31,
   "metadata": {},
   "outputs": [
    {
     "name": "stdout",
     "output_type": "stream",
     "text": [
      "삼성전자\n",
      "005930\n",
      "15.79\n",
      "1.33\n",
      "2.83\n"
     ]
    }
   ],
   "source": [
    "stock1 = Stock('삼성전자', '005930', 15.79, 1.33, 2.83)\n",
    "print(stock1.topic_name)\n",
    "print(stock1.topic_code)\n",
    "print(stock1.PER)\n",
    "print(stock1.PBR)\n",
    "print(stock1.d_yield)"
   ]
  },
  {
   "cell_type": "markdown",
   "metadata": {},
   "source": [
    "# 여러 종목의 객체를 생성해보겠습니다.\n",
    "- github 참조"
   ]
  },
  {
   "cell_type": "code",
   "execution_count": 18,
   "metadata": {},
   "outputs": [
    {
     "name": "stdout",
     "output_type": "stream",
     "text": [
      "삼성전자 현대차 LG전자\n",
      "005930 005380 066570\n",
      "15.79 8.7 317.34\n",
      "1.33 0.35 0.69\n",
      "2.83 4.27 1.37\n"
     ]
    }
   ],
   "source": [
    "stock1 = Stock('삼성전자', '005930', 15.79, 1.33, 2.83)\n",
    "stock2 = Stock('현대차', '005380', 8.70, 0.35, 4.27)\n",
    "stock3 = Stock('LG전자', '066570', 317.34, 0.69, 1.37)\n",
    "print(stock1.topic_name, stock2.topic_name, stock3.topic_name)\n",
    "print(stock1.topic_code, stock2.topic_code, stock3.topic_code)\n",
    "print(stock1.PER, stock2.PER, stock3.PER)\n",
    "print(stock1.PBR, stock2.PBR, stock3.PBR)\n",
    "print(stock1.d_yield, stock2.d_yield, stock3.d_yield)"
   ]
  },
  {
   "cell_type": "markdown",
   "metadata": {},
   "source": [
    "# 자습_파이썬 표만들기"
   ]
  },
  {
   "cell_type": "code",
   "execution_count": 38,
   "metadata": {},
   "outputs": [
    {
     "name": "stdout",
     "output_type": "stream",
     "text": [
      "      항목      정보\n",
      "0    종목명    삼성전자\n",
      "1   종목코드  005930\n",
      "2    PER   15.79\n",
      "3    PBR    1.33\n",
      "4  배당수익률    2.83\n"
     ]
    }
   ],
   "source": [
    "#표만들기 (자습)\n",
    "stock1 = Stock('삼성전자', '005930', 15.79, 1.33, 2.83)\n",
    "a = stock1.topic_name\n",
    "b = stock1.topic_code\n",
    "c = stock1.PER\n",
    "d = stock1.PBR\n",
    "e = stock1.d_yield\n",
    "from pandas import Series, DataFrame\n",
    "\n",
    "raw_data = {'항목' : ['종목명', '종목코드', 'PER', 'PBR', '배당수익률'],\n",
    "            '정보' : [a, b, c, d, e]}\n",
    "\n",
    "data = DataFrame(raw_data)\n",
    "print(data)"
   ]
  }
 ],
 "metadata": {
  "kernelspec": {
   "display_name": "Python 3",
   "language": "python",
   "name": "python3"
  },
  "language_info": {
   "codemirror_mode": {
    "name": "ipython",
    "version": 3
   },
   "file_extension": ".py",
   "mimetype": "text/x-python",
   "name": "python",
   "nbconvert_exporter": "python",
   "pygments_lexer": "ipython3",
   "version": "3.7.4"
  }
 },
 "nbformat": 4,
 "nbformat_minor": 2
}
