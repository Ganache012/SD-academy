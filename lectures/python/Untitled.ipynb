{
 "cells": [
  {
   "cell_type": "markdown",
   "metadata": {},
   "source": [
    "# 타입 캐스팅과 문자열 포맷팅"
   ]
  },
  {
   "cell_type": "code",
   "execution_count": 5,
   "metadata": {},
   "outputs": [
    {
     "name": "stdout",
     "output_type": "stream",
     "text": [
      "<class 'int'>\n",
      "<class 'str'>\n",
      "2\n",
      "hello2\n"
     ]
    }
   ],
   "source": [
    "var = 2\n",
    "print( type(var) )\n",
    "var = str(var)\n",
    "print( type(var) )\n",
    "print(var)\n",
    "\n",
    "print( 'hello' + var)"
   ]
  },
  {
   "cell_type": "code",
   "execution_count": 8,
   "metadata": {},
   "outputs": [
    {
     "name": "stdout",
     "output_type": "stream",
     "text": [
      "<class 'str'>\n",
      "<class 'int'>\n",
      "3\n"
     ]
    }
   ],
   "source": [
    "var = '2'\n",
    "print(type(var))\n",
    "print(type( int(var) ))\n",
    "print( 1 + int(var) )"
   ]
  },
  {
   "cell_type": "code",
   "execution_count": 9,
   "metadata": {},
   "outputs": [
    {
     "ename": "ValueError",
     "evalue": "invalid literal for int() with base 10: 'hello'",
     "output_type": "error",
     "traceback": [
      "\u001b[0;31m---------------------------------------------------------------------------\u001b[0m",
      "\u001b[0;31mValueError\u001b[0m                                Traceback (most recent call last)",
      "\u001b[0;32m<ipython-input-9-015210ef9d8c>\u001b[0m in \u001b[0;36m<module>\u001b[0;34m\u001b[0m\n\u001b[1;32m      1\u001b[0m \u001b[0mvar\u001b[0m \u001b[0;34m=\u001b[0m \u001b[0;34m'hello'\u001b[0m\u001b[0;34m\u001b[0m\u001b[0;34m\u001b[0m\u001b[0m\n\u001b[0;32m----> 2\u001b[0;31m \u001b[0mint\u001b[0m\u001b[0;34m(\u001b[0m\u001b[0mvar\u001b[0m\u001b[0;34m)\u001b[0m\u001b[0;34m\u001b[0m\u001b[0;34m\u001b[0m\u001b[0m\n\u001b[0m",
      "\u001b[0;31mValueError\u001b[0m: invalid literal for int() with base 10: 'hello'"
     ]
    }
   ],
   "source": [
    "var = 'hello'\n",
    "int(var)"
   ]
  },
  {
   "cell_type": "code",
   "execution_count": 10,
   "metadata": {},
   "outputs": [
    {
     "data": {
      "text/plain": [
       "'The sum of 1 + 2 is 3'"
      ]
     },
     "execution_count": 10,
     "metadata": {},
     "output_type": "execute_result"
    }
   ],
   "source": [
    "\"The sum of 1 + 2 is {0}\".format(1+2)"
   ]
  },
  {
   "cell_type": "code",
   "execution_count": 11,
   "metadata": {},
   "outputs": [
    {
     "data": {
      "text/plain": [
       "'2 x 1 = 2'"
      ]
     },
     "execution_count": 11,
     "metadata": {},
     "output_type": "execute_result"
    }
   ],
   "source": [
    "\"2 x {} = {}\".format( 1, 2)"
   ]
  },
  {
   "cell_type": "markdown",
   "metadata": {},
   "source": [
    "# x 보다 작은 수 모두 출력하기\n",
    "\n",
    "주어진 리스트에서 x보다 작은 수를 모두 출력하시면 됩니다. \n",
    "```\n",
    "    x = 5\n",
    "    [ 1, 10, 4, 9, 2, 3, 8, 5, 7, 6 ]\n",
    "```"
   ]
  },
  {
   "cell_type": "code",
   "execution_count": 17,
   "metadata": {},
   "outputs": [
    {
     "name": "stdout",
     "output_type": "stream",
     "text": [
      "1\n",
      "4\n",
      "2\n",
      "3\n"
     ]
    }
   ],
   "source": [
    "lists = [1, 10, 4, 9, 2, 3, 8, 5, 7, 6]\n",
    "x = 5\n",
    "\n",
    "for i in lists:\n",
    "    if i < x:\n",
    "        print(i)\n"
   ]
  },
  {
   "cell_type": "markdown",
   "metadata": {},
   "source": [
    "# 주어진 리스트의 점수를 새로 계산하는 프로그램을 작성\n",
    "\n",
    "```\n",
    "    [10, 20, 30]\n",
    "    M = 30\n",
    "    \n",
    "    ex). 첫번째 원소: 10\n",
    "    => 10/M * 100 => 10/30 * 100 = 33.33333333\n",
    "```"
   ]
  },
  {
   "cell_type": "code",
   "execution_count": 11,
   "metadata": {},
   "outputs": [
    {
     "name": "stdout",
     "output_type": "stream",
     "text": [
      "[40, 80, 60]\n",
      "[0, 1, 2]\n",
      "[50.0, 100.0, 75.0]\n"
     ]
    }
   ],
   "source": [
    "lists = [40, 80, 60]\n",
    "# M = max(lists) !!! 추천\n",
    "\n",
    "M = 0\n",
    "# 1). M < 40: M = 40\n",
    "# 2). M < 80: M = 80\n",
    "# 3). M < 60: skip\n",
    "\n",
    "for element in lists:\n",
    "    if M < element:\n",
    "        M = element\n",
    "# print(M) = 80\n",
    "\n",
    "print(lists)\n",
    "print( list(range(3)))\n",
    "for i in range( 3 ):\n",
    "    # print(i)\n",
    "    # print( lists[i] )\n",
    "    lists[i] = lists[i] / M * 100\n",
    "print(lists)"
   ]
  },
  {
   "cell_type": "markdown",
   "metadata": {},
   "source": [
    "# 주어진 문자열의 총합을 구해봅시다.\n",
    "\n",
    "```\n",
    "    '29384752834'\n",
    "```"
   ]
  },
  {
   "cell_type": "code",
   "execution_count": 20,
   "metadata": {},
   "outputs": [
    {
     "name": "stdout",
     "output_type": "stream",
     "text": [
      "55\n",
      "55\n"
     ]
    }
   ],
   "source": [
    "string = '29384752834'\n",
    "\n",
    "total = 0\n",
    "for ch in string:\n",
    "    #print(ch)\n",
    "    total += int(ch)\n",
    "print(total)\n",
    "\n",
    "total = 0\n",
    "for i in range( len(string) ):\n",
    "    #print(string[i])\n",
    "    total += int(string[i])\n",
    "print(total)"
   ]
  },
  {
   "cell_type": "markdown",
   "metadata": {},
   "source": [
    "# 단어의 갯수를 세어봅시다. \n",
    "\n",
    "```\n",
    "'The Curious Case of Benjamin Button'\n",
    "```"
   ]
  },
  {
   "cell_type": "code",
   "execution_count": 23,
   "metadata": {},
   "outputs": [
    {
     "name": "stdout",
     "output_type": "stream",
     "text": [
      "5\n"
     ]
    }
   ],
   "source": [
    "string = 'The Curious Case of Benjamin Button'\n",
    "cnt = 0\n",
    "\n",
    "# 단어의 갯수 == 화이트 스페이스의 갯수\n",
    "\n",
    "for ch in string:\n",
    "    if ch == ' ':\n",
    "        cnt += 1\n",
    "\n",
    "print(cnt)"
   ]
  },
  {
   "cell_type": "markdown",
   "metadata": {},
   "source": [
    "# 갯수 세어보기 두 번째\n",
    "\n",
    "```\n",
    "    '1098237489215923874'\n",
    "```\n",
    "\n",
    "주어진 문자열에서 0 에서 9까지 각 숫자가 몇번 나왔는지 구해봅시다. "
   ]
  },
  {
   "cell_type": "code",
   "execution_count": 1,
   "metadata": {},
   "outputs": [
    {
     "name": "stdout",
     "output_type": "stream",
     "text": [
      "[1, 2, 3, 2, 2, 1, 0, 2, 3, 3]\n"
     ]
    }
   ],
   "source": [
    "string = '1098237489215923874'\n",
    "cnt = [0,0,0,0,0,0,0,0,0,0]\n",
    "\n",
    "for ch in string:\n",
    "    cnt[int(ch)] += 1\n",
    "print(cnt)"
   ]
  },
  {
   "cell_type": "markdown",
   "metadata": {},
   "source": [
    "# 충첩 루프(루프의 루프)\n",
    "\n",
    "```\n",
    "    단 = [ 2, 3, 4, 5, 6, 7, 8, 9 ]\n",
    "    리스트 = [ 1, 2, 3, 4, 5, 6, 7, 8, 9 ]\n",
    "```"
   ]
  },
  {
   "cell_type": "code",
   "execution_count": 3,
   "metadata": {},
   "outputs": [
    {
     "name": "stdout",
     "output_type": "stream",
     "text": [
      "2 x 1 = 2\n",
      "2 x 2 = 4\n",
      "2 x 3 = 6\n",
      "2 x 4 = 8\n",
      "2 x 5 = 10\n",
      "2 x 6 = 12\n",
      "2 x 7 = 14\n",
      "2 x 8 = 16\n",
      "2 x 9 = 18\n",
      "3 x 1 = 3\n",
      "3 x 2 = 6\n",
      "3 x 3 = 9\n",
      "3 x 4 = 12\n",
      "3 x 5 = 15\n",
      "3 x 6 = 18\n",
      "3 x 7 = 21\n",
      "3 x 8 = 24\n",
      "3 x 9 = 27\n",
      "4 x 1 = 4\n",
      "4 x 2 = 8\n",
      "4 x 3 = 12\n",
      "4 x 4 = 16\n",
      "4 x 5 = 20\n",
      "4 x 6 = 24\n",
      "4 x 7 = 28\n",
      "4 x 8 = 32\n",
      "4 x 9 = 36\n",
      "5 x 1 = 5\n",
      "5 x 2 = 10\n",
      "5 x 3 = 15\n",
      "5 x 4 = 20\n",
      "5 x 5 = 25\n",
      "5 x 6 = 30\n",
      "5 x 7 = 35\n",
      "5 x 8 = 40\n",
      "5 x 9 = 45\n",
      "6 x 1 = 6\n",
      "6 x 2 = 12\n",
      "6 x 3 = 18\n",
      "6 x 4 = 24\n",
      "6 x 5 = 30\n",
      "6 x 6 = 36\n",
      "6 x 7 = 42\n",
      "6 x 8 = 48\n",
      "6 x 9 = 54\n",
      "7 x 1 = 7\n",
      "7 x 2 = 14\n",
      "7 x 3 = 21\n",
      "7 x 4 = 28\n",
      "7 x 5 = 35\n",
      "7 x 6 = 42\n",
      "7 x 7 = 49\n",
      "7 x 8 = 56\n",
      "7 x 9 = 63\n",
      "8 x 1 = 8\n",
      "8 x 2 = 16\n",
      "8 x 3 = 24\n",
      "8 x 4 = 32\n",
      "8 x 5 = 40\n",
      "8 x 6 = 48\n",
      "8 x 7 = 56\n",
      "8 x 8 = 64\n",
      "8 x 9 = 72\n",
      "9 x 1 = 9\n",
      "9 x 2 = 18\n",
      "9 x 3 = 27\n",
      "9 x 4 = 36\n",
      "9 x 5 = 45\n",
      "9 x 6 = 54\n",
      "9 x 7 = 63\n",
      "9 x 8 = 72\n",
      "9 x 9 = 81\n"
     ]
    }
   ],
   "source": [
    "n = [2,3,4,5,6,7,8,9]\n",
    "m = [1,2,3,4,5,6,7,8,9]\n",
    "\n",
    "for 단 in n:\n",
    "    # print('단: ' + str(단))\n",
    "    for i in m:\n",
    "        # print('숫자: ' + str(i))\n",
    "        print('{} x {} = {}'.format(단, i, 단*i) )"
   ]
  },
  {
   "cell_type": "markdown",
   "metadata": {},
   "source": [
    "# 함수(function)\n",
    "\n",
    "- 수학적인 함수와는 다릅니다. \n",
    "\n",
    "```\n",
    "def 함수명(arguments, ... ):\n",
    "    pass\n",
    "```"
   ]
  },
  {
   "cell_type": "code",
   "execution_count": 17,
   "metadata": {},
   "outputs": [],
   "source": [
    "def func(lists=[]):\n",
    "    M = 0\n",
    "    for element in lists:\n",
    "        if M < element:\n",
    "            M = element\n",
    "    return M\n",
    "            \n",
    "n = func([1,2,3,4,5,6])"
   ]
  },
  {
   "cell_type": "code",
   "execution_count": 18,
   "metadata": {},
   "outputs": [
    {
     "data": {
      "text/plain": [
       "6"
      ]
     },
     "execution_count": 18,
     "metadata": {},
     "output_type": "execute_result"
    }
   ],
   "source": [
    "n"
   ]
  },
  {
   "cell_type": "code",
   "execution_count": 23,
   "metadata": {},
   "outputs": [
    {
     "data": {
      "text/plain": [
       "6"
      ]
     },
     "execution_count": 23,
     "metadata": {},
     "output_type": "execute_result"
    }
   ],
   "source": [
    "string = 'The Curious Case of Benjamin Button'\n",
    "\n",
    "number_of_count = string.split(sep=' ')\n",
    "len(word_count)"
   ]
  },
  {
   "cell_type": "markdown",
   "metadata": {},
   "source": [
    "# 입/출력\n",
    "\n",
    "## 1. 표준 입출력\n",
    "## 2. 파일 읽기/쓰기\n",
    "## 3. 네트워크 통신 "
   ]
  },
  {
   "cell_type": "markdown",
   "metadata": {},
   "source": [
    "# 표준 입/출력\n",
    "\n",
    "- 표준 입력 장치로부터 받은 입력을\n",
    "  표준 출력 장치로 출력"
   ]
  },
  {
   "cell_type": "code",
   "execution_count": 7,
   "metadata": {},
   "outputs": [
    {
     "name": "stdout",
     "output_type": "stream",
     "text": [
      "1234\n"
     ]
    }
   ],
   "source": [
    "n = input()"
   ]
  },
  {
   "cell_type": "code",
   "execution_count": 8,
   "metadata": {},
   "outputs": [
    {
     "data": {
      "text/plain": [
       "'1234'"
      ]
     },
     "execution_count": 8,
     "metadata": {},
     "output_type": "execute_result"
    }
   ],
   "source": [
    "n"
   ]
  },
  {
   "cell_type": "code",
   "execution_count": 1,
   "metadata": {},
   "outputs": [
    {
     "name": "stdout",
     "output_type": "stream",
     "text": [
      "3\n",
      "3 x 1 = 3\n",
      "3 x 2 = 6\n",
      "3 x 3 = 9\n",
      "3 x 4 = 12\n",
      "3 x 5 = 15\n",
      "3 x 6 = 18\n",
      "3 x 7 = 21\n",
      "3 x 8 = 24\n",
      "3 x 9 = 27\n"
     ]
    }
   ],
   "source": [
    "n = input()\n",
    "n = int(n)\n",
    "\n",
    "for i in range(1, 10):\n",
    "    print('{} x {} = {}'.format(int(n), i, n*i) )"
   ]
  },
  {
   "cell_type": "markdown",
   "metadata": {},
   "source": [
    "# 입출력 첫번째 표준 입출력\n",
    "\n",
    "- input(), print()\n",
    "- input() 같은 경우 블록함수로써, 입력이 들어올때 까지 대기\n",
    "- input() 함수로 입력받는 경우 자료형은 문자열이다"
   ]
  },
  {
   "cell_type": "markdown",
   "metadata": {},
   "source": [
    "# 두 수를 입력받아, 입력받은 두 수의 합을 구해 봅시다."
   ]
  },
  {
   "cell_type": "code",
   "execution_count": 15,
   "metadata": {},
   "outputs": [
    {
     "name": "stdout",
     "output_type": "stream",
     "text": [
      "두 수를 입력하세요: 1,3\n",
      "입력된 두 수의 합은 4 입니다.\n"
     ]
    }
   ],
   "source": [
    "#n = input(\"첫번째 수를 입력하세요: \")\n",
    "#m = input(\"두번째 수를 입력하세요: \")\n",
    "\n",
    "tmp = input(\"두 수를 입력하세요: \")\n",
    "n, m = tmp.split(sep = ',')\n",
    "\n",
    "# validation\n",
    "if n.isdecimal() and m.isdecimal():\n",
    "    n = int(n)\n",
    "    m = int(m)\n",
    "    print(\"입력된 두 수의 합은 {} 입니다.\".format(n+m))\n",
    "else:\n",
    "    print(\"계산할 수 없는 값이 입력되었습니다.\")"
   ]
  },
  {
   "cell_type": "code",
   "execution_count": 16,
   "metadata": {},
   "outputs": [
    {
     "data": {
      "text/plain": [
       "3"
      ]
     },
     "execution_count": 16,
     "metadata": {},
     "output_type": "execute_result"
    }
   ],
   "source": [
    "m"
   ]
  },
  {
   "cell_type": "markdown",
   "metadata": {},
   "source": [
    "# 입출력 두번쨰 파일 읽고/쓰기"
   ]
  },
  {
   "cell_type": "code",
   "execution_count": 26,
   "metadata": {},
   "outputs": [
    {
     "name": "stdout",
     "output_type": "stream",
     "text": [
      "Lorem ipsum dolor sit amet, consectetur adipiscing elit.\n",
      "\n",
      "Sed condimentum nunc vel nibh fermentum, vitae dignissim nulla elementum.\n",
      "\n",
      "Maecenas non magna suscipit, vehicula dolor nec, tempor mauris.\n",
      "\n",
      "Sed pulvinar dui id eros aliquam, ac dapibus nulla rhoncus.\n",
      "\n",
      "Maecenas sit amet sem suscipit, aliquet lacus at, gravida tellus.\n",
      "\n",
      "Duis et nisl ultrices purus volutpat ultricies.\n",
      "\n",
      "Nulla varius quam ut viverra eleifend.\n",
      "\n",
      "Mauris ac sem eget urna mollis ullamcorper.\n",
      "\n",
      "Maecenas porttitor risus a magna dictum, in aliquet diam semper.\n"
     ]
    }
   ],
   "source": [
    "#open(\"/workspace/sd_jupyter/open.txt\") # 절대경로\n",
    "\n",
    "file = open(\"../../open.txt\") #상대 경로\n",
    "#file.read()\n",
    "#print(file.readline() )\n",
    "#print(file.readline() )\n",
    "\n",
    "for line in file.readlines():\n",
    "    print(line)\n",
    "\n",
    "file.close() #중요!"
   ]
  },
  {
   "cell_type": "code",
   "execution_count": 28,
   "metadata": {},
   "outputs": [],
   "source": [
    "file = open(\"../../open.txt\", mode='w')\n",
    "file.write(\"전성원\")\n",
    "file.close()"
   ]
  },
  {
   "cell_type": "code",
   "execution_count": 33,
   "metadata": {},
   "outputs": [
    {
     "name": "stdout",
     "output_type": "stream",
     "text": [
      "Lorem ipsum dolor sit amet, consectetur adipiscing elit.\n",
      "\n",
      "Sed condimentum nunc vel nibh fermentum, vitae dignissim nulla elementum.\n",
      "\n",
      "Maecenas non magna suscipit, vehicula dolor nec, tempor mauris.\n",
      "\n",
      "Sed pulvinar dui id eros aliquam, ac dapibus nulla rhoncus.\n",
      "\n",
      "Maecenas sit amet sem suscipit, aliquet lacus at, gravida tellus.\n",
      "\n",
      "Duis et nisl ultrices purus volutpat ultricies.\n",
      "\n",
      "Nulla varius quam ut viverra eleifend.\n",
      "\n",
      "Mauris ac sem eget urna mollis ullamcorper.\n",
      "\n",
      "Maecenas porttitor risus a magna dictum, in aliquet diam semper.\n"
     ]
    }
   ],
   "source": [
    "#f = open(...)\n",
    "with open(\"../../open.txt\" , mode = 'r') as f:\n",
    "    print(f.readline() )\n",
    "    for line in f.readlines():\n",
    "        print(line)"
   ]
  },
  {
   "cell_type": "markdown",
   "metadata": {},
   "source": [
    "# 입출력 세번째 네트워크"
   ]
  },
  {
   "cell_type": "code",
   "execution_count": 1,
   "metadata": {},
   "outputs": [
    {
     "name": "stdout",
     "output_type": "stream",
     "text": [
      "우왕\n"
     ]
    }
   ],
   "source": [
    "print('우왕')"
   ]
  },
  {
   "cell_type": "markdown",
   "metadata": {},
   "source": [
    "# 함수(재귀함수)"
   ]
  },
  {
   "cell_type": "code",
   "execution_count": 2,
   "metadata": {},
   "outputs": [
    {
     "name": "stdout",
     "output_type": "stream",
     "text": [
      "1\n",
      "2\n",
      "3\n",
      "4\n",
      "5\n",
      "6\n",
      "7\n",
      "8\n",
      "9\n",
      "10\n",
      "11\n"
     ]
    }
   ],
   "source": [
    "#덧셈(1부터 10까지의 합)\n",
    "\n",
    "for i in range(11):\n",
    "    i = i + 1\n",
    "    print(i)"
   ]
  },
  {
   "cell_type": "code",
   "execution_count": 3,
   "metadata": {},
   "outputs": [
    {
     "name": "stdout",
     "output_type": "stream",
     "text": [
      "55\n"
     ]
    }
   ],
   "source": [
    "def recursive(n):\n",
    "    if n <= 1:\n",
    "        return 1\n",
    "    return n + recursive(n-1)\n",
    "\n",
    "recursive(10)\n",
    "print(recursive(10))"
   ]
  },
  {
   "cell_type": "markdown",
   "metadata": {},
   "source": [
    "# 피보나치 수열\n",
    "```\n",
    "   F = 0\n",
    "   F_1 = 1\n",
    "   F_2 = F_1 + F_0\n",
    "   F_3 = F_2 + F_1\n",
    "   ...\n",
    "   F_n = F_(n-1) + F_(n-2)\n",
    "```"
   ]
  },
  {
   "cell_type": "markdown",
   "metadata": {},
   "source": [
    "# n번째 피보나치의 수는 무엇인가?\n",
    "\n",
    "- ex). fibonachi(12)"
   ]
  },
  {
   "cell_type": "code",
   "execution_count": 6,
   "metadata": {},
   "outputs": [
    {
     "name": "stdout",
     "output_type": "stream",
     "text": [
      "26863810024485359386146727202142923967616609318986952340123175997617981700247881689338369654483356564191827856161443356312976673642210350324634850410377680367334151172899169723197082763985615764450078474174626\n"
     ]
    }
   ],
   "source": [
    "n = 1000\n",
    "fibo = [ 0 , 1 ]\n",
    "\n",
    "for i in range(2, n):\n",
    "    fibo.append( fibo[i-1] + fibo[i-2])\n",
    "\n",
    "print(fibo[n-1])    "
   ]
  },
  {
   "cell_type": "code",
   "execution_count": 12,
   "metadata": {},
   "outputs": [
    {
     "data": {
      "text/plain": [
       "75025"
      ]
     },
     "execution_count": 12,
     "metadata": {},
     "output_type": "execute_result"
    }
   ],
   "source": [
    "def fibonachi(n):\n",
    "    if n <= 1:\n",
    "        return n\n",
    "    else:\n",
    "        return fibonachi(n-1) + fibonachi(n-2)\n",
    "fibonachi(25)"
   ]
  },
  {
   "cell_type": "code",
   "execution_count": null,
   "metadata": {},
   "outputs": [],
   "source": []
  }
 ],
 "metadata": {
  "kernelspec": {
   "display_name": "Python 3",
   "language": "python",
   "name": "python3"
  },
  "language_info": {
   "codemirror_mode": {
    "name": "ipython",
    "version": 3
   },
   "file_extension": ".py",
   "mimetype": "text/x-python",
   "name": "python",
   "nbconvert_exporter": "python",
   "pygments_lexer": "ipython3",
   "version": "3.7.4"
  }
 },
 "nbformat": 4,
 "nbformat_minor": 2
}
