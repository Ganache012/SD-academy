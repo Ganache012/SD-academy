{
 "cells": [
  {
   "cell_type": "markdown",
   "metadata": {},
   "source": [
    "# 완전탐색을 알아봅시다. (brute-force)\n",
    "- Brute-Force(무작위)"
   ]
  },
  {
   "cell_type": "markdown",
   "metadata": {},
   "source": [
    "## 주어진 문자열을 이용해 만들 수 있는 모든 문자열의 조합\n",
    "\n",
    "- 어떻게 만들어 낼 수 있을 것인가?"
   ]
  },
  {
   "cell_type": "code",
   "execution_count": 5,
   "metadata": {},
   "outputs": [
    {
     "name": "stdout",
     "output_type": "stream",
     "text": [
      "aaa\n",
      "aab\n",
      "aac\n",
      "aba\n",
      "abb\n",
      "abc\n",
      "aca\n",
      "acb\n",
      "acc\n",
      "baa\n",
      "bab\n",
      "bac\n",
      "bba\n",
      "bbb\n",
      "bbc\n",
      "bca\n",
      "bcb\n",
      "bcc\n",
      "caa\n",
      "cab\n",
      "cac\n",
      "cba\n",
      "cbb\n",
      "cbc\n",
      "cca\n",
      "ccb\n",
      "ccc\n"
     ]
    }
   ],
   "source": [
    "#완전탐색의 예: 순서와 중복에 상관없이 모든 조합을 찾는 방법\n",
    "alphabet = ['a', 'b', 'c']\n",
    "\n",
    "for first in alphabet:\n",
    "    for second in alphabet:\n",
    "        for third in alphabet:\n",
    "            print('{}{}{}'.format(first, second, third))"
   ]
  },
  {
   "cell_type": "code",
   "execution_count": 10,
   "metadata": {},
   "outputs": [
    {
     "name": "stdout",
     "output_type": "stream",
     "text": [
      "abc\n"
     ]
    }
   ],
   "source": [
    "#완전탐색의 예: 중복되지 않은 조합일 경우(중복만 고려, 순서 상관없음)\n",
    "alphabet = 'abc'\n",
    "\n",
    "for i in range(0, len(alphabet)):\n",
    "    for j in range(i+1, len(alphabet)):\n",
    "        for k in range(j+1, len(alphabet)):\n",
    "            print('{}{}{}'.format(alphabet[i], alphabet[j], alphabet[k]))"
   ]
  },
  {
   "cell_type": "code",
   "execution_count": 21,
   "metadata": {},
   "outputs": [
    {
     "name": "stdout",
     "output_type": "stream",
     "text": [
      "['b', 'c'] ['a']\n",
      "['a', 'c'] ['b']\n",
      "['a', 'b'] ['c']\n"
     ]
    }
   ],
   "source": [
    "#완전탐색의 예: 중복되지 않은 조합일 경우(중복만 고려, 순서 상관없음)\n",
    "#alphabet = 'abc' #튜플(비가변형)이기 때문에 제거가 되지 않음\n",
    "alphabet = ['a', 'b', 'c']\n",
    "memoization1 = []\n",
    "\n",
    "for i in range(0, len(alphabet)):\n",
    "    # 선택된 원소를 제외하고 다음 루프에 전달(쉬움)\n",
    "    if len(memoization1) != 0:\n",
    "        alphabet.insert(i-1, memoization1.pop())\n",
    "    memoization1.append(alphabet.pop(i))\n",
    "    print(alphabet, memoization1)"
   ]
  },
  {
   "cell_type": "markdown",
   "metadata": {},
   "source": [
    "### 동작과정\n",
    "\n",
    "- 첫번째 루프\n",
    "```\n",
    "alpha = [ 0:'a', 1:'b', 2:'c']\n",
    "memoization = []\n",
    "\n",
    "  loop 0:\n",
    "      if memoization의 크기가 0이 아니면:\n",
    "          x = memoization.pop\n",
    "          alpha[0-1, x]\n",
    "      else memoization에 기록된게 없으므로:\n",
    "          alpha의 0번째 원소를 제거하고, memoization에 기록\n",
    "          alpha = [0:_, 1:'b', 2:'c'], memoization = [0:'a']\n",
    "```\n",
    "\n",
    "- 두번째 루프\n",
    "```\n",
    "alpha = [0:'b', 1:'c']\n",
    "memoization = [0:'a']\n",
    "\n",
    "  loop 0: \n",
    "      if memoization의 크기가 1이 아니면:\n",
    "          x = memoization.pop(-1)\n",
    "          alpha[0-1, x]\n",
    "      else memoization에 기록된게 없으므로:\n",
    "          alpha의 0번째 원소를 제거하고, memoization에 기록\n",
    "          alpha = [0:_, 1:'c'], memoization = [0:'a', 1:'b']\n",
    "```\n",
    "\n",
    "- 세번째 루프\n",
    "```\n",
    "alpha = [0:'c']\n",
    "memoization = [0:'a', 1:'b']\n",
    "\n",
    "  loop 0: \n",
    "      alpha[0]의 내용을 출력\n",
    "```\n",
    "- 두번째 루프(다시)\n",
    "```\n",
    "alpha = [0:'c']\n",
    "memoization = [0:'a', 1:'b']\n",
    "\n",
    "  loop 1: \n",
    "      if memoization의 크기가 1이 아니면:\n",
    "          x = memoization.pop(-1)\n",
    "          alpha.insert[1-1, x]\n",
    "          alpha = [0:'b', 1:'c'], memoization = [0:'a']\n",
    "          alpha = [0:'b', 1:_], memoization = [0:'a', 1:'c']\n",
    "```\n",
    "- 세번째 루프\n",
    "```\n",
    "alpha = [0:'b']\n",
    "memoization = [0:'a', 1:'c']\n",
    "\n",
    "  loop 0: \n",
    "      alpha[0]의 내용을 출력\n",
    "```"
   ]
  },
  {
   "cell_type": "code",
   "execution_count": 9,
   "metadata": {},
   "outputs": [
    {
     "name": "stdout",
     "output_type": "stream",
     "text": [
      "abc\n",
      "cb\n",
      "bbc\n"
     ]
    },
    {
     "ename": "IndexError",
     "evalue": "list index out of range",
     "output_type": "error",
     "traceback": [
      "\u001b[0;31m---------------------------------------------------------------------------\u001b[0m",
      "\u001b[0;31mIndexError\u001b[0m                                Traceback (most recent call last)",
      "\u001b[0;32m<ipython-input-9-bf40bdf0fde3>\u001b[0m in \u001b[0;36m<module>\u001b[0;34m\u001b[0m\n\u001b[1;32m      9\u001b[0m         \u001b[0malphabet\u001b[0m\u001b[0;34m.\u001b[0m\u001b[0minsert\u001b[0m\u001b[0;34m(\u001b[0m\u001b[0mi\u001b[0m\u001b[0;34m-\u001b[0m\u001b[0;36m1\u001b[0m\u001b[0;34m,\u001b[0m \u001b[0mmemoization\u001b[0m\u001b[0;34m.\u001b[0m\u001b[0mpop\u001b[0m\u001b[0;34m(\u001b[0m\u001b[0;34m)\u001b[0m\u001b[0;34m)\u001b[0m\u001b[0;34m\u001b[0m\u001b[0;34m\u001b[0m\u001b[0m\n\u001b[1;32m     10\u001b[0m \u001b[0;34m\u001b[0m\u001b[0m\n\u001b[0;32m---> 11\u001b[0;31m     \u001b[0mprint\u001b[0m\u001b[0;34m(\u001b[0m\u001b[0malphabet\u001b[0m\u001b[0;34m[\u001b[0m\u001b[0mi\u001b[0m\u001b[0;34m]\u001b[0m\u001b[0;34m,\u001b[0m\u001b[0mend\u001b[0m\u001b[0;34m=\u001b[0m\u001b[0;34m\"\"\u001b[0m\u001b[0;34m)\u001b[0m\u001b[0;34m\u001b[0m\u001b[0;34m\u001b[0m\u001b[0m\n\u001b[0m\u001b[1;32m     12\u001b[0m     \u001b[0mmemoization\u001b[0m\u001b[0;34m.\u001b[0m\u001b[0mappend\u001b[0m\u001b[0;34m(\u001b[0m\u001b[0malphabet\u001b[0m\u001b[0;34m.\u001b[0m\u001b[0mpop\u001b[0m\u001b[0;34m(\u001b[0m\u001b[0mi\u001b[0m\u001b[0;34m)\u001b[0m\u001b[0;34m)\u001b[0m\u001b[0;34m\u001b[0m\u001b[0;34m\u001b[0m\u001b[0m\n\u001b[1;32m     13\u001b[0m     \u001b[0;31m#print(alphabet, memoization)\u001b[0m\u001b[0;34m\u001b[0m\u001b[0;34m\u001b[0m\u001b[0;34m\u001b[0m\u001b[0m\n",
      "\u001b[0;31mIndexError\u001b[0m: list index out of range"
     ]
    }
   ],
   "source": [
    "# 스택 또는 큐를 이용한 조합\n",
    "#완전탐색의 예: 중복되지 않은 조합일 경우(중복만 고려, 순서 상관없음)\n",
    "alphabet = ['a', 'b', 'c']\n",
    "memoization = []\n",
    "\n",
    "for i in range(0, len(alphabet)):\n",
    "    # 선택된 원소를 제외하고 다음 루프에 전달(쉬움)\n",
    "    if len(memoization) != 0:\n",
    "        alphabet.insert(i-1, memoization.pop())\n",
    "    \n",
    "    print(alphabet[i],end=\"\")\n",
    "    memoization.append(alphabet.pop(i))\n",
    "    #print(alphabet, memoization)\n",
    "    for j in range(len(alphabet)):\n",
    "        if len(memoization) != 1:\n",
    "            alphabet.insert(j-1, memoization.pop(-1))\n",
    "            \n",
    "        print(alphabet[j], end=\"\")\n",
    "        memoization.append(alphabet.pop(j))\n",
    "        \n",
    "        for k in range(len(alphabet)):\n",
    "            print(alphabet[k])"
   ]
  },
  {
   "cell_type": "code",
   "execution_count": null,
   "metadata": {},
   "outputs": [],
   "source": []
  }
 ],
 "metadata": {
  "kernelspec": {
   "display_name": "Python 3",
   "language": "python",
   "name": "python3"
  },
  "language_info": {
   "codemirror_mode": {
    "name": "ipython",
    "version": 3
   },
   "file_extension": ".py",
   "mimetype": "text/x-python",
   "name": "python",
   "nbconvert_exporter": "python",
   "pygments_lexer": "ipython3",
   "version": "3.7.4"
  }
 },
 "nbformat": 4,
 "nbformat_minor": 2
}
