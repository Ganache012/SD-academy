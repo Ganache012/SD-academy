{
 "cells": [
  {
   "cell_type": "markdown",
   "metadata": {},
   "source": [
    "# 함수(function)\n",
    "\n",
    "- 실제로 프로그래밍 언어는 많은 부분에서 수학에서 사용되는 개념을 가져와서 사용하고 있다. \n",
    "- 함수또한 마찬가지이다. \n",
    "- 하지만 엄밀한 의미의 수학적인 함수의 정의와는 다르다. \n",
    "\n",
    "- 함수의 정의는 다음과 같다. \n",
    "```\n",
    "def 함수명(arguments, ... ):\n",
    "    pass\n",
    "```"
   ]
  },
  {
   "cell_type": "markdown",
   "metadata": {},
   "source": [
    "가장 기본적으로 매개변수와 리턴을 갖지 않는 함수가 있다. "
   ]
  },
  {
   "cell_type": "code",
   "execution_count": 2,
   "metadata": {},
   "outputs": [
    {
     "name": "stdout",
     "output_type": "stream",
     "text": [
      "5\n"
     ]
    }
   ],
   "source": [
    "lists = [1,2,3,4,5] # 전역변수\n",
    "def func():\n",
    "    max_ = 0 # 지역변수\n",
    "    for element in lists:\n",
    "        if max_ < element:\n",
    "            max_ = element\n",
    "    print(max_)\n",
    "            \n",
    "func()"
   ]
  },
  {
   "cell_type": "markdown",
   "metadata": {},
   "source": [
    "> 변수의 scope에 대해서는 뒤에서 자세히 다룬다.    "
   ]
  },
  {
   "cell_type": "markdown",
   "metadata": {},
   "source": [
    "- 함수의 실행에 필요한 변수를 함수를 정의할 때, 같이 정의할 수 있는데 \n",
    "- 이 변수들을 매개변수 또는, argument, 인자 등등의 이름으로 불리운다. \n",
    "- 이 매개변수들은 함수의 이름 옆에 있는 괄호안에 작성해주고, 지역변수와 동일하게 취급된다. "
   ]
  },
  {
   "cell_type": "code",
   "execution_count": 3,
   "metadata": {},
   "outputs": [
    {
     "name": "stdout",
     "output_type": "stream",
     "text": [
      "6\n"
     ]
    }
   ],
   "source": [
    "def func(lists): # Callee\n",
    "    max_ = 0\n",
    "    for element in lists:\n",
    "        if max_ < element:\n",
    "            max_ = element\n",
    "    print( max_ )\n",
    "            \n",
    "func([1,2,3,4,5,6]) # Caller"
   ]
  },
  {
   "cell_type": "markdown",
   "metadata": {},
   "source": [
    "> 이때, 함수를 호출하는 부분을 `Caller` 라고 부르며   \n",
    "> 호출 당하는 함수를 `Callee`라고 부른다.    \n",
    "> Caller는 매개변수의 갯수를 반드시 맞춰서 Callee에게 전달해줘야 한다. "
   ]
  },
  {
   "cell_type": "markdown",
   "metadata": {},
   "source": [
    "- 파이썬은 함수의 정의할 때 매개변수의 초기값을 지정할 수 있다. \n",
    "- 이렇게 하면 콜러가 실수로 매개변수를 넘겨주지 않아도 오류를 피할 수 있다. "
   ]
  },
  {
   "cell_type": "code",
   "execution_count": 11,
   "metadata": {},
   "outputs": [
    {
     "name": "stdout",
     "output_type": "stream",
     "text": [
      "0\n"
     ]
    }
   ],
   "source": [
    "def func(lists=[]): # 매개변수의 초기화\n",
    "    max_ = 0\n",
    "    for element in lists:\n",
    "        if max_ < element:\n",
    "            max_ = element\n",
    "    print( max_ )\n",
    "            \n",
    "func()"
   ]
  },
  {
   "cell_type": "markdown",
   "metadata": {},
   "source": [
    "- 전달하려는 매개변수가 여러개 이거나, 가변적인 경우\n",
    "- 즉, 전달하는 변수의 갯수가 호출할 때마다 달라지는 경우에는 다음과 같이 사용이 가능하다. "
   ]
  },
  {
   "cell_type": "code",
   "execution_count": 5,
   "metadata": {},
   "outputs": [
    {
     "name": "stdout",
     "output_type": "stream",
     "text": [
      "(1, 2, 3)\n",
      "(1, 2)\n"
     ]
    }
   ],
   "source": [
    "def func( *args ):\n",
    "    print( args )\n",
    "    \n",
    "func( 1, 2, 3 )\n",
    "func(1,2)"
   ]
  },
  {
   "cell_type": "markdown",
   "metadata": {},
   "source": [
    "- 전달하려는 매개변수가 가변적인데, 인덱스를 따로 가지는 경우는 다음과 같이 사용이 가능하다. "
   ]
  },
  {
   "cell_type": "code",
   "execution_count": 8,
   "metadata": {},
   "outputs": [
    {
     "name": "stdout",
     "output_type": "stream",
     "text": [
      "{'lists': [1, 2, 3], 'age': 12, 'name': 'david'}\n",
      "{'lists': [1, 2, 3]}\n"
     ]
    }
   ],
   "source": [
    "def func( **kargs ):\n",
    "    print( kargs )\n",
    "    \n",
    "func( lists=[1,2,3], age=12, name='david' )\n",
    "func( lists=[1,2,3] )"
   ]
  },
  {
   "cell_type": "markdown",
   "metadata": {},
   "source": [
    "물론 이 둘을 석어서 사용하는 것 또한 가능하다. "
   ]
  },
  {
   "cell_type": "code",
   "execution_count": 9,
   "metadata": {},
   "outputs": [
    {
     "name": "stdout",
     "output_type": "stream",
     "text": [
      "(1, 2, 3)\n",
      "{'lists': [1, 2, 4], 'age': 12}\n"
     ]
    }
   ],
   "source": [
    "def func( *args, **kargs ):\n",
    "    print(args)\n",
    "    print(kargs)\n",
    "    \n",
    "func( 1, 2, 3, lists=[1,2,4], age=12)"
   ]
  },
  {
   "cell_type": "markdown",
   "metadata": {},
   "source": [
    "마지막으로 함수가 리턴을 가질때 이다. "
   ]
  },
  {
   "cell_type": "code",
   "execution_count": 12,
   "metadata": {},
   "outputs": [
    {
     "name": "stdout",
     "output_type": "stream",
     "text": [
      "6\n"
     ]
    }
   ],
   "source": [
    "def func(lists=[]):\n",
    "    max_ = 0\n",
    "    for element in lists:\n",
    "        if max_ < element:\n",
    "            max_ = element\n",
    "    return max_\n",
    "            \n",
    "n = func([1,2,3,4,5,6])\n",
    "print(n)"
   ]
  },
  {
   "cell_type": "markdown",
   "metadata": {},
   "source": [
    "# 변수의 scope\n",
    "- 변수는 정의가 되는 위치에 따라 영향력이 달라진다. \n",
    "- 함수 내부에서 변수가 정의된 경우에는 `지역변수`라고 하며, \n",
    "- 함수를 벗어나서는 변수를 사용할수가 없다. \n",
    "- 함수 바깥쪽에서 정의되는 변수를 `전역변수`라고 하며, \n",
    "- 파일 전체에서 해당 변수를 사용할 수 있다. "
   ]
  },
  {
   "cell_type": "code",
   "execution_count": null,
   "metadata": {},
   "outputs": [],
   "source": [
    "# ret = 0 # 전역변수, global variable\n",
    "def func(lists=[]): # 지역변수\n",
    "    # ret = 0 # 지역변수, local variable\n",
    "    global ret # 지연변수의 전역화\n",
    "    for element in lists:\n",
    "        if ret < element:\n",
    "            ret = element\n",
    "    return ret\n",
    "            \n",
    "n = func([1,2,3])"
   ]
  },
  {
   "cell_type": "markdown",
   "metadata": {},
   "source": [
    "# 람다\n",
    "- 익명함수 라고 하며, 간단하게 한 번 사용하고 더 이상 사용되지 않는 함수인 경우 람다를 이용하면 편리하다. \n",
    "- 람다의 기본형은 다음과 같다. \n",
    "\n",
    "```\n",
    "    lambda (매개변수):표현식\n",
    "```\n",
    "\n",
    "- 멀티라인은 지원되지 않고, 복잡한 형태는 그냥 함수를 정의해놓고 사용하면 된다. \n",
    "- 간단한 형태인 경우에만 사용하도록 하자 \n",
    "- 머신러닝 라이브러리들이 이러한 람다를 꽤나 잘 사용하고 있다. "
   ]
  },
  {
   "cell_type": "code",
   "execution_count": 1,
   "metadata": {},
   "outputs": [
    {
     "data": {
      "text/plain": [
       "30"
      ]
     },
     "execution_count": 1,
     "metadata": {},
     "output_type": "execute_result"
    }
   ],
   "source": [
    "def add(a, b):\n",
    "    return a + b\n",
    "\n",
    "add(10, 20)"
   ]
  },
  {
   "cell_type": "code",
   "execution_count": 2,
   "metadata": {},
   "outputs": [
    {
     "data": {
      "text/plain": [
       "30"
      ]
     },
     "execution_count": 2,
     "metadata": {},
     "output_type": "execute_result"
    }
   ],
   "source": [
    "(lambda a, b: a + b)(10, 20)"
   ]
  },
  {
   "cell_type": "markdown",
   "metadata": {},
   "source": [
    "# map과 함께? \n",
    "- map은 함수와 리스트를 매개변수로 하는 함수이다. \n",
    "- map은 매개변수로 받아들인 리스트의 모든 원소에 함수를 적용하여 새로운 리스트를 생성하여 돌려준다. \n",
    "- 머신러닝 라이브러리들이 이와 유사한 형태를 많이 사용한다. "
   ]
  },
  {
   "cell_type": "code",
   "execution_count": 3,
   "metadata": {},
   "outputs": [
    {
     "data": {
      "text/plain": [
       "[0, 2, 4, 6, 8, 10, 12, 14, 16, 18]"
      ]
     },
     "execution_count": 3,
     "metadata": {},
     "output_type": "execute_result"
    }
   ],
   "source": [
    "list(map(lambda x: x * 2, range(10)))"
   ]
  },
  {
   "cell_type": "markdown",
   "metadata": {},
   "source": [
    "# 재귀함수( recursive function )\n",
    "- 재귀함수는 함수가 자기 자신을 호출하는 형태를 말한다. \n",
    "- 재귀를 잘 이용하면 루프 없이 반복 처리하는 형태를 만들 수 있다. \n",
    "- 모든 문제가 루프만으로 효율적으로 풀리지는 않는다. "
   ]
  },
  {
   "cell_type": "markdown",
   "metadata": {},
   "source": [
    "루프를 이용한 1부터 10까지의 총함을 구하는 방법"
   ]
  },
  {
   "cell_type": "code",
   "execution_count": 4,
   "metadata": {},
   "outputs": [
    {
     "name": "stdout",
     "output_type": "stream",
     "text": [
      "55\n"
     ]
    }
   ],
   "source": [
    "sum_ = 0\n",
    "for i in range(11):\n",
    "    sum_ = sum_ + i\n",
    "\n",
    "print(sum_)"
   ]
  },
  {
   "cell_type": "markdown",
   "metadata": {},
   "source": [
    "> 이렇게 앞에서부터차 순차적으로 처리하는 방법을 `dynamic programming`이라고 한다. "
   ]
  },
  {
   "cell_type": "markdown",
   "metadata": {},
   "source": [
    "- 반면에 재귀적인 방법은 다음과 같다. \n",
    "- 여기서 중요한건 함수는 과연 언제 종료될 것이가? 이다 "
   ]
  },
  {
   "cell_type": "code",
   "execution_count": 6,
   "metadata": {},
   "outputs": [
    {
     "name": "stdout",
     "output_type": "stream",
     "text": [
      "55\n"
     ]
    }
   ],
   "source": [
    "def recursive(n):\n",
    "    if n <= 1: # 함수가 더 이상 호출되지 않도록 하는 조건문이다. \n",
    "        return 1 # 이 문장을 만나면 함수는 더 이상 호출되지 않고, \n",
    "                 # 이 전에 호출되었던 함수들이 차례로 종료되기 시작한다. \n",
    "        \n",
    "    return n + recursive(n-1) # 자기 자신을 계속해서 호출되도록 한다. \n",
    "                              # return 문장은 호출된 함수가 종료되기 전까지는 실행되지 않는다.\n",
    "\n",
    "print( recursive(10) )"
   ]
  },
  {
   "cell_type": "markdown",
   "metadata": {},
   "source": [
    "> 재귀적인 방법은 연산을 처음부터 진행하는 것이 아닌 뒤에서부터 연산을 하면서 앞으로 되돌아 오는    \n",
    "> 그런 느낌이 있다. 그래서 일반적으로 동적 프로그래밍 방법과 많이 비교가 된다. "
   ]
  },
  {
   "cell_type": "markdown",
   "metadata": {},
   "source": [
    "위의 재귀적인 과정을 풀어쓰면 다음과 같다. \n",
    "\n",
    "```\n",
    "recursive(10): return 10 + recursive(9)\n",
    "recursive(9): return 9 + recursive(8)\n",
    "recursive(8): return 8 + recursive(7)\n",
    "recursive(7): return 7 + recursive(6)\n",
    "recursive(6): return 6 + recursive(5)\n",
    "recursive(5): return 5 + recursive(4)\n",
    "recursive(4): return 4 + recursive(3)\n",
    "recursive(3): return 3 + recursive(2)\n",
    "recursive(2): return 2 + recursive(1)\n",
    "recursive(1): return 1  <= 여기서 함수는 종료되고 위에 호출되었던 함수들이 차례로 종료가 되면서 \n",
    "덧셈 연산이 시작된다. \n",
    "```"
   ]
  },
  {
   "cell_type": "markdown",
   "metadata": {},
   "source": [
    "> 재귀는 참 재미있다. 이것 말고도 꼬리 재귀 등 여러가지가 있다.   \n",
    "> 일반적으로 루프로 표현 가능한 것들은 재귀로도 표현이 가능하다.   \n",
    "> 마찬가지로 재귀로 표현 가능한 것들은 루프로도 표현이 가능하다.   \n",
    "> 보통은 재귀를 연습할 때, 루프로 작성된 코드를 재귀로 변형해보는 연습을 많이 한다.   "
   ]
  },
  {
   "cell_type": "markdown",
   "metadata": {},
   "source": [
    "## 피보나치 수열\n",
    "- 피보나치가 만든 수열이다. \n",
    "- 보통 달나라에 암/수 한마리씩 토깨를 두었을 경우, 번식하는 과정을 비유해서 많이 설명한다. \n",
    "- 이 수열은 재귀적으로도 루프로도 구현이 가능하다. \n",
    "- 자 n번째 피보나치 수열은 어떻게 구할 것인가? "
   ]
  },
  {
   "cell_type": "markdown",
   "metadata": {},
   "source": [
    "여기 n번째 피보나치의 수를 구하는 다이나믹 프래그래밍으로 구현한 코드가 있다. "
   ]
  },
  {
   "cell_type": "code",
   "execution_count": 1,
   "metadata": {},
   "outputs": [
    {
     "name": "stdout",
     "output_type": "stream",
     "text": [
      "34\n"
     ]
    }
   ],
   "source": [
    "n = 10\n",
    "fibo = [ 0, 1 ] # 이런걸 점화식 이라고 한다.\n",
    "\n",
    "for i in range(2, n):\n",
    "    fibo.append( fibo[i-1] + fibo[i-2] )\n",
    "    \n",
    "print(fibo[n-1])"
   ]
  },
  {
   "cell_type": "markdown",
   "metadata": {},
   "source": [
    "마찬가지로 n번째 피보나치 수를 구하는 재귀적인 코드이다. "
   ]
  },
  {
   "cell_type": "code",
   "execution_count": null,
   "metadata": {},
   "outputs": [],
   "source": [
    "def fibonachi(n):\n",
    "    if n <= 1:\n",
    "        return n\n",
    "    else:\n",
    "        return fibonachi(n-1) + fibonachi(n-2)\n",
    "    \n",
    "fibonachi(25)"
   ]
  },
  {
   "cell_type": "markdown",
   "metadata": {},
   "source": [
    "> 두 코드를 잘 비교해 봅시다.    \n",
    "> 1000번째 피보나치의 수는 계산이 가능한가?    "
   ]
  }
 ],
 "metadata": {
  "kernelspec": {
   "display_name": "Python 3",
   "language": "python",
   "name": "python3"
  },
  "language_info": {
   "codemirror_mode": {
    "name": "ipython",
    "version": 3
   },
   "file_extension": ".py",
   "mimetype": "text/x-python",
   "name": "python",
   "nbconvert_exporter": "python",
   "pygments_lexer": "ipython3",
   "version": "3.7.4"
  }
 },
 "nbformat": 4,
 "nbformat_minor": 2
}
