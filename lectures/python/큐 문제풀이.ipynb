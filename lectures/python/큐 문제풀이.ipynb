{
 "cells": [
  {
   "cell_type": "markdown",
   "metadata": {},
   "source": [
    "# 요세푸스 문제"
   ]
  },
  {
   "cell_type": "code",
   "execution_count": 10,
   "metadata": {},
   "outputs": [
    {
     "name": "stdout",
     "output_type": "stream",
     "text": [
      "7 3\n",
      "<3, 6, 2, 7, 5, 1, 4>\n"
     ]
    }
   ],
   "source": [
    "n, k = input().split()\n",
    "n, k = int(n), int(k)\n",
    "\n",
    "queue = [x for x in range(n, 0, -1)]\n",
    "seq = []\n",
    "\n",
    "for _ in range(n):\n",
    "    for _ in range(k-1):\n",
    "        item = queue.pop(-1)\n",
    "        queue.insert(0, item)\n",
    "    seq += [queue.pop(-1)]\n",
    "    \n",
    "print('<', end='')\n",
    "for i in range(len(seq)-1):\n",
    "    print('{}, '.format(seq[i]), end='')\n",
    "print('{}>'.format(seq[len(seq)-1]))"
   ]
  },
  {
   "cell_type": "markdown",
   "metadata": {},
   "source": [
    "## 다르게 풀어보기 range가 (1, n+1)일 경우"
   ]
  },
  {
   "cell_type": "code",
   "execution_count": 36,
   "metadata": {},
   "outputs": [
    {
     "name": "stdout",
     "output_type": "stream",
     "text": [
      "7 3\n"
     ]
    },
    {
     "data": {
      "text/plain": [
       "[1, 2, 3, 4, 5, 6, 7]"
      ]
     },
     "execution_count": 36,
     "metadata": {},
     "output_type": "execute_result"
    }
   ],
   "source": [
    "n, k = input().split()\n",
    "n, k = int(n), int(k)\n",
    "\n",
    "queue = [x for x in range(1, n+1)]\n",
    "queue\n",
    "#seq = []\n",
    "\n",
    "for _ in range(n):\n",
    "    for _ in range(k):\n",
    "        item = queue.pop(0)\n",
    "        queue.append(item)"
   ]
  },
  {
   "cell_type": "markdown",
   "metadata": {},
   "source": [
    "# 카드2\n",
    "- 큐를 이용하기"
   ]
  },
  {
   "cell_type": "code",
   "execution_count": 34,
   "metadata": {},
   "outputs": [
    {
     "name": "stdout",
     "output_type": "stream",
     "text": [
      "4\n",
      "4\n"
     ]
    }
   ],
   "source": [
    "n = input()\n",
    "n = int(n)\n",
    "\n",
    "card = [x for x in range(1, n+1)]\n",
    "\n",
    "while not len(card) == 1:\n",
    "        card.pop(0)\n",
    "        card.append(card.pop(0))\n",
    "print(card[0])"
   ]
  },
  {
   "cell_type": "markdown",
   "metadata": {},
   "source": [
    "- 다른 방법"
   ]
  },
  {
   "cell_type": "code",
   "execution_count": 38,
   "metadata": {},
   "outputs": [
    {
     "name": "stdout",
     "output_type": "stream",
     "text": [
      "4\n",
      "4\n"
     ]
    }
   ],
   "source": [
    "n = int(input())\n",
    "\n",
    "queue = [x for x in range(1, n+1)]\n",
    "for _ in range(len(queue)-1):\n",
    "    queue.pop(0)\n",
    "    queue.append(queue.pop(0))\n",
    "print(queue.pop(0))"
   ]
  },
  {
   "cell_type": "markdown",
   "metadata": {},
   "source": [
    "## 큐 라이브러리 이용"
   ]
  },
  {
   "cell_type": "code",
   "execution_count": 43,
   "metadata": {},
   "outputs": [
    {
     "name": "stdout",
     "output_type": "stream",
     "text": [
      "4\n",
      "4\n"
     ]
    }
   ],
   "source": [
    "import queue\n",
    "\n",
    "n = int(input())\n",
    "queue = queue.Queue()\n",
    "\n",
    "for i in range(1, n+1):\n",
    "    queue.put(i)\n",
    "\n",
    "for _ in range(queue.qsize()-1):\n",
    "    queue.get()\n",
    "    queue.put(queue.get())\n",
    "print(queue.get())"
   ]
  },
  {
   "cell_type": "code",
   "execution_count": 2,
   "metadata": {},
   "outputs": [
    {
     "name": "stdout",
     "output_type": "stream",
     "text": [
      "4\n",
      "4\n"
     ]
    }
   ],
   "source": [
    "import collections\n",
    "queue = collections.deque()\n",
    "\n",
    "n = int(input())\n",
    "\n",
    "for i in range(1, n+1):\n",
    "    queue.append(i)\n",
    "    \n",
    "for _ in range(len(queue)-1):\n",
    "    queue.popleft()\n",
    "    queue.append(queue.popleft())\n",
    "print(queue.popleft())"
   ]
  },
  {
   "cell_type": "markdown",
   "metadata": {},
   "source": [
    "# 기본적인 정렬(sort)\n",
    "- 거품, 삽입, 선택정렬"
   ]
  },
  {
   "cell_type": "markdown",
   "metadata": {},
   "source": [
    "## Bubble sort_버블정렬"
   ]
  },
  {
   "cell_type": "code",
   "execution_count": 22,
   "metadata": {},
   "outputs": [
    {
     "data": {
      "text/plain": [
       "[9, 10, 1, 7, 2, 6, 4, 8, 3, 5]"
      ]
     },
     "execution_count": 22,
     "metadata": {},
     "output_type": "execute_result"
    }
   ],
   "source": [
    "import random\n",
    "\n",
    "unsort = [x for x in range(1, 11)] # 정렬되지 않은 리스트\n",
    "random.shuffle(unsort)\n",
    "unsort"
   ]
  },
  {
   "cell_type": "code",
   "execution_count": 23,
   "metadata": {},
   "outputs": [
    {
     "name": "stdout",
     "output_type": "stream",
     "text": [
      "[9, 10, 1, 7, 2, 6, 4, 8, 3, 5]\n",
      "[1, 2, 3, 4, 5, 6, 7, 8, 9, 10]\n"
     ]
    }
   ],
   "source": [
    "print(unsort)\n",
    "size = len(unsort)\n",
    "\n",
    "for _ in range(size-1):\n",
    "    for i in range(size-1):\n",
    "        #print('{}: {}, {}: {}'.format(i, unsort[i], i+1, unsort[i+1]))\n",
    "        if unsort[i+1]<unsort[i]:\n",
    "            unsort[i], unsort[i+1] = unsort[i+1], unsort[i]\n",
    "        #print('{}: {}, {}: {}'.format(i, unsort[i], i+1, unsort[i+1]))\n",
    "\n",
    "print(unsort)"
   ]
  },
  {
   "cell_type": "code",
   "execution_count": 1,
   "metadata": {},
   "outputs": [
    {
     "name": "stdout",
     "output_type": "stream",
     "text": [
      "5\n",
      "5\n",
      "4\n",
      "1\n",
      "2\n",
      "3\n",
      "1\n",
      "2\n",
      "3\n",
      "4\n",
      "5\n"
     ]
    }
   ],
   "source": [
    "n = int(input())\n",
    "\n",
    "list_ = []\n",
    "for _ in range(n):\n",
    "    list_.append(int(input()))\n",
    "    \n",
    "for _ in range(n-1):\n",
    "    for i in range(n-1):\n",
    "        if list_[i+1] < list_[i]:\n",
    "            list_[i], list_[i+1] = list_[i+1], list_[i]\n",
    "            \n",
    "for item in list_:\n",
    "    print(item)"
   ]
  },
  {
   "cell_type": "markdown",
   "metadata": {},
   "source": [
    "## 삽입정렬_Insert sort\n",
    "- 인플레이스 방식은 조금 어려우니 일단 정렬된 리스트를 따로 구해봅시다."
   ]
  },
  {
   "cell_type": "code",
   "execution_count": 4,
   "metadata": {},
   "outputs": [
    {
     "data": {
      "text/plain": [
       "[5, 2, 1, 4, 3]"
      ]
     },
     "execution_count": 4,
     "metadata": {},
     "output_type": "execute_result"
    }
   ],
   "source": [
    "import random\n",
    "\n",
    "unsort = [x for x in range(1, 6)]\n",
    "random.shuffle(unsort)\n",
    "unsort"
   ]
  },
  {
   "cell_type": "code",
   "execution_count": 6,
   "metadata": {},
   "outputs": [
    {
     "name": "stdout",
     "output_type": "stream",
     "text": [
      "[] [5, 2, 1, 4, 3]\n",
      "5\n",
      "[5]\n",
      "2\n",
      "[2, 5]\n",
      "1\n",
      "[1, 2, 5]\n",
      "4\n",
      "[1, 2, 4, 5]\n",
      "3\n",
      "[1, 2, 3, 4, 5]\n"
     ]
    }
   ],
   "source": [
    "sort = []\n",
    "print(sort, unsort)\n",
    "\n",
    "for pick in unsort:\n",
    "    print(pick)\n",
    "    i = 0\n",
    "    for i in range(len(sort)):\n",
    "        if sort[i] > pick:\n",
    "            sort.insert(i, pick)\n",
    "            break\n",
    "            \n",
    "    if i >= len(sort)-1:\n",
    "        sort.append(pick)\n",
    "    print(sort)"
   ]
  },
  {
   "cell_type": "markdown",
   "metadata": {},
   "source": [
    "### 다른방법"
   ]
  },
  {
   "cell_type": "code",
   "execution_count": 7,
   "metadata": {},
   "outputs": [
    {
     "name": "stdout",
     "output_type": "stream",
     "text": [
      "5\n",
      "5\n",
      "3\n",
      "4\n",
      "1\n",
      "7\n",
      "1\n",
      "1\n",
      "1\n",
      "3\n",
      "4\n",
      "5\n",
      "7\n"
     ]
    }
   ],
   "source": [
    "n = int(input())\n",
    "\n",
    "unsort = []\n",
    "sort = []\n",
    "for _ in range(n):\n",
    "    unsort.append(int(input()))\n",
    "\n",
    "for pick in unsort:\n",
    "    i= 0\n",
    "    for i in range(len(sort)):\n",
    "        if sort [i] > pick:\n",
    "            sort.insert(i, pick)\n",
    "            break\n",
    "    \n",
    "    if i >= len(sort)-1:\n",
    "        sort.append(pick)\n",
    "\n",
    "for item in sort:\n",
    "    print(item)"
   ]
  },
  {
   "cell_type": "markdown",
   "metadata": {},
   "source": [
    "### in-place 형태로 구현"
   ]
  },
  {
   "cell_type": "code",
   "execution_count": 9,
   "metadata": {},
   "outputs": [
    {
     "data": {
      "text/plain": [
       "[3, 5, 1, 4, 2]"
      ]
     },
     "execution_count": 9,
     "metadata": {},
     "output_type": "execute_result"
    }
   ],
   "source": [
    "import random\n",
    "\n",
    "unsort = [x for x in range(1, 6)]\n",
    "random.shuffle(unsort)\n",
    "unsort"
   ]
  },
  {
   "cell_type": "code",
   "execution_count": 10,
   "metadata": {},
   "outputs": [
    {
     "name": "stdout",
     "output_type": "stream",
     "text": [
      "[3, 5, 1, 4, 2]\n",
      "[3, 5, 1, 4, 2]\n",
      "[1, 3, 5, 4, 2]\n",
      "[1, 3, 4, 5, 2]\n",
      "[1, 2, 3, 4, 5]\n"
     ]
    }
   ],
   "source": [
    "size = len(unsort)\n",
    "for i in range(size):\n",
    "    for j in range(i):\n",
    "        if unsort[i] < unsort[j]:\n",
    "            #tmp = unsort[i]\n",
    "            #unsort.remove(unsort[i])\n",
    "            #unsort.insert(j, tmp)\n",
    "            unsort.insert(j, unsort.pop(i))\n",
    "            break\n",
    "    print(unsort)"
   ]
  },
  {
   "cell_type": "markdown",
   "metadata": {},
   "source": [
    "## 선택 정렬_Selection sort\n",
    "1. 주어진 리스트에서 최소값을 찾는다.\n",
    "2. 최소값을 리스트의 맨 앞의 값과 교체한다.\n",
    "3. 맨 앞을 제외한 나머지 원소를 이용해 같은 작업을 반복한다."
   ]
  },
  {
   "cell_type": "code",
   "execution_count": 48,
   "metadata": {},
   "outputs": [
    {
     "data": {
      "text/plain": [
       "[5, 1, 2, 4, 3]"
      ]
     },
     "execution_count": 48,
     "metadata": {},
     "output_type": "execute_result"
    }
   ],
   "source": [
    "import random\n",
    "\n",
    "sort = []\n",
    "unsort = [x for x in range(1, 6)]\n",
    "random.shuffle(unsort)\n",
    "unsort"
   ]
  },
  {
   "cell_type": "markdown",
   "metadata": {},
   "source": [
    "### 빈 리스트를 만들어서 접근하는 방법(easy)"
   ]
  },
  {
   "cell_type": "code",
   "execution_count": 32,
   "metadata": {},
   "outputs": [
    {
     "name": "stdout",
     "output_type": "stream",
     "text": [
      "[1] [2, 3, 5, 4]\n"
     ]
    }
   ],
   "source": [
    "min_ = min(unsort)\n",
    "sort.append(min_)\n",
    "unsort.remove(min_)\n",
    "\n",
    "print(sort, unsort)"
   ]
  },
  {
   "cell_type": "code",
   "execution_count": 33,
   "metadata": {},
   "outputs": [
    {
     "name": "stdout",
     "output_type": "stream",
     "text": [
      "[1, 2, 3, 4, 5]\n"
     ]
    }
   ],
   "source": [
    "size = len(unsort)\n",
    "\n",
    "for _ in range(size):\n",
    "    min_ = min(unsort)\n",
    "    sort.append(min_)\n",
    "    unsort.remove(min_)\n",
    "print(sort)"
   ]
  },
  {
   "cell_type": "markdown",
   "metadata": {},
   "source": [
    "### in-place 형식으로 만들기"
   ]
  },
  {
   "cell_type": "code",
   "execution_count": 22,
   "metadata": {},
   "outputs": [
    {
     "name": "stdout",
     "output_type": "stream",
     "text": [
      "[5, 2, 3, 1, 4]\n",
      "[1, 2, 3, 5, 4]\n",
      "[1, 2, 3, 5, 4]\n",
      "\n",
      "1 \n",
      "1 2 \n",
      "1 2 3 \n",
      "1 2 3 5 \n",
      "1 2 3 5 4 \n",
      "2 3 5 4 \n",
      "3 5 4 \n",
      "5 4 \n",
      "4 \n"
     ]
    }
   ],
   "source": [
    "def minIndex(list_, start, end):\n",
    "    min_ = list_[start]\n",
    "    min_idx = start\n",
    "    \n",
    "    for idx in range(start+1, end):\n",
    "        if list_[idx] < min_:\n",
    "            min_ = list_[idx]\n",
    "            min_idx = idx\n",
    "    return min_idx\n",
    "\n",
    "size = len(unsort)\n",
    "print(unsort)\n",
    "\n",
    "minIdx = minIndex(unsort, 0, size)\n",
    "unsort[0], unsort[minIdx] = unsort[minIdx], unsort[0]\n",
    "print(unsort)\n",
    "\n",
    "minIdx = minIndex(unsort, 1, size)\n",
    "unsort[1], unsort[minIdx] = unsort[minIdx], unsort[1]\n",
    "print(unsort)\n",
    "\n",
    "for i in range(size):\n",
    "    # 첫 번째 루프의 i값에 따라서 두번째 루프의 끝나는 범위가 바뀐다.\n",
    "    for j in range(0, i):\n",
    "        print(unsort[j], end=' ')\n",
    "    print()\n",
    "        \n",
    "for i in range(size):\n",
    "    # 첫 번째 루프의 i값에 따라서 두번째 루프의 시작 범위가 바뀐다.\n",
    "    for j in range(i, size):\n",
    "        print(unsort[j], end=' ')\n",
    "    print()\n"
   ]
  },
  {
   "cell_type": "code",
   "execution_count": 29,
   "metadata": {},
   "outputs": [
    {
     "name": "stdout",
     "output_type": "stream",
     "text": [
      "[2, 4, 5, 3, 1]\n",
      "[1, 2, 3, 4, 5]\n"
     ]
    }
   ],
   "source": [
    "def getMinIndex(list_, start, end):\n",
    "    min_ = list_[start]\n",
    "    min_idx = start\n",
    "    \n",
    "    for idx in range(start+1, end):\n",
    "        if list_[idx] < min_:\n",
    "            min_ = list_[idx]\n",
    "            min_idx = idx\n",
    "    return min_idx\n",
    "\n",
    "print(unsort)\n",
    "size = len(unsort)\n",
    "for i in range(size):\n",
    "    # 첫 번째 루프의 i값에 따라서 두번째 루프의 시작 범위가 바뀐다.\n",
    "    #for j in range(i, size):\n",
    "    min_idx = getMinIndex(unsort, i, size)\n",
    "    unsort[i], unsort[min_idx] = unsort[min_idx], unsort[i]\n",
    "print(unsort)"
   ]
  },
  {
   "cell_type": "code",
   "execution_count": 30,
   "metadata": {},
   "outputs": [
    {
     "data": {
      "text/plain": [
       "[1, 2, 3, 4, 5]"
      ]
     },
     "execution_count": 30,
     "metadata": {},
     "output_type": "execute_result"
    }
   ],
   "source": [
    "unsort"
   ]
  },
  {
   "cell_type": "markdown",
   "metadata": {},
   "source": [
    "### ps"
   ]
  },
  {
   "cell_type": "code",
   "execution_count": 61,
   "metadata": {},
   "outputs": [
    {
     "data": {
      "text/plain": [
       "[5, 1, 2, 4, 3]"
      ]
     },
     "execution_count": 61,
     "metadata": {},
     "output_type": "execute_result"
    }
   ],
   "source": [
    "import random\n",
    "\n",
    "sort = []\n",
    "unsort = [x for x in range(1, 6)]\n",
    "random.shuffle(unsort)\n",
    "unsort"
   ]
  },
  {
   "cell_type": "code",
   "execution_count": 62,
   "metadata": {},
   "outputs": [
    {
     "name": "stdout",
     "output_type": "stream",
     "text": [
      "[5, 1, 2, 4, 3]\n",
      "[3, 2, 4, 1, 5]\n"
     ]
    }
   ],
   "source": [
    "def setMinIndex(list_, start, end):\n",
    "    min_ = list_[start]\n",
    "    min_idx = start\n",
    "    \n",
    "    for idx in range(start+1, end):\n",
    "        if list_[idx] < min_:\n",
    "            min_ = list_[idx]\n",
    "            min_idx = idx\n",
    "    return min_idx\n",
    "\n",
    "print(unsort)\n",
    "size = len(unsort)\n",
    "for i in range(size):\n",
    "    min_idx = setMinIndex(unsort, 0, i)\n",
    "    unsort[i-1], unsort[min_idx] = unsort[min_idx], unsort[i-1]\n",
    "print(unsort)"
   ]
  }
 ],
 "metadata": {
  "kernelspec": {
   "display_name": "Python 3",
   "language": "python",
   "name": "python3"
  },
  "language_info": {
   "codemirror_mode": {
    "name": "ipython",
    "version": 3
   },
   "file_extension": ".py",
   "mimetype": "text/x-python",
   "name": "python",
   "nbconvert_exporter": "python",
   "pygments_lexer": "ipython3",
   "version": "3.7.4"
  }
 },
 "nbformat": 4,
 "nbformat_minor": 2
}
