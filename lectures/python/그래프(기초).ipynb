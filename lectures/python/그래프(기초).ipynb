{
 "cells": [
  {
   "cell_type": "markdown",
   "metadata": {},
   "source": [
    "# 연결 리스트(Linked List)\n",
    "- 파이썬의 리스트 처럼 선형구조를 갖는 자료구조의 한 종류이다.\n",
    "- 구조에 따라서 이중 연결 리스트(double Linked List) 등의 여러 구조가 존재한다.\n",
    "- 각 노드들이 선형적으로 연결 되어 있음을 나타낸다."
   ]
  },
  {
   "cell_type": "code",
   "execution_count": null,
   "metadata": {},
   "outputs": [],
   "source": [
    "# 파이썬에서 각 노드는 클래스 표현 가능\n",
    "\n",
    "# 노드 클래스 정의\n",
    "class Node:\n",
    "    \n",
    "    def __init__(self, data):\n",
    "        self.data = data\n",
    "        self.next = None\n",
    "        \n",
    "head = Node('head') # 연결 리스트의 제일 첫 노드\n",
    "tail = Node('tail') # 연결 리스트의 제일 마지막 노드\n",
    "\n",
    "head.next = tail # 아무것도 없는 빈 연결 리스트가 만들어질때 기본적인 공식\n",
    "\n",
    "# 노드를 헤드 노드 다음에 추가하는 방법\n",
    "node = Node(1)\n",
    "node.next = head.next #헤드 노드의 다음 노드를 현재 노드의 다음 노드로 지정\n",
    "head.next = node # 헤드 노드의 다음 노드를 현재 노드로 지정\n",
    "\n",
    "node = Node(2)\n",
    "node.next = head.next\n",
    "head.next = node\n",
    "\n",
    "#print(head, data)\n",
    "#print(head.next.data)\n",
    "#print(head.next.next.data)\n",
    "#print(head.next.next.next.data)\n",
    "\n",
    "#노드 순회하기\n",
    "         \n",
    "temp = head\n",
    "while temp.next != None:\n",
    "    print(temp.data)\n",
    "    temp = temp.next"
   ]
  },
  {
   "cell_type": "code",
   "execution_count": null,
   "metadata": {},
   "outputs": [],
   "source": [
    "# 가장 마지막 노드를 구해보자\n",
    "# 연결 리스트를 전부 순회하면서 테일 노드의 앞 노드를 찾아야한다.\n",
    "end = head\n",
    "while end.next != None:\n",
    "    prev = end\n",
    "    end = end.next\n",
    "    \n",
    "print(prev.data)\n",
    "print(end.data)"
   ]
  },
  {
   "cell_type": "code",
   "execution_count": null,
   "metadata": {},
   "outputs": [],
   "source": [
    "# 3번 노드를 리스트의 제일 끝에 추가해 보기.\n",
    "end = head\n",
    "while end.next != None:\n",
    "    prev = end\n",
    "    end = end.next\n",
    "\n",
    "node = Node(3)\n",
    "prev.next = node\n",
    "node.next = tail\n",
    "\n",
    "temp = head\n",
    "while temp.next != None:\n",
    "    print(temp.data)\n",
    "    temp = temp.next\n",
    "print(temp.data)"
   ]
  },
  {
   "cell_type": "code",
   "execution_count": null,
   "metadata": {},
   "outputs": [],
   "source": [
    "# 파이썬에서 각 노드는 클래스 표현 가능\n",
    "\n",
    "# 노드 클래스 정의\n",
    "class Node:\n",
    "    \n",
    "    def __init__(self, data):\n",
    "        self.data = data\n",
    "        self.next = None\n",
    "        \n",
    "head = Node('head') # 연결 리스트의 제일 첫 노드\n",
    "tail = Node('tail') # 연결 리스트의 제일 마지막 노드\n",
    "\n",
    "head.next = tail # 아무것도 없는 빈 연결 리스트가 만들어질때 기본적인 공식\n",
    "\n",
    "# 노드를 헤드 노드 다음에 추가하는 방법\n",
    "node = Node(1)\n",
    "node.next = head.next #헤드 노드의 다음 노드를 현재 노드의 다음 노드로 지정\n",
    "head.next = node # 헤드 노드의 다음 노드를 현재 노드로 지정\n",
    "\n",
    "node = Node(2)\n",
    "node.next = head.next\n",
    "head.next = node\n",
    "\n",
    "#print(head, data)\n",
    "#print(head.next.data)\n",
    "#print(head.next.next.data)\n",
    "#print(head.next.next.next.data)\n",
    "\n",
    "#노드 순회하기\n",
    "         \n",
    "temp = head\n",
    "while temp.next != None:\n",
    "    #print(temp.data)\n",
    "    temp = temp.next\n",
    "\n",
    "# 가장 마지막 노드를 구해보자\n",
    "# 연결 리스트를 전부 순회하면서 테일 노드의 앞 노드를 찾아야한다.\n",
    "end = head\n",
    "while end.next != None:\n",
    "    prev = end\n",
    "    end = end.next\n",
    "\n",
    "node = Node(3)\n",
    "prev.next = node\n",
    "node.next = tail\n",
    "\n",
    "temp = head\n",
    "while temp.next != None:\n",
    "    #print(temp.data)\n",
    "    temp = temp.next\n",
    "#print(temp.data)\n",
    "\n",
    "# 삭제\n",
    "imsi = head.next\n",
    "\n",
    "current = head\n",
    "while current.next != None:\n",
    "    prev = current\n",
    "    current = current.next\n",
    "    \n",
    "    if current.data == 2:\n",
    "        break\n",
    "        \n",
    "prev.next = current.next\n",
    "current.next = None\n",
    "\n",
    "temp = head\n",
    "while temp.next != None:\n",
    "    temp = temp.next\n",
    "    if temp.data == 1:\n",
    "        break\n",
    "\n",
    "current.next = temp.next\n",
    "temp.next = current\n",
    "\n",
    "temp = head\n",
    "while temp.next != None:\n",
    "    print(temp.data)\n",
    "    temp = temp.next\n",
    "print(temp.data)"
   ]
  },
  {
   "cell_type": "markdown",
   "metadata": {},
   "source": [
    "## 달팽이 리스트 문제 풀이"
   ]
  },
  {
   "cell_type": "code",
   "execution_count": null,
   "metadata": {},
   "outputs": [],
   "source": [
    "#n, m, v = input().split()\n",
    "#n, m, v = list(map(int, line))\n",
    "\n",
    "def __init__(self, data):\n",
    "        self.data = data\n",
    "        self.next = None\n",
    "\n",
    "line = input().split() # 리스트\n",
    "n,m,v = list(map(int, line))\n",
    "line = input().split()\n",
    "\n",
    "head = Node('head')\n",
    "prev = head\n",
    "\n",
    "v_node = None\n",
    "for i, item in enumerate(line):# enumerate()를 이용해서 인덱스와 원소를 한번에 가져올 수 있다.\n",
    "    node = Node(item)\n",
    "    if i == v-1: v_node = node\n",
    "    \n",
    "    prev.next = node\n",
    "    prev = node\n",
    "node.next = v_node\n",
    "\n",
    "for _ in range(m):\n",
    "    k = int(input())\n",
    "    \n",
    "    k_node = head.next\n",
    "    for _ in range(k):\n",
    "        k_node = k_node.next\n",
    "    print(k_node.data)"
   ]
  },
  {
   "cell_type": "code",
   "execution_count": null,
   "metadata": {},
   "outputs": [],
   "source": [
    "# 달팽이 리스트\n",
    "\n",
    "n,m,v = map(int,input().split())\n",
    "v = v-1\n",
    "c = list(map(int,input().split()))\n",
    "answer = list()\n",
    "len_recurse = n-v\n",
    "\n",
    "for i in range(0,m):\n",
    "    k = int(input())\n",
    "    if k < n:\n",
    "        answer.append(c[k])\n",
    "    else:\n",
    "        tmp = (k-v)%len_recurse\n",
    "        answer.append(c[v+tmp])\n",
    "        \n",
    "for ans in answer:\n",
    "    print(ans)"
   ]
  },
  {
   "cell_type": "markdown",
   "metadata": {},
   "source": [
    "# 키로거"
   ]
  },
  {
   "cell_type": "code",
   "execution_count": null,
   "metadata": {},
   "outputs": [],
   "source": [
    "class Node:\n",
    "    \n",
    "    def __init__(self, data):\n",
    "        self.data = data\n",
    "        self.next = None\n",
    "        self.node = None\n",
    "        \n",
    "head = Node('head')\n",
    "tail = Node('tail')\n",
    "\n",
    "head.next = tail\n",
    "head.pref = None\n",
    "tail.prev = head\n",
    "tail.next = None\n",
    "\n",
    "n = int(input())\n",
    "\n",
    "for _ in range(n):\n",
    "    line = input()\n",
    "    \n",
    "    for key in line:\n",
    "        if key == '<':\n",
    "            pass\n",
    "        elif key == '>':\n",
    "            pass\n",
    "        elif key == '-':\n",
    "            pass\n",
    "        else:\n",
    "            node = Node(key)\n",
    "            \n",
    "            node.prev = tail.prev\n",
    "            node.next = tail\n",
    "            tail.prev = node\n",
    "            node.prev.next = node\n",
    "            \n",
    "temp = head.next\n",
    "while temp != None:\n",
    "    print(temp.data)\n",
    "    temp = temp.next"
   ]
  },
  {
   "cell_type": "markdown",
   "metadata": {},
   "source": [
    "# 트리(이진트리/Binary Tree)\n",
    "- 트리를 구성하는 방법은 이중 연결 리스트와 동일하다\n",
    "- 이중 연결 리스트의 prev,next를 left, right로 놓으면 된다."
   ]
  },
  {
   "cell_type": "code",
   "execution_count": null,
   "metadata": {},
   "outputs": [],
   "source": [
    "# Node를 클래스로 구현한다.\n",
    "class Node:\n",
    "    def __init__(self, data):\n",
    "        self.data = data\n",
    "        self.left = None\n",
    "        self.right = None"
   ]
  },
  {
   "cell_type": "code",
   "execution_count": null,
   "metadata": {},
   "outputs": [],
   "source": [
    "# root_node 하나 생성: 맨 위에 있는 노드\n",
    "root_node = Node('A')\n",
    "\n",
    "# 노드는 '왼쪽' 부터 전개되는 방식\n",
    "# 루트 노드 하위 노드를 하나씩 만들어준다.\n",
    "node = Node('B')\n",
    "root_node.left = node\n",
    "\n",
    "node = Node('C')\n",
    "root_node.right = node\n",
    "\n",
    "node = Node('D')\n",
    "root_node.left.left = node\n",
    "\n",
    "node = Node('E')\n",
    "root_node.right.left = node\n",
    "\n",
    "node = Node('F')\n",
    "root_node.right.right = node\n",
    "\n",
    "#node = Node('G')\n",
    "#root_node.right.right.right = node"
   ]
  },
  {
   "cell_type": "code",
   "execution_count": null,
   "metadata": {},
   "outputs": [],
   "source": [
    "# 전위순회부터 본다.\n",
    "\n",
    "def preorder(node):\n",
    "    if node == None: return # 자식노드가 없으면 재귀호출을 종료\n",
    "    print(node.data, end='')\n",
    "    preorder(node.left)\n",
    "    preorder(node.right)"
   ]
  },
  {
   "cell_type": "code",
   "execution_count": null,
   "metadata": {},
   "outputs": [],
   "source": [
    "preorder(root_node) # root노드부터 -left순회 - right순회\n",
    "print()"
   ]
  },
  {
   "cell_type": "code",
   "execution_count": 24,
   "metadata": {},
   "outputs": [],
   "source": [
    "# 중위순회\n",
    "\n",
    "def inorder(node):\n",
    "    if node == None: return # 자식노드가 없으면 재귀호출을 종료\n",
    "    inorder(node.left)\n",
    "    print(node.data, end=\"\")\n",
    "    inorder(node.right)"
   ]
  },
  {
   "cell_type": "code",
   "execution_count": 25,
   "metadata": {},
   "outputs": [
    {
     "name": "stdout",
     "output_type": "stream",
     "text": [
      "DBAECF\n"
     ]
    }
   ],
   "source": [
    "inorder(root_node)\n",
    "print()"
   ]
  },
  {
   "cell_type": "code",
   "execution_count": 38,
   "metadata": {},
   "outputs": [],
   "source": [
    "# 후위순회\n",
    "\n",
    "def postorder(node):\n",
    "    if node == None: return\n",
    "    postorder(node.left)\n",
    "    postorder(node.right)\n",
    "    print(node.data, end=\"\")"
   ]
  },
  {
   "cell_type": "code",
   "execution_count": 39,
   "metadata": {},
   "outputs": [
    {
     "name": "stdout",
     "output_type": "stream",
     "text": [
      "DBEFCA\n"
     ]
    }
   ],
   "source": [
    "postorder(root_node)\n",
    "print()"
   ]
  },
  {
   "cell_type": "code",
   "execution_count": 40,
   "metadata": {},
   "outputs": [
    {
     "name": "stdout",
     "output_type": "stream",
     "text": [
      "ABDCEF\n",
      "DBAECF\n",
      "DBEFCA\n"
     ]
    }
   ],
   "source": [
    "class Node:\n",
    "    def __init__(self, data):\n",
    "        self.data = data\n",
    "        self.left = None\n",
    "        self.right = None\n",
    "        \n",
    "# root_node 하나 생성: 맨 위에 있는 노드\n",
    "root_node = Node('A')\n",
    "\n",
    "# 노드는 '왼쪽' 부터 전개되는 방식\n",
    "# 루트 노드 하위 노드를 하나씩 만들어준다.\n",
    "node = Node('B')\n",
    "root_node.left = node\n",
    "\n",
    "node = Node('C')\n",
    "root_node.right = node\n",
    "\n",
    "node = Node('D')\n",
    "root_node.left.left = node\n",
    "\n",
    "node = Node('E')\n",
    "root_node.right.left = node\n",
    "\n",
    "node = Node('F')\n",
    "root_node.right.right = node\n",
    "\n",
    "def preorder(node):\n",
    "    if node == None: return # 자식노드가 없으면 재귀호출을 종료\n",
    "    print(node.data, end='')\n",
    "    preorder(node.left)\n",
    "    preorder(node.right)\n",
    "    \n",
    "def inorder(node):\n",
    "    if node == None: return # 자식노드가 없으면 재귀호출을 종료\n",
    "    inorder(node.left)\n",
    "    print(node.data, end=\"\")\n",
    "    inorder(node.right)\n",
    "    \n",
    "def postorder(node):\n",
    "    if node == None: return\n",
    "    postorder(node.left)\n",
    "    postorder(node.right)\n",
    "    print(node.data, end=\"\")\n",
    "    \n",
    "preorder(root_node)\n",
    "print()\n",
    "inorder(root_node)\n",
    "print()\n",
    "postorder(root_node)\n",
    "print()"
   ]
  },
  {
   "cell_type": "markdown",
   "metadata": {},
   "source": [
    "# 트리순회 문제 풀이"
   ]
  },
  {
   "cell_type": "code",
   "execution_count": 51,
   "metadata": {},
   "outputs": [
    {
     "name": "stdout",
     "output_type": "stream",
     "text": [
      "7\n",
      "A B C\n",
      "B D .\n",
      "C E F\n",
      "E . .\n",
      "F . G\n",
      "D . .\n",
      "G . .\n",
      "ABDCEFG\n",
      "DBAECFG\n",
      "DBEGFCA"
     ]
    }
   ],
   "source": [
    "class Node:\n",
    "    def __init__(self, data):\n",
    "        self.data = data\n",
    "        self.left = None\n",
    "        self.right = None\n",
    "\n",
    "# 트리에서 찾고자 하는 노드를 돌려주는 함수\n",
    "# preorder와 동일하게 동작\n",
    "def search(node, find):\n",
    "    if node == None: return # 재귀의 종료를 나타내는 기저조건\n",
    "    if node.data == find:  # 루트 -> 왼쪽 -> 오른쪽\n",
    "        global find_node\n",
    "        find_node = node\n",
    "        return\n",
    "    \n",
    "    search(node.left, find)\n",
    "    search(node.right, find)\n",
    "\n",
    "def preorder(node):\n",
    "    if node == None: return # 자식노드가 없으면 재귀호출을 종료\n",
    "    print(node.data, end='')\n",
    "    preorder(node.left)\n",
    "    preorder(node.right)\n",
    "\n",
    "def inorder(node):\n",
    "    if node == None: return # 자식노드가 없으면 재귀호출을 종료\n",
    "    inorder(node.left)\n",
    "    print(node.data, end=\"\")\n",
    "    inorder(node.right)\n",
    "    \n",
    "def postorder(node):\n",
    "    if node == None: return\n",
    "    postorder(node.left)\n",
    "    postorder(node.right)\n",
    "    print(node.data, end=\"\")\n",
    "\n",
    "root_node = Node('A')\n",
    "find_node = None\n",
    "\n",
    "n = int(input()) #이진 트리의 노드의 개수\n",
    "for _ in range(n):\n",
    "    node, left_node, right_node = input().split() #node: root node\n",
    "    \n",
    "    search(root_node, node)\n",
    "    if left_node != '.':\n",
    "        find_node.left = Node(left_node)\n",
    "    if right_node != '.':\n",
    "        find_node.right = Node(right_node)\n",
    "    \n",
    "preorder(root_node)\n",
    "print()\n",
    "inorder(root_node)\n",
    "print()\n",
    "postorder(root_node)"
   ]
  },
  {
   "cell_type": "markdown",
   "metadata": {},
   "source": [
    "### if)root_node = Node('A')로 안정해줬을때"
   ]
  },
  {
   "cell_type": "code",
   "execution_count": null,
   "metadata": {},
   "outputs": [],
   "source": [
    "class Node:\n",
    "    def __init__(self, data):\n",
    "        self.data = data\n",
    "        self.left = None\n",
    "        self.right = None\n",
    "\n",
    "# 트리에서 찾고자 하는 노드를 돌려주는 함수\n",
    "# preorder와 동일하게 동작\n",
    "def search(node, find):\n",
    "    if node == None: return # 재귀의 종료를 나타내는 기저조건\n",
    "    if node.data == find:  # 루트 -> 왼쪽 -> 오른쪽\n",
    "        return node\n",
    "    \n",
    "    search(node.left, find)\n",
    "    search(node.right, find) \n",
    "\n",
    "n = int(input()) #이진 트리의 노드의 개수\n",
    "for _ in range(n):\n",
    "    node, left_node, right_node = input().split() #node: root node\n",
    "    if node == 'A': #root Node 생성\n",
    "        root_node = Node(node)\n",
    "        if left_node != '.':\n",
    "            root_node.left = Node(left_node)\n",
    "        if right_node != '.':\n",
    "            root_node.right = Node(right_node)\n",
    "        break\n",
    "    \n",
    "    find_node = search(root_node, node)\n",
    "    if left_node != '.':\n",
    "        find_node.left = Node(left_node)\n",
    "    if right_node != '.':\n",
    "        find_node.right = Node(right_node)"
   ]
  },
  {
   "cell_type": "markdown",
   "metadata": {},
   "source": [
    "# 이진 검색 트리 풀이"
   ]
  },
  {
   "cell_type": "code",
   "execution_count": 14,
   "metadata": {},
   "outputs": [
    {
     "name": "stdout",
     "output_type": "stream",
     "text": [
      "5\n",
      "28\n",
      "24\n",
      "45\n",
      "30\n",
      "60\n",
      "52\n",
      "98\n",
      "50\n"
     ]
    }
   ],
   "source": [
    "#import sys\n",
    "# sys.setrecursionlimit(100000)\n",
    "# input_list=list(map(int, sys.stdin.read()))\n",
    "input_list = [50, 30, 24, 5, 28, 45, 98, 52, 60]\n",
    "\n",
    "class Node:\n",
    "    def __init__(self, data):\n",
    "        self.data = data\n",
    "        self.left = None\n",
    "        self.right = None\n",
    "    \n",
    "def add(node, data):\n",
    "    if node == None: return\n",
    "    if node.data > data:\n",
    "        if node.left == None:\n",
    "            node.left = Node(data)\n",
    "            return\n",
    "        add(node.left, data)\n",
    "    if node.data < data:\n",
    "        if node.right == None:\n",
    "            node.right = Node(data)\n",
    "            return\n",
    "        add(node.right, data)\n",
    "\n",
    "def postorder(node):\n",
    "    if node == None: return\n",
    "    postorder(node.left)\n",
    "    postorder(node.right)\n",
    "    print(node.data)\n",
    "    \n",
    "root_node = Node(input_list.pop(0))\n",
    "for item in input_list:\n",
    "    add(root_node, item)\n",
    "postorder(root_node)"
   ]
  },
  {
   "cell_type": "code",
   "execution_count": 16,
   "metadata": {},
   "outputs": [
    {
     "name": "stdout",
     "output_type": "stream",
     "text": [
      "5\n",
      "28\n",
      "24\n",
      "45\n",
      "30\n",
      "60\n",
      "52\n",
      "98\n",
      "50\n"
     ]
    }
   ],
   "source": [
    "#import sys\n",
    "#sys.setrecursionlimit(100000)\n",
    "#input_list=list(map(int, sys.stdin.read().split()))\n",
    "input_list = [50, 30, 24, 5, 28, 45, 98, 52, 60]\n",
    "\n",
    "class Node:\n",
    "    def __init__(self, data):\n",
    "        self.data = data\n",
    "        self.left = None\n",
    "        self.right = None\n",
    "    \n",
    "def add(node, data):\n",
    "    if node == None: return\n",
    "    if node.data > data:\n",
    "        if node.left == None:\n",
    "            node.left = Node(data)\n",
    "            return\n",
    "        add(node.left, data)\n",
    "    if node.data < data:\n",
    "        if node.right == None:\n",
    "            node.right = Node(data)\n",
    "            return\n",
    "        add(node.right, data)\n",
    "\n",
    "def postorder(node):\n",
    "    if node == None: return\n",
    "    postorder(node.left)\n",
    "    postorder(node.right)\n",
    "    print(node.data)\n",
    "    \n",
    "root_node = Node(input_list.pop(0))\n",
    "for item in input_list:\n",
    "    add(root_node, item)\n",
    "postorder(root_node)"
   ]
  },
  {
   "cell_type": "markdown",
   "metadata": {},
   "source": [
    "# 그래프 순회 방법\n",
    "- 트리는 대표적인 그래프 형태의 자료구조이다.\n",
    "- 그래서, 트리에도 동일한 방법을 적용하는 것이 가능하다.\n",
    "- DFS(Depth First Search), BFS(Breadth First Search)\n",
    "- 깊이우선검색, 넓이우선검색"
   ]
  },
  {
   "cell_type": "markdown",
   "metadata": {},
   "source": [
    "## 인접행렬\n",
    "- 노드들 간의 인접한 정보를 행렬(2차원 리스트)로 표현"
   ]
  },
  {
   "cell_type": "code",
   "execution_count": 20,
   "metadata": {},
   "outputs": [
    {
     "name": "stdout",
     "output_type": "stream",
     "text": [
      "1 2\n",
      "1 3\n",
      "1 4\n",
      "2 4\n",
      "3 4\n"
     ]
    },
    {
     "data": {
      "text/plain": [
       "[[0, 0, 0, 0, 0],\n",
       " [0, 0, 1, 1, 1],\n",
       " [0, 1, 0, 0, 1],\n",
       " [0, 1, 0, 0, 1],\n",
       " [0, 1, 1, 1, 0]]"
      ]
     },
     "execution_count": 20,
     "metadata": {},
     "output_type": "execute_result"
    }
   ],
   "source": [
    "n,m,v = [4,5,1] #제출할때 변경\n",
    "\n",
    "matrix = [[0 for _ in range(n+1)] for _ in range(n+1)]\n",
    "\n",
    "for _ in range(m):\n",
    "    i, j = list(map(int, input().split()))\n",
    "    matrix[i][j] = 1\n",
    "    matrix[j][i] = 1\n",
    "    \n",
    "matrix"
   ]
  },
  {
   "cell_type": "markdown",
   "metadata": {},
   "source": [
    "## 인접 리스트"
   ]
  },
  {
   "cell_type": "code",
   "execution_count": 23,
   "metadata": {},
   "outputs": [
    {
     "name": "stdout",
     "output_type": "stream",
     "text": [
      "1 2\n",
      "1 3\n",
      "1 4\n",
      "2 4\n",
      "3 4\n"
     ]
    },
    {
     "data": {
      "text/plain": [
       "[[0], [0, [2], [3], [4]], [0, [4]], [0, [4]], [0]]"
      ]
     },
     "execution_count": 23,
     "metadata": {},
     "output_type": "execute_result"
    }
   ],
   "source": [
    "# 리스트를 사용\n",
    "n, m, v = [4, 5, 1]\n",
    "lists = [[0] for _ in range(n+1)]\n",
    "\n",
    "for _ in range(m):\n",
    "    i, j = list(map(int, input().split()))\n",
    "    lists[i].append([j])\n",
    "    \n",
    "lists"
   ]
  },
  {
   "cell_type": "code",
   "execution_count": 4,
   "metadata": {},
   "outputs": [
    {
     "name": "stdout",
     "output_type": "stream",
     "text": [
      "1 2\n",
      "1 3\n",
      "1 4\n",
      "2 4\n",
      "3 4\n",
      "[1, 2, 4, 3]\n"
     ]
    }
   ],
   "source": [
    "# dict 타입을 사용\n",
    "n, m, v = [4, 5, 1]\n",
    "\n",
    "lists = {}\n",
    "\n",
    "for _ in range(m):\n",
    "    i, j = list(map(int, input().split()))\n",
    "    if i not in lists:\n",
    "        lists[i] = [j] # 키가 존재하지 않으면 첫 번째 value는 리스트 타입\n",
    "    else:\n",
    "        lists[i] += [j] # 키가 존재한다는건 리스트가 이미 존재, 추가\n",
    "    if j not in lists:\n",
    "        lists[j] = [i]\n",
    "    else:\n",
    "        lists[j] += [i]\n",
    "\n",
    "# DFS구현        \n",
    "def dfs(lists, node):\n",
    "    visited = [] # 이전에 방문한 노드를 체크하기 위해\n",
    "    stack = [] # 다음에 방문할 노드를 체크하기 위해\n",
    "    stack.append(node) # 시작 노드부터 출발\n",
    "    \n",
    "    while stack:\n",
    "        node = stack.pop(-1) # 방문할 노드를 스택으로부터 가져옴\n",
    "        if node not in visited: # 이전에 방문한 적이 있는 노드인가?\n",
    "            visited.append(node) # 이번에 방문한 적이 없다면 기록\n",
    "            stack += reversed(lists[node]) #인접한 노드를 스택에 쌓아둔다(나중에)\n",
    "    return visited\n",
    "            \n",
    "answer = dfs(lists, v)\n",
    "print(answer)"
   ]
  },
  {
   "cell_type": "code",
   "execution_count": 7,
   "metadata": {},
   "outputs": [
    {
     "name": "stdout",
     "output_type": "stream",
     "text": [
      "1 2\n",
      "1 3\n",
      "1 4\n",
      "2 4\n",
      "3 4\n",
      "[1, 2, 3, 4]\n"
     ]
    }
   ],
   "source": [
    "# dict 타입을 사용\n",
    "n, m, v = [4, 5, 1]\n",
    "\n",
    "lists = {}\n",
    "\n",
    "for _ in range(m):\n",
    "    i, j = list(map(int, input().split()))\n",
    "    if i not in lists:\n",
    "        lists[i] = [j] # 키가 존재하지 않으면 첫 번째 value는 리스트 타입\n",
    "    else:\n",
    "        lists[i] += [j] # 키가 존재한다는건 리스트가 이미 존재, 추가\n",
    "    if j not in lists:\n",
    "        lists[j] = [i]\n",
    "    else:\n",
    "        lists[j] += [i]\n",
    "\n",
    "# BFS구현        \n",
    "def bfs(lists, node):\n",
    "    visited = [] # 이전에 방문한 노드를 체크하기 위해\n",
    "    queue = [] # 다음에 방문할 노드를 체크하기 위해\n",
    "    queue.append(node) # 시작 노드부터 출발\n",
    "    \n",
    "    while queue:\n",
    "        node = queue.pop(0) # 방문할 노드를 스택으로부터 가져옴\n",
    "        if node not in visited: # 이전에 방문한 적이 있는 노드인가?\n",
    "            visited.append(node) # 이번에 방문한 적이 없다면 기록\n",
    "            queue += lists[node] #인접한 노드를 스택에 쌓아둔다(나중에)\n",
    "    return visited\n",
    "            \n",
    "answer = bfs(lists, v)\n",
    "print(answer)"
   ]
  },
  {
   "cell_type": "code",
   "execution_count": 6,
   "metadata": {},
   "outputs": [
    {
     "name": "stdout",
     "output_type": "stream",
     "text": [
      "{1: [10, 20]}\n"
     ]
    }
   ],
   "source": [
    "# 원리\n",
    "lists = {}\n",
    "\n",
    "lists[1] = [10]\n",
    "lists[1] += [20]\n",
    "\n",
    "print(lists)"
   ]
  },
  {
   "cell_type": "code",
   "execution_count": null,
   "metadata": {},
   "outputs": [],
   "source": [
    "#dict 형식\n",
    "#dict 타입은{key: value}\n",
    "dict = {1: '첫번째 원소', 2: '두번째 원소', 3:'세번째 원소'} # {}를 사용하여 표현\n",
    "dict"
   ]
  },
  {
   "cell_type": "markdown",
   "metadata": {},
   "source": [
    "## 간선 리스트"
   ]
  },
  {
   "cell_type": "code",
   "execution_count": null,
   "metadata": {},
   "outputs": [],
   "source": []
  },
  {
   "cell_type": "markdown",
   "metadata": {},
   "source": [
    "# 미로 탐색"
   ]
  },
  {
   "cell_type": "markdown",
   "metadata": {},
   "source": [
    "### 내 code"
   ]
  },
  {
   "cell_type": "code",
   "execution_count": 12,
   "metadata": {},
   "outputs": [
    {
     "name": "stdout",
     "output_type": "stream",
     "text": [
      "4 6\n",
      "101111\n",
      "101010\n",
      "101011\n",
      "111011\n",
      "15\n"
     ]
    }
   ],
   "source": [
    "n,m = input().split()\n",
    "n = int(n)\n",
    "m = int(m)\n",
    "\n",
    "miro = []\n",
    "visit = [[0 for _ in range(m)] for _ in range(n)]\n",
    "\n",
    "#행렬 입력받기\n",
    "for _ in range(n):# 열을 중심으로 for문을 돌려야 함\n",
    "    tmp = input() #임시 요골로 row 값을 받고\n",
    "    row = []#가로: 요기에 저장한다\n",
    "    for c in tmp:\n",
    "        row.append(int(c))\n",
    "    miro.append(row)\n",
    "    \n",
    "#방문\n",
    "queue = []\n",
    "#(1,1)에서 출발한다\n",
    "queue.append([0,0])\n",
    "visit[0][0] = 1\n",
    "\n",
    "while True:\n",
    "    if len(queue) == 0: break\n",
    "    r, c = queue.pop(0)\n",
    "    if r-1 >= 0:\n",
    "        if miro[r-1][c] == 1 and visit[r-1][c] == 0:\n",
    "            queue.append([r-1, c])\n",
    "            visit[r-1][c] += visit[r][c]+1\n",
    "    if r+1 < len(miro):\n",
    "        if miro[r+1][c] == 1 and visit[r+1][c] == 0:\n",
    "            queue.append([r+1, c])\n",
    "            visit[r+1][c] = visit[r][c]+1 \n",
    "    if c-1 >= 0:\n",
    "        if miro[r][c-1] == 1 and visit[r][c-1] == 0:\n",
    "            queue.append([r, c-1])\n",
    "            visit[r][c-1] = visit[r][c]+1\n",
    "    if c+1 < len(miro[0]):\n",
    "        if miro[r][c+1] == 1 and visit[r][c+1] == 0:\n",
    "            queue.append([r, c+1])\n",
    "            visit[r][c+1] = visit[r][c]+1\n",
    "\n",
    "print(visit[(n-1)][(m-1)])"
   ]
  },
  {
   "cell_type": "markdown",
   "metadata": {},
   "source": [
    "### 강사님code"
   ]
  },
  {
   "cell_type": "code",
   "execution_count": 13,
   "metadata": {},
   "outputs": [
    {
     "ename": "NameError",
     "evalue": "name 'maze' is not defined",
     "output_type": "error",
     "traceback": [
      "\u001b[0;31m---------------------------------------------------------------------------\u001b[0m",
      "\u001b[0;31mNameError\u001b[0m                                 Traceback (most recent call last)",
      "\u001b[0;32m<ipython-input-13-f3cbef663494>\u001b[0m in \u001b[0;36m<module>\u001b[0;34m\u001b[0m\n\u001b[1;32m      6\u001b[0m     \u001b[0;32mfor\u001b[0m \u001b[0mj\u001b[0m \u001b[0;32min\u001b[0m \u001b[0mrange\u001b[0m\u001b[0;34m(\u001b[0m\u001b[0;36m1\u001b[0m\u001b[0;34m,\u001b[0m \u001b[0mm\u001b[0m\u001b[0;34m+\u001b[0m\u001b[0;36m1\u001b[0m\u001b[0;34m)\u001b[0m\u001b[0;34m:\u001b[0m\u001b[0;34m\u001b[0m\u001b[0;34m\u001b[0m\u001b[0m\n\u001b[1;32m      7\u001b[0m \u001b[0;34m\u001b[0m\u001b[0m\n\u001b[0;32m----> 8\u001b[0;31m         \u001b[0;32mif\u001b[0m \u001b[0mmaze\u001b[0m\u001b[0;34m[\u001b[0m\u001b[0mi\u001b[0m\u001b[0;34m]\u001b[0m\u001b[0;34m[\u001b[0m\u001b[0mj\u001b[0m\u001b[0;34m]\u001b[0m \u001b[0;34m==\u001b[0m \u001b[0;36m1\u001b[0m\u001b[0;34m:\u001b[0m \u001b[0;31m# 좌표에 값이 1이면 노드이다.=>(x, y)\u001b[0m\u001b[0;34m\u001b[0m\u001b[0;34m\u001b[0m\u001b[0m\n\u001b[0m\u001b[1;32m      9\u001b[0m             \u001b[0;31m# 인접 노드를 찾아서 인접 리스트에 넣자\u001b[0m\u001b[0;34m\u001b[0m\u001b[0;34m\u001b[0m\u001b[0;34m\u001b[0m\u001b[0m\n\u001b[1;32m     10\u001b[0m             \u001b[0;32mif\u001b[0m \u001b[0mmaze\u001b[0m\u001b[0;34m[\u001b[0m\u001b[0mi\u001b[0m\u001b[0;34m]\u001b[0m\u001b[0;34m[\u001b[0m\u001b[0mi\u001b[0m\u001b[0;34m-\u001b[0m\u001b[0;36m1\u001b[0m\u001b[0;34m]\u001b[0m \u001b[0;34m==\u001b[0m \u001b[0;36m1\u001b[0m\u001b[0;34m:\u001b[0m\u001b[0;34m\u001b[0m\u001b[0;34m\u001b[0m\u001b[0m\n",
      "\u001b[0;31mNameError\u001b[0m: name 'maze' is not defined"
     ]
    }
   ],
   "source": [
    "n, m = [4, 6]\n",
    "\n",
    "maze_list = {}\n",
    "\n",
    "for i in range(1, n+1):\n",
    "    for j in range(1, m+1):\n",
    "        \n",
    "        if maze[i][j] == 1: # 좌표에 값이 1이면 노드이다.=>(x, y)\n",
    "            # 인접 노드를 찾아서 인접 리스트에 넣자\n",
    "            if maze[i][i-1] == 1:\n",
    "                if (i, j) not in maze_list: maze_list[(i,j)] = [(i, j-1)]\n",
    "                else: maze_list[(i,j)] += [(i, j-1)]\n",
    "            if maze[i][j+1] == 1:\n",
    "                if (i, j) not in maze_list: maze_list[(i,j)] = [(i, j+1)]\n",
    "                else: maze_list[(i,j)] += [(i, j+1)]\n",
    "            if maze[i-1][j] == 1:\n",
    "                if (i, j) not in maze_list: maze_list[(i,j)] = [(i-1, j)]\n",
    "                else: maze_list[(i,j)] += [(i-1, j)]\n",
    "            if maze[i+1][j] == 1:\n",
    "                if (i, j) not in maze_list: maze_list[(i,j)] = [(i+1, j)]\n",
    "                else: maze_list[(i,j)] += [(i+1, j)]\n",
    "\n",
    "print(maze_list)"
   ]
  },
  {
   "cell_type": "code",
   "execution_count": null,
   "metadata": {},
   "outputs": [],
   "source": []
  }
 ],
 "metadata": {
  "kernelspec": {
   "display_name": "Python 3",
   "language": "python",
   "name": "python3"
  },
  "language_info": {
   "codemirror_mode": {
    "name": "ipython",
    "version": 3
   },
   "file_extension": ".py",
   "mimetype": "text/x-python",
   "name": "python",
   "nbconvert_exporter": "python",
   "pygments_lexer": "ipython3",
   "version": "3.7.4"
  }
 },
 "nbformat": 4,
 "nbformat_minor": 2
}
