{
 "cells": [
  {
   "cell_type": "markdown",
   "metadata": {},
   "source": [
    "# 연결 리스트(Linked List)\n",
    "- 파이썬의 리스트 처럼 선형구조를 갖는 자료구조의 한 종류이다.\n",
    "- 구조에 따라서 이중 연결 리스트(double Linked List) 등의 여러 구조가 존재한다.\n",
    "- 각 노드들이 선형적으로 연결 되어 있음을 나타낸다."
   ]
  },
  {
   "cell_type": "code",
   "execution_count": 2,
   "metadata": {},
   "outputs": [
    {
     "name": "stdout",
     "output_type": "stream",
     "text": [
      "head\n",
      "2\n",
      "1\n"
     ]
    }
   ],
   "source": [
    "# 파이썬에서 각 노드는 클래스 표현 가능\n",
    "\n",
    "# 노드 클래스 정의\n",
    "class Node:\n",
    "    \n",
    "    def __init__(self, data):\n",
    "        self.data = data\n",
    "        self.next = None\n",
    "        \n",
    "head = Node('head') # 연결 리스트의 제일 첫 노드\n",
    "tail = Node('tail') # 연결 리스트의 제일 마지막 노드\n",
    "\n",
    "head.next = tail # 아무것도 없는 빈 연결 리스트가 만들어질때 기본적인 공식\n",
    "\n",
    "# 노드를 헤드 노드 다음에 추가하는 방법\n",
    "node = Node(1)\n",
    "node.next = head.next #헤드 노드의 다음 노드를 현재 노드의 다음 노드로 지정\n",
    "head.next = node # 헤드 노드의 다음 노드를 현재 노드로 지정\n",
    "\n",
    "node = Node(2)\n",
    "node.next = head.next\n",
    "head.next = node\n",
    "\n",
    "#print(head, data)\n",
    "#print(head.next.data)\n",
    "#print(head.next.next.data)\n",
    "#print(head.next.next.next.data)\n",
    "\n",
    "#노드 순회하기\n",
    "         \n",
    "temp = head\n",
    "while temp.next != None:\n",
    "    print(temp.data)\n",
    "    temp = temp.next"
   ]
  },
  {
   "cell_type": "code",
   "execution_count": 3,
   "metadata": {},
   "outputs": [
    {
     "name": "stdout",
     "output_type": "stream",
     "text": [
      "1\n",
      "tail\n"
     ]
    }
   ],
   "source": [
    "# 가장 마지막 노드를 구해보자\n",
    "# 연결 리스트를 전부 순회하면서 테일 노드의 앞 노드를 찾아야한다.\n",
    "end = head\n",
    "while end.next != None:\n",
    "    prev = end\n",
    "    end = end.next\n",
    "    \n",
    "print(prev.data)\n",
    "print(end.data)"
   ]
  },
  {
   "cell_type": "code",
   "execution_count": 8,
   "metadata": {},
   "outputs": [
    {
     "name": "stdout",
     "output_type": "stream",
     "text": [
      "head\n",
      "3\n",
      "tail\n"
     ]
    }
   ],
   "source": [
    "# 3번 노드를 리스트의 제일 끝에 추가해 보기.\n",
    "end = head\n",
    "while end.next != None:\n",
    "    prev = end\n",
    "    end = end.next\n",
    "\n",
    "node = Node(3)\n",
    "prev.next = node\n",
    "node.next = tail\n",
    "\n",
    "temp = head\n",
    "while temp.next != None:\n",
    "    print(temp.data)\n",
    "    temp = temp.next\n",
    "print(temp.data)"
   ]
  },
  {
   "cell_type": "code",
   "execution_count": 19,
   "metadata": {},
   "outputs": [
    {
     "name": "stdout",
     "output_type": "stream",
     "text": [
      "head\n",
      "1\n",
      "2\n",
      "3\n",
      "tail\n"
     ]
    }
   ],
   "source": [
    "# 파이썬에서 각 노드는 클래스 표현 가능\n",
    "\n",
    "# 노드 클래스 정의\n",
    "class Node:\n",
    "    \n",
    "    def __init__(self, data):\n",
    "        self.data = data\n",
    "        self.next = None\n",
    "        \n",
    "head = Node('head') # 연결 리스트의 제일 첫 노드\n",
    "tail = Node('tail') # 연결 리스트의 제일 마지막 노드\n",
    "\n",
    "head.next = tail # 아무것도 없는 빈 연결 리스트가 만들어질때 기본적인 공식\n",
    "\n",
    "# 노드를 헤드 노드 다음에 추가하는 방법\n",
    "node = Node(1)\n",
    "node.next = head.next #헤드 노드의 다음 노드를 현재 노드의 다음 노드로 지정\n",
    "head.next = node # 헤드 노드의 다음 노드를 현재 노드로 지정\n",
    "\n",
    "node = Node(2)\n",
    "node.next = head.next\n",
    "head.next = node\n",
    "\n",
    "#print(head, data)\n",
    "#print(head.next.data)\n",
    "#print(head.next.next.data)\n",
    "#print(head.next.next.next.data)\n",
    "\n",
    "#노드 순회하기\n",
    "         \n",
    "temp = head\n",
    "while temp.next != None:\n",
    "    #print(temp.data)\n",
    "    temp = temp.next\n",
    "\n",
    "# 가장 마지막 노드를 구해보자\n",
    "# 연결 리스트를 전부 순회하면서 테일 노드의 앞 노드를 찾아야한다.\n",
    "end = head\n",
    "while end.next != None:\n",
    "    prev = end\n",
    "    end = end.next\n",
    "\n",
    "node = Node(3)\n",
    "prev.next = node\n",
    "node.next = tail\n",
    "\n",
    "temp = head\n",
    "while temp.next != None:\n",
    "    #print(temp.data)\n",
    "    temp = temp.next\n",
    "#print(temp.data)\n",
    "\n",
    "# 삭제\n",
    "imsi = head.next\n",
    "\n",
    "current = head\n",
    "while current.next != None:\n",
    "    prev = current\n",
    "    current = current.next\n",
    "    \n",
    "    if current.data == 2:\n",
    "        break\n",
    "        \n",
    "prev.next = current.next\n",
    "current.next = None\n",
    "\n",
    "temp = head\n",
    "while temp.next != None:\n",
    "    temp = temp.next\n",
    "    if temp.data == 1:\n",
    "        break\n",
    "\n",
    "current.next = temp.next\n",
    "temp.next = current\n",
    "\n",
    "temp = head\n",
    "while temp.next != None:\n",
    "    print(temp.data)\n",
    "    temp = temp.next\n",
    "print(temp.data)"
   ]
  },
  {
   "cell_type": "markdown",
   "metadata": {},
   "source": [
    "## 달팽이 리스트 문제 풀이"
   ]
  },
  {
   "cell_type": "code",
   "execution_count": 26,
   "metadata": {},
   "outputs": [
    {
     "name": "stdout",
     "output_type": "stream",
     "text": [
      "10 10 3\n",
      "13 2 5 11 7 8 2 4 9 10\n",
      "1\n",
      "2\n",
      "3\n",
      "11\n"
     ]
    },
    {
     "ename": "KeyboardInterrupt",
     "evalue": "",
     "output_type": "error",
     "traceback": [
      "\u001b[0;31m---------------------------------------------------------------------------\u001b[0m",
      "\u001b[0;31mKeyboardInterrupt\u001b[0m                         Traceback (most recent call last)",
      "\u001b[0;32m/usr/local/lib/python3.7/site-packages/ipykernel/kernelbase.py\u001b[0m in \u001b[0;36m_input_request\u001b[0;34m(self, prompt, ident, parent, password)\u001b[0m\n\u001b[1;32m    883\u001b[0m             \u001b[0;32mtry\u001b[0m\u001b[0;34m:\u001b[0m\u001b[0;34m\u001b[0m\u001b[0;34m\u001b[0m\u001b[0m\n\u001b[0;32m--> 884\u001b[0;31m                 \u001b[0mident\u001b[0m\u001b[0;34m,\u001b[0m \u001b[0mreply\u001b[0m \u001b[0;34m=\u001b[0m \u001b[0mself\u001b[0m\u001b[0;34m.\u001b[0m\u001b[0msession\u001b[0m\u001b[0;34m.\u001b[0m\u001b[0mrecv\u001b[0m\u001b[0;34m(\u001b[0m\u001b[0mself\u001b[0m\u001b[0;34m.\u001b[0m\u001b[0mstdin_socket\u001b[0m\u001b[0;34m,\u001b[0m \u001b[0;36m0\u001b[0m\u001b[0;34m)\u001b[0m\u001b[0;34m\u001b[0m\u001b[0;34m\u001b[0m\u001b[0m\n\u001b[0m\u001b[1;32m    885\u001b[0m             \u001b[0;32mexcept\u001b[0m \u001b[0mException\u001b[0m\u001b[0;34m:\u001b[0m\u001b[0;34m\u001b[0m\u001b[0;34m\u001b[0m\u001b[0m\n",
      "\u001b[0;32m/usr/local/lib/python3.7/site-packages/jupyter_client/session.py\u001b[0m in \u001b[0;36mrecv\u001b[0;34m(self, socket, mode, content, copy)\u001b[0m\n\u001b[1;32m    802\u001b[0m         \u001b[0;32mtry\u001b[0m\u001b[0;34m:\u001b[0m\u001b[0;34m\u001b[0m\u001b[0;34m\u001b[0m\u001b[0m\n\u001b[0;32m--> 803\u001b[0;31m             \u001b[0mmsg_list\u001b[0m \u001b[0;34m=\u001b[0m \u001b[0msocket\u001b[0m\u001b[0;34m.\u001b[0m\u001b[0mrecv_multipart\u001b[0m\u001b[0;34m(\u001b[0m\u001b[0mmode\u001b[0m\u001b[0;34m,\u001b[0m \u001b[0mcopy\u001b[0m\u001b[0;34m=\u001b[0m\u001b[0mcopy\u001b[0m\u001b[0;34m)\u001b[0m\u001b[0;34m\u001b[0m\u001b[0;34m\u001b[0m\u001b[0m\n\u001b[0m\u001b[1;32m    804\u001b[0m         \u001b[0;32mexcept\u001b[0m \u001b[0mzmq\u001b[0m\u001b[0;34m.\u001b[0m\u001b[0mZMQError\u001b[0m \u001b[0;32mas\u001b[0m \u001b[0me\u001b[0m\u001b[0;34m:\u001b[0m\u001b[0;34m\u001b[0m\u001b[0;34m\u001b[0m\u001b[0m\n",
      "\u001b[0;32m/usr/local/lib/python3.7/site-packages/zmq/sugar/socket.py\u001b[0m in \u001b[0;36mrecv_multipart\u001b[0;34m(self, flags, copy, track)\u001b[0m\n\u001b[1;32m    474\u001b[0m         \"\"\"\n\u001b[0;32m--> 475\u001b[0;31m         \u001b[0mparts\u001b[0m \u001b[0;34m=\u001b[0m \u001b[0;34m[\u001b[0m\u001b[0mself\u001b[0m\u001b[0;34m.\u001b[0m\u001b[0mrecv\u001b[0m\u001b[0;34m(\u001b[0m\u001b[0mflags\u001b[0m\u001b[0;34m,\u001b[0m \u001b[0mcopy\u001b[0m\u001b[0;34m=\u001b[0m\u001b[0mcopy\u001b[0m\u001b[0;34m,\u001b[0m \u001b[0mtrack\u001b[0m\u001b[0;34m=\u001b[0m\u001b[0mtrack\u001b[0m\u001b[0;34m)\u001b[0m\u001b[0;34m]\u001b[0m\u001b[0;34m\u001b[0m\u001b[0;34m\u001b[0m\u001b[0m\n\u001b[0m\u001b[1;32m    476\u001b[0m         \u001b[0;31m# have first part already, only loop while more to receive\u001b[0m\u001b[0;34m\u001b[0m\u001b[0;34m\u001b[0m\u001b[0;34m\u001b[0m\u001b[0m\n",
      "\u001b[0;32mzmq/backend/cython/socket.pyx\u001b[0m in \u001b[0;36mzmq.backend.cython.socket.Socket.recv\u001b[0;34m()\u001b[0m\n",
      "\u001b[0;32mzmq/backend/cython/socket.pyx\u001b[0m in \u001b[0;36mzmq.backend.cython.socket.Socket.recv\u001b[0;34m()\u001b[0m\n",
      "\u001b[0;32mzmq/backend/cython/socket.pyx\u001b[0m in \u001b[0;36mzmq.backend.cython.socket._recv_copy\u001b[0;34m()\u001b[0m\n",
      "\u001b[0;32m/usr/local/lib/python3.7/site-packages/zmq/backend/cython/checkrc.pxd\u001b[0m in \u001b[0;36mzmq.backend.cython.checkrc._check_rc\u001b[0;34m()\u001b[0m\n",
      "\u001b[0;31mKeyboardInterrupt\u001b[0m: ",
      "\nDuring handling of the above exception, another exception occurred:\n",
      "\u001b[0;31mKeyboardInterrupt\u001b[0m                         Traceback (most recent call last)",
      "\u001b[0;32m<ipython-input-26-5d9f62260f69>\u001b[0m in \u001b[0;36m<module>\u001b[0;34m\u001b[0m\n\u001b[1;32m     23\u001b[0m \u001b[0;34m\u001b[0m\u001b[0m\n\u001b[1;32m     24\u001b[0m \u001b[0;32mfor\u001b[0m \u001b[0m_\u001b[0m \u001b[0;32min\u001b[0m \u001b[0mrange\u001b[0m\u001b[0;34m(\u001b[0m\u001b[0mm\u001b[0m\u001b[0;34m)\u001b[0m\u001b[0;34m:\u001b[0m\u001b[0;34m\u001b[0m\u001b[0;34m\u001b[0m\u001b[0m\n\u001b[0;32m---> 25\u001b[0;31m     \u001b[0mk\u001b[0m \u001b[0;34m=\u001b[0m \u001b[0mint\u001b[0m\u001b[0;34m(\u001b[0m\u001b[0minput\u001b[0m\u001b[0;34m(\u001b[0m\u001b[0;34m)\u001b[0m\u001b[0;34m)\u001b[0m\u001b[0;34m\u001b[0m\u001b[0;34m\u001b[0m\u001b[0m\n\u001b[0m\u001b[1;32m     26\u001b[0m \u001b[0;34m\u001b[0m\u001b[0m\n\u001b[1;32m     27\u001b[0m     \u001b[0mk_node\u001b[0m \u001b[0;34m=\u001b[0m \u001b[0mhead\u001b[0m\u001b[0;34m.\u001b[0m\u001b[0mnext\u001b[0m\u001b[0;34m\u001b[0m\u001b[0;34m\u001b[0m\u001b[0m\n",
      "\u001b[0;32m/usr/local/lib/python3.7/site-packages/ipykernel/kernelbase.py\u001b[0m in \u001b[0;36mraw_input\u001b[0;34m(self, prompt)\u001b[0m\n\u001b[1;32m    857\u001b[0m             \u001b[0mself\u001b[0m\u001b[0;34m.\u001b[0m\u001b[0m_parent_ident\u001b[0m\u001b[0;34m,\u001b[0m\u001b[0;34m\u001b[0m\u001b[0;34m\u001b[0m\u001b[0m\n\u001b[1;32m    858\u001b[0m             \u001b[0mself\u001b[0m\u001b[0;34m.\u001b[0m\u001b[0m_parent_header\u001b[0m\u001b[0;34m,\u001b[0m\u001b[0;34m\u001b[0m\u001b[0;34m\u001b[0m\u001b[0m\n\u001b[0;32m--> 859\u001b[0;31m             \u001b[0mpassword\u001b[0m\u001b[0;34m=\u001b[0m\u001b[0;32mFalse\u001b[0m\u001b[0;34m,\u001b[0m\u001b[0;34m\u001b[0m\u001b[0;34m\u001b[0m\u001b[0m\n\u001b[0m\u001b[1;32m    860\u001b[0m         )\n\u001b[1;32m    861\u001b[0m \u001b[0;34m\u001b[0m\u001b[0m\n",
      "\u001b[0;32m/usr/local/lib/python3.7/site-packages/ipykernel/kernelbase.py\u001b[0m in \u001b[0;36m_input_request\u001b[0;34m(self, prompt, ident, parent, password)\u001b[0m\n\u001b[1;32m    887\u001b[0m             \u001b[0;32mexcept\u001b[0m \u001b[0mKeyboardInterrupt\u001b[0m\u001b[0;34m:\u001b[0m\u001b[0;34m\u001b[0m\u001b[0;34m\u001b[0m\u001b[0m\n\u001b[1;32m    888\u001b[0m                 \u001b[0;31m# re-raise KeyboardInterrupt, to truncate traceback\u001b[0m\u001b[0;34m\u001b[0m\u001b[0;34m\u001b[0m\u001b[0;34m\u001b[0m\u001b[0m\n\u001b[0;32m--> 889\u001b[0;31m                 \u001b[0;32mraise\u001b[0m \u001b[0mKeyboardInterrupt\u001b[0m\u001b[0;34m\u001b[0m\u001b[0;34m\u001b[0m\u001b[0m\n\u001b[0m\u001b[1;32m    890\u001b[0m             \u001b[0;32melse\u001b[0m\u001b[0;34m:\u001b[0m\u001b[0;34m\u001b[0m\u001b[0;34m\u001b[0m\u001b[0m\n\u001b[1;32m    891\u001b[0m                 \u001b[0;32mbreak\u001b[0m\u001b[0;34m\u001b[0m\u001b[0;34m\u001b[0m\u001b[0m\n",
      "\u001b[0;31mKeyboardInterrupt\u001b[0m: "
     ]
    }
   ],
   "source": [
    "#n, m, v = input().split()\n",
    "#n, m, v = list(map(int, line))\n",
    "\n",
    "def __init__(self, data):\n",
    "        self.data = data\n",
    "        self.next = None\n",
    "\n",
    "line = input().split() # 리스트\n",
    "n,m,v = list(map(int, line))\n",
    "line = input().split()\n",
    "\n",
    "head = Node('head')\n",
    "prev = head\n",
    "\n",
    "v_node = None\n",
    "for i, item in enumerate(line):# enumerate()를 이용해서 인덱스와 원소를 한번에 가져올 수 있다.\n",
    "    node = Node(item)\n",
    "    if i == v-1: v_node = node\n",
    "    \n",
    "    prev.next = node\n",
    "    prev = node\n",
    "node.next = v_node\n",
    "\n",
    "for _ in range(m):\n",
    "    k = int(input())\n",
    "    \n",
    "    k_node = head.next\n",
    "    for _ in range(k):\n",
    "        k_node = k_node.next\n",
    "    print(k_node.data)"
   ]
  },
  {
   "cell_type": "code",
   "execution_count": 23,
   "metadata": {},
   "outputs": [
    {
     "name": "stdout",
     "output_type": "stream",
     "text": [
      "10 10 3\n",
      "13 2 5 11 7 8 2 4 9 10\n",
      "1\n",
      "2\n",
      "3\n",
      "8\n",
      "9\n",
      "10\n",
      "11\n",
      "16\n",
      "17\n",
      "49\n",
      "2\n",
      "5\n",
      "11\n",
      "9\n",
      "10\n",
      "5\n",
      "11\n",
      "9\n",
      "10\n",
      "10\n"
     ]
    }
   ],
   "source": [
    "# 달팽이 리스트\n",
    "\n",
    "n,m,v = map(int,input().split())\n",
    "v = v-1\n",
    "c = list(map(int,input().split()))\n",
    "answer = list()\n",
    "len_recurse = n-v\n",
    "\n",
    "for i in range(0,m):\n",
    "    k = int(input())\n",
    "    if k < n:\n",
    "        answer.append(c[k])\n",
    "    else:\n",
    "        tmp = (k-v)%len_recurse\n",
    "        answer.append(c[v+tmp])\n",
    "        \n",
    "for ans in answer:\n",
    "    print(ans)"
   ]
  },
  {
   "cell_type": "markdown",
   "metadata": {},
   "source": [
    "# 키로거"
   ]
  },
  {
   "cell_type": "code",
   "execution_count": 2,
   "metadata": {},
   "outputs": [
    {
     "name": "stdout",
     "output_type": "stream",
     "text": [
      "1\n",
      "abcd\n",
      "a\n",
      "b\n",
      "c\n",
      "d\n",
      "tail\n"
     ]
    }
   ],
   "source": [
    "class Node:\n",
    "    \n",
    "    def __init__(self, data):\n",
    "        self.data = data\n",
    "        self.next = None\n",
    "        self.node = None\n",
    "        \n",
    "head = Node('head')\n",
    "tail = Node('tail')\n",
    "\n",
    "head.next = tail\n",
    "head.pref = None\n",
    "tail.prev = head\n",
    "tail.next = None\n",
    "\n",
    "n = int(input())\n",
    "\n",
    "for _ in range(n):\n",
    "    line = input()\n",
    "    \n",
    "    for key in line:\n",
    "        if key == '<':\n",
    "            pass\n",
    "        elif key == '>':\n",
    "            pass\n",
    "        elif key == '-':\n",
    "            pass\n",
    "        else:\n",
    "            node = Node(key)\n",
    "            \n",
    "            node.prev = tail.prev\n",
    "            node.next = tail\n",
    "            tail.prev = node\n",
    "            node.prev.next = node\n",
    "            \n",
    "temp = head.next\n",
    "while temp != None:\n",
    "    print(temp.data)\n",
    "    temp = temp.next"
   ]
  },
  {
   "cell_type": "code",
   "execution_count": null,
   "metadata": {},
   "outputs": [],
   "source": []
  }
 ],
 "metadata": {
  "kernelspec": {
   "display_name": "Python 3",
   "language": "python",
   "name": "python3"
  },
  "language_info": {
   "codemirror_mode": {
    "name": "ipython",
    "version": 3
   },
   "file_extension": ".py",
   "mimetype": "text/x-python",
   "name": "python",
   "nbconvert_exporter": "python",
   "pygments_lexer": "ipython3",
   "version": "3.7.4"
  }
 },
 "nbformat": 4,
 "nbformat_minor": 2
}
