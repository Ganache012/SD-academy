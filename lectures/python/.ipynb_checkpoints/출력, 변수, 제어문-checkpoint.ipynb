{
 "cells": [
  {
   "cell_type": "markdown",
   "metadata": {},
   "source": [
    "# 파이썬 기초 - 주의 사항\n",
    "\n",
    "## 들여쓰기\n",
    "- 파이썬 에서는 블록을 표현할 때 들여쓰기를 사용한다. \n",
    "- 들여쓰기의 간격이 다르면 서로 다른 블록으로 판단하여 실행 오류가 발생할 수 있다. \n",
    "- 참고로, 공백과 탭은 엄연히 다르다.\n",
    "\n",
    "## 오류에 대한 대처법\n",
    "- ~~파이썬은 문법 오류나 런타임 오류와 관계없이 항상 실행중에 오류가 발생한다.~~(요즘은 툴이 좋아져서 실행하기 전에 간단한 문법 오류는 미리 찾아주기도 한다. )\n",
    "- 오류가 발생했을 경우 출력되는 메시지는 가급적 자세히 확인해보자. "
   ]
  },
  {
   "cell_type": "markdown",
   "metadata": {},
   "source": [
    "# 파이썬 기초 - 프린트 명령의 이해"
   ]
  },
  {
   "cell_type": "code",
   "execution_count": null,
   "metadata": {},
   "outputs": [],
   "source": [
    "print('hello, world')\n",
    "print(\"hello, world\")\n",
    "print('''hello, world''')\n",
    "print(\"\"\"hello, world\"\"\")"
   ]
  },
  {
   "cell_type": "markdown",
   "metadata": {},
   "source": [
    "### [참고]  escape string\n",
    "\n",
    "```\n",
    "\\n : 개행\n",
    "\\t : 탭\n",
    "\\\\ : 특수 문자\n",
    "\\': 특수 문자\n",
    "\\\" : 특수 문자\n",
    "\\b : 백 스페이스\n",
    "\\0 : 널 문자\n",
    "```\n"
   ]
  },
  {
   "cell_type": "code",
   "execution_count": 1,
   "metadata": {},
   "outputs": [
    {
     "name": "stdout",
     "output_type": "stream",
     "text": [
      "hello, world\n",
      "hello, world\n"
     ]
    }
   ],
   "source": [
    "print('hello, world\\nhello, world')"
   ]
  },
  {
   "cell_type": "markdown",
   "metadata": {},
   "source": [
    "# 개를 출력해 봅시다!\n",
    "\n",
    "```\n",
    "|\\_/|\n",
    "|q p|   /}\n",
    "( 0 )\"\"\"\\\n",
    "|\"^\"`    |\n",
    "||_/=\\\\__|\n",
    "```\n",
    "\n",
    "> 출처: 백준 알고리즘:https://www.acmicpc.net"
   ]
  },
  {
   "cell_type": "code",
   "execution_count": 1,
   "metadata": {},
   "outputs": [],
   "source": [
    "# 여기에 작성 하시면 됩니다."
   ]
  },
  {
   "cell_type": "code",
   "execution_count": null,
   "metadata": {},
   "outputs": [],
   "source": []
  }
 ],
 "metadata": {
  "kernelspec": {
   "display_name": "Python 3",
   "language": "python",
   "name": "python3"
  },
  "language_info": {
   "codemirror_mode": {
    "name": "ipython",
    "version": 3
   },
   "file_extension": ".py",
   "mimetype": "text/x-python",
   "name": "python",
   "nbconvert_exporter": "python",
   "pygments_lexer": "ipython3",
   "version": "3.7.4"
  }
 },
 "nbformat": 4,
 "nbformat_minor": 2
}
