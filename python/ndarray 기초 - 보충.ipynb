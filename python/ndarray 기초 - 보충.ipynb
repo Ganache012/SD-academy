{
 "cells": [
  {
   "cell_type": "code",
   "execution_count": 4,
   "metadata": {},
   "outputs": [],
   "source": [
    "import numpy as np"
   ]
  },
  {
   "cell_type": "markdown",
   "metadata": {},
   "source": [
    "## ndarray 데이터 생성하기(랜덤)\n",
    "- zeros, ones, linspace, ...외에 추가로\n",
    "- random 모듈의 함수를 통해 ndarray 생성"
   ]
  },
  {
   "cell_type": "markdown",
   "metadata": {},
   "source": [
    "### rand: 0,1 사이에 랜덤한 ndarray를 생성"
   ]
  },
  {
   "cell_type": "code",
   "execution_count": 6,
   "metadata": {},
   "outputs": [
    {
     "data": {
      "text/plain": [
       "array([0.73449325, 0.69760352, 0.36355903, 0.95632392, 0.02007786,\n",
       "       0.82751016, 0.82679997, 0.53317871, 0.61505685, 0.58370039])"
      ]
     },
     "execution_count": 6,
     "metadata": {},
     "output_type": "execute_result"
    }
   ],
   "source": [
    "np.random.rand(10)"
   ]
  },
  {
   "cell_type": "code",
   "execution_count": 7,
   "metadata": {},
   "outputs": [
    {
     "data": {
      "text/plain": [
       "array([[0.60008292, 0.80229753, 0.80693585],\n",
       "       [0.28592136, 0.19250123, 0.59554021],\n",
       "       [0.14932162, 0.13857706, 0.04331257],\n",
       "       [0.90598631, 0.88812844, 0.5569352 ]])"
      ]
     },
     "execution_count": 7,
     "metadata": {},
     "output_type": "execute_result"
    }
   ],
   "source": [
    "# 다차원 ndarray도 생성 가능하다.\n",
    "np.random.rand(4,3)"
   ]
  },
  {
   "cell_type": "markdown",
   "metadata": {},
   "source": [
    "### randn(random normal distribution)\n",
    "- 정규분포\n",
    "- 정규분포로 샘플링된 랜덤한 데이터를 생성"
   ]
  },
  {
   "cell_type": "code",
   "execution_count": 8,
   "metadata": {},
   "outputs": [
    {
     "data": {
      "text/plain": [
       "array([-1.30819412,  1.05744564, -0.1564814 ,  1.44211882, -1.13481172])"
      ]
     },
     "execution_count": 8,
     "metadata": {},
     "output_type": "execute_result"
    }
   ],
   "source": [
    "np.random.randn(5)"
   ]
  },
  {
   "cell_type": "code",
   "execution_count": 9,
   "metadata": {},
   "outputs": [
    {
     "data": {
      "text/plain": [
       "array([[-1.0234792 , -0.12736771, -0.79678668],\n",
       "       [ 1.03536892,  0.56047554, -0.55500528],\n",
       "       [ 0.60479155,  0.29679129, -0.0214006 ],\n",
       "       [ 0.71446262,  0.40795256,  0.25960531]])"
      ]
     },
     "execution_count": 9,
     "metadata": {},
     "output_type": "execute_result"
    }
   ],
   "source": [
    "np.random.randn(4,3)"
   ]
  },
  {
   "cell_type": "markdown",
   "metadata": {},
   "source": [
    "### randint\n",
    "- 지정된 정수 사이에서 랜덤한 ndarray를 생성"
   ]
  },
  {
   "cell_type": "code",
   "execution_count": 10,
   "metadata": {},
   "outputs": [
    {
     "data": {
      "text/plain": [
       "7"
      ]
     },
     "execution_count": 10,
     "metadata": {},
     "output_type": "execute_result"
    }
   ],
   "source": [
    "np.random.randint(1, 10)"
   ]
  },
  {
   "cell_type": "code",
   "execution_count": 11,
   "metadata": {},
   "outputs": [
    {
     "data": {
      "text/plain": [
       "array([3, 5, 4, 8, 4])"
      ]
     },
     "execution_count": 11,
     "metadata": {},
     "output_type": "execute_result"
    }
   ],
   "source": [
    "np.random.randint(1, 10, size=(5))"
   ]
  },
  {
   "cell_type": "code",
   "execution_count": 12,
   "metadata": {},
   "outputs": [
    {
     "data": {
      "text/plain": [
       "array([[3, 3, 3],\n",
       "       [6, 5, 8],\n",
       "       [5, 7, 6],\n",
       "       [5, 5, 7]])"
      ]
     },
     "execution_count": 12,
     "metadata": {},
     "output_type": "execute_result"
    }
   ],
   "source": [
    "np.random.randint(1, 10, size=(4,3))"
   ]
  },
  {
   "cell_type": "markdown",
   "metadata": {},
   "source": [
    "### choice\n",
    "- 주어진 정수나, 1차원 ndarray로 부터 랜덤하게 샘플링하여 ndarray를 생성"
   ]
  },
  {
   "cell_type": "code",
   "execution_count": 13,
   "metadata": {},
   "outputs": [
    {
     "data": {
      "text/plain": [
       "array([[9, 0, 8],\n",
       "       [9, 2, 8],\n",
       "       [5, 2, 1],\n",
       "       [4, 9, 0]])"
      ]
     },
     "execution_count": 13,
     "metadata": {},
     "output_type": "execute_result"
    }
   ],
   "source": [
    "# np.arange(10)한 ndarray로 부터 랜덤하게 샘플링(초이스)\n",
    "np.random.choice(10, size=(4,3))"
   ]
  },
  {
   "cell_type": "code",
   "execution_count": 15,
   "metadata": {},
   "outputs": [
    {
     "data": {
      "text/plain": [
       "array([[4, 0, 8],\n",
       "       [1, 1, 1],\n",
       "       [4, 3, 7],\n",
       "       [0, 5, 0]])"
      ]
     },
     "execution_count": 15,
     "metadata": {},
     "output_type": "execute_result"
    }
   ],
   "source": [
    "x = np.arange(10)\n",
    "np.random.choice(x, size=(4,3))"
   ]
  },
  {
   "cell_type": "markdown",
   "metadata": {},
   "source": [
    "### 확률분포에 따른 ndarray 생성\n",
    "- 잘 알려진 분포: 정규, 포아송, 베타분포, ...\n",
    "- 수집된 데이터로부터 확률 분포를 구할 수 있다."
   ]
  },
  {
   "cell_type": "code",
   "execution_count": 16,
   "metadata": {},
   "outputs": [
    {
     "data": {
      "text/plain": [
       "array([[1.8047528 , 2.10397225, 1.69904856],\n",
       "       [1.78668297, 1.86102234, 2.00885547],\n",
       "       [2.41345786, 1.25867147, 2.52368613],\n",
       "       [2.82249405, 2.75172805, 2.26235039]])"
      ]
     },
     "execution_count": 16,
     "metadata": {},
     "output_type": "execute_result"
    }
   ],
   "source": [
    "np.random.uniform(1.0, 3.0, size=(4,3))"
   ]
  },
  {
   "cell_type": "code",
   "execution_count": 17,
   "metadata": {},
   "outputs": [
    {
     "data": {
      "text/plain": [
       "array([[ 1.08246563, -0.11154358, -0.55511999],\n",
       "       [-0.16070325,  1.12928504,  0.80882094],\n",
       "       [ 0.72167758,  1.75028219,  0.22607822],\n",
       "       [ 1.10378114,  0.7384983 ,  0.75618076]])"
      ]
     },
     "execution_count": 17,
     "metadata": {},
     "output_type": "execute_result"
    }
   ],
   "source": [
    "np.random.normal(size=(4,3))"
   ]
  },
  {
   "cell_type": "code",
   "execution_count": 18,
   "metadata": {},
   "outputs": [
    {
     "data": {
      "text/plain": [
       "array([[ 0.06056824, -0.3310758 , -0.25599477],\n",
       "       [ 1.32717392,  0.19783536, -1.34976716],\n",
       "       [ 1.09733598,  0.99237247, -0.50281735],\n",
       "       [ 0.48913868,  0.62957294,  0.53638938]])"
      ]
     },
     "execution_count": 18,
     "metadata": {},
     "output_type": "execute_result"
    }
   ],
   "source": [
    "np.random.randn(4,3)"
   ]
  },
  {
   "cell_type": "markdown",
   "metadata": {},
   "source": [
    "### seed\n",
    "- 랜덤 데이터 생성의 기준\n",
    "- 랜덤하게 생성된 값을 고정시키고 싶은 경우"
   ]
  },
  {
   "cell_type": "code",
   "execution_count": 26,
   "metadata": {},
   "outputs": [
    {
     "data": {
      "text/plain": [
       "array([[ 1.3315865 ,  0.71527897, -1.54540029],\n",
       "       [-0.00838385,  0.62133597, -0.72008556],\n",
       "       [ 0.26551159,  0.10854853,  0.00429143],\n",
       "       [-0.17460021,  0.43302619,  1.20303737],\n",
       "       [-0.96506567,  1.02827408,  0.22863013],\n",
       "       [ 0.44513761, -1.13660221,  0.13513688],\n",
       "       [ 1.484537  , -1.07980489, -1.97772828],\n",
       "       [-1.7433723 ,  0.26607016,  2.38496733],\n",
       "       [ 1.12369125,  1.67262221,  0.09914922],\n",
       "       [ 1.39799638, -0.27124799,  0.61320418]])"
      ]
     },
     "execution_count": 26,
     "metadata": {},
     "output_type": "execute_result"
    }
   ],
   "source": [
    "np.random.seed(10)\n",
    "np.random.randn(10,3)"
   ]
  },
  {
   "cell_type": "markdown",
   "metadata": {},
   "source": [
    "## 다차원을 1차원으로 변경"
   ]
  },
  {
   "cell_type": "code",
   "execution_count": 28,
   "metadata": {},
   "outputs": [
    {
     "name": "stdout",
     "output_type": "stream",
     "text": [
      "[[15 18 80]\n",
      " [71 88 11]\n",
      " [17 46  7]\n",
      " [75 28 33]]\n"
     ]
    }
   ],
   "source": [
    "arr = np.random.randint(100, size=(4,3))\n",
    "print(arr)"
   ]
  },
  {
   "cell_type": "code",
   "execution_count": 33,
   "metadata": {},
   "outputs": [
    {
     "data": {
      "text/plain": [
       "array([15, 18, 80, 71, 88, 11, 17, 46,  7, 75, 28, 33])"
      ]
     },
     "execution_count": 33,
     "metadata": {},
     "output_type": "execute_result"
    }
   ],
   "source": [
    "# default: row 우선 변경\n",
    "np.ravel(arr, order='C')"
   ]
  },
  {
   "cell_type": "code",
   "execution_count": 35,
   "metadata": {},
   "outputs": [
    {
     "data": {
      "text/plain": [
       "array([15, 71, 17, 75, 18, 88, 46, 28, 80, 11,  7, 33])"
      ]
     },
     "execution_count": 35,
     "metadata": {},
     "output_type": "execute_result"
    }
   ],
   "source": [
    "# 'F': column 우선 변경\n",
    "np.ravel(arr, order='F')"
   ]
  },
  {
   "cell_type": "code",
   "execution_count": 37,
   "metadata": {},
   "outputs": [
    {
     "data": {
      "text/plain": [
       "array([15, 18, 80, 71, 88, 11, 17, 46,  7, 75, 28, 33])"
      ]
     },
     "execution_count": 37,
     "metadata": {},
     "output_type": "execute_result"
    }
   ],
   "source": [
    "arr.ravel()"
   ]
  },
  {
   "cell_type": "code",
   "execution_count": 38,
   "metadata": {},
   "outputs": [
    {
     "data": {
      "text/plain": [
       "array([15, 71, 17, 75, 18, 88, 46, 28, 80, 11,  7, 33])"
      ]
     },
     "execution_count": 38,
     "metadata": {},
     "output_type": "execute_result"
    }
   ],
   "source": [
    "arr.ravel(order='F')"
   ]
  },
  {
   "cell_type": "code",
   "execution_count": 32,
   "metadata": {},
   "outputs": [
    {
     "data": {
      "text/plain": [
       "array([15, 18, 80, 71, 88, 11, 17, 46,  7, 75, 28, 33])"
      ]
     },
     "execution_count": 32,
     "metadata": {},
     "output_type": "execute_result"
    }
   ],
   "source": [
    "arr.flatten()"
   ]
  },
  {
   "cell_type": "code",
   "execution_count": 39,
   "metadata": {},
   "outputs": [
    {
     "data": {
      "text/plain": [
       "array([15, 71, 17, 75, 18, 88, 46, 28, 80, 11,  7, 33])"
      ]
     },
     "execution_count": 39,
     "metadata": {},
     "output_type": "execute_result"
    }
   ],
   "source": [
    "arr.flatten(order='F')"
   ]
  }
 ],
 "metadata": {
  "kernelspec": {
   "display_name": "Python 3",
   "language": "python",
   "name": "python3"
  },
  "language_info": {
   "codemirror_mode": {
    "name": "ipython",
    "version": 3
   },
   "file_extension": ".py",
   "mimetype": "text/x-python",
   "name": "python",
   "nbconvert_exporter": "python",
   "pygments_lexer": "ipython3",
   "version": "3.7.4"
  }
 },
 "nbformat": 4,
 "nbformat_minor": 4
}
