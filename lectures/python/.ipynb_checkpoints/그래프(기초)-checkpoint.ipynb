{
 "cells": [
  {
   "cell_type": "markdown",
   "metadata": {},
   "source": [
    "# 연결 리스트(Linked List)\n",
    "- 파이썬의 리스트 처럼 선형구조를 갖는 자료구조의 한 종류이다.\n",
    "- 구조에 따라서 이중 연결 리스트(double Linked List) 등의 여러 구조가 존재한다.\n",
    "- 각 노드들이 선형적으로 연결 되어 있음을 나타낸다."
   ]
  },
  {
   "cell_type": "code",
   "execution_count": 21,
   "metadata": {},
   "outputs": [
    {
     "name": "stdout",
     "output_type": "stream",
     "text": [
      "head\n",
      "2\n",
      "1\n"
     ]
    }
   ],
   "source": [
    "# 파이썬에서 각 노드는 클래스 표현 가능\n",
    "\n",
    "# 노드 클래스 정의\n",
    "class Node:\n",
    "    \n",
    "    def __init__(self, data):\n",
    "        self.data = data\n",
    "        self.next = None\n",
    "        \n",
    "head = Node('head') # 연결 리스트의 제일 첫 노드\n",
    "tail = Node('tail') # 연결 리스트의 제일 마지막 노드\n",
    "\n",
    "head.next = tail # 아무것도 없는 빈 연결 리스트가 만들어질때 기본적인 공식\n",
    "\n",
    "# 노드를 헤드 노드 다음에 추가하는 방법\n",
    "node = Node(1)\n",
    "node.next = head.next #헤드 노드의 다음 노드를 현재 노드의 다음 노드로 지정\n",
    "head.next = node # 헤드 노드의 다음 노드를 현재 노드로 지정\n",
    "\n",
    "node = Node(2)\n",
    "node.next = head.next\n",
    "head.next = node\n",
    "\n",
    "#print(head.next.data)\n",
    "#print(head.next.next.data)\n",
    "#print(head.next.next.next.data)\n",
    "\n",
    "#노드 순회하기\n",
    "         \n",
    "temp = head\n",
    "while temp.next != None:\n",
    "    print(temp.data)\n",
    "    temp = temp.next"
   ]
  },
  {
   "cell_type": "code",
   "execution_count": 17,
   "metadata": {},
   "outputs": [
    {
     "name": "stdout",
     "output_type": "stream",
     "text": [
      "3\n",
      "tail\n"
     ]
    }
   ],
   "source": [
    "# 가장 마지막 노드를 구해보자\n",
    "# 연결 리스트를 전부 순회하면서 테일 노드의 앞 노드를 찾아야한다.\n",
    "end = head\n",
    "while end.next != None:\n",
    "    prev = end\n",
    "    end = end.next\n",
    "    \n",
    "print(prev.data)\n",
    "print(end.data)"
   ]
  },
  {
   "cell_type": "code",
   "execution_count": 19,
   "metadata": {},
   "outputs": [
    {
     "name": "stdout",
     "output_type": "stream",
     "text": [
      "head\n",
      "2\n",
      "1\n",
      "tail\n"
     ]
    }
   ],
   "source": [
    "# 3번 노드를 리스트의 제일 끝에 추가해 보기.\n",
    "\n",
    "node = Node(3)\n",
    "prev.next = node\n",
    "node.next = tail\n",
    "\n",
    "temp = head\n",
    "while temp.next != None:\n",
    "    print(temp.data)\n",
    "    temp = temp.next\n",
    "print(temp.data)"
   ]
  },
  {
   "cell_type": "code",
   "execution_count": null,
   "metadata": {},
   "outputs": [],
   "source": []
  }
 ],
 "metadata": {
  "kernelspec": {
   "display_name": "Python 3",
   "language": "python",
   "name": "python3"
  },
  "language_info": {
   "codemirror_mode": {
    "name": "ipython",
    "version": 3
   },
   "file_extension": ".py",
   "mimetype": "text/x-python",
   "name": "python",
   "nbconvert_exporter": "python",
   "pygments_lexer": "ipython3",
   "version": "3.7.4"
  }
 },
 "nbformat": 4,
 "nbformat_minor": 2
}
