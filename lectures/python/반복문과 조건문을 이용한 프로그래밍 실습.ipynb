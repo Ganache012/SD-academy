{
 "cells": [
  {
   "cell_type": "markdown",
   "metadata": {},
   "source": [
    "# 반복문과 조건문을 잘 다뤄보자\n",
    "- 제어문들은 거의 모든 언어에서 기본적인 문법으로 사용이 되고, \n",
    "- 문제를 풀어가는데 있어서 가장 중요한 도구중 하나이다. \n",
    "- 이러한 제어문을 익히는 가장 유일한 방법은 많이 사용해보는것 외에는 없다. \n",
    "- 이제부터 다양한 예제를 통해서 제어문을 다루는 여러가지 방법으로 살펴볼 것이다. "
   ]
  },
  {
   "cell_type": "markdown",
   "metadata": {},
   "source": [
    "# x 보다 작은 수 모두 출력하기\n",
    "\n",
    "- 주어진 리스트에서 x보다 작은 수를 모두 출력하시면 됩니다. \n",
    "\n",
    "```\n",
    "    x = 5\n",
    "    [ 1, 10, 4, 9, 2, 3, 8, 5, 7, 6 ]\n",
    "```\n",
    "\n",
    "- x는 임의의 수로 고정하여 사용하도록 한다. \n",
    "- 파이썬 에서는 for loop를 이용하면 리스트를 매우 쉽게 다룰 수 있다. "
   ]
  },
  {
   "cell_type": "code",
   "execution_count": 17,
   "metadata": {},
   "outputs": [
    {
     "name": "stdout",
     "output_type": "stream",
     "text": [
      "1\n",
      "4\n",
      "2\n",
      "3\n"
     ]
    }
   ],
   "source": [
    "lists = [1, 10, 4, 9, 2, 3, 8, 5, 7, 6]\n",
    "x = 5\n",
    "\n",
    "for i in lists:\n",
    "    if i < x:\n",
    "        print(i)\n"
   ]
  },
  {
   "cell_type": "markdown",
   "metadata": {},
   "source": [
    "# 주어진 리스트의 원소를 새롭게 고치는 프로그램을 만들어 봅시다. \n",
    "\n",
    "\n",
    "```\n",
    "    [10, 20, 30]\n",
    "    max_ = 30\n",
    "    \n",
    "    ex). 첫번째 원소: 10\n",
    "    => 10/max_ * 100 => 10/30 * 100 = 33.33333333\n",
    "```\n",
    "\n",
    "- 첫 번째로 가장 큰 값을 구한 후, 예와에서 처럼 각각의 원소에 동일한 연산을 해준다. \n",
    "- 새로 계산된 값을 원래 원소가 있던 위치에 새로 넣어준다. "
   ]
  },
  {
   "cell_type": "code",
   "execution_count": 2,
   "metadata": {},
   "outputs": [
    {
     "name": "stdout",
     "output_type": "stream",
     "text": [
      "[40, 80, 60]\n",
      "[50.0, 100.0, 75.0]\n"
     ]
    }
   ],
   "source": [
    "lists = [40, 80, 60]\n",
    "# 파이썬은 리스트 내의 원소들에서 가장 큰 값을 구할 수 있는 내장 함수를 제공하고 있다. \n",
    "# max_ = max(lists) !!! 추천\n",
    "\n",
    "# 파이썬에서 리스트내의 가장 큰 값을 구하는 로직을 직접 만들 필요는 없다. \n",
    "# 처음이니깐 어떤 방식으로 구하는지만 확인해보자. \n",
    "\n",
    "max_ = 0\n",
    "# 1). max_ < 40: max_ = 40\n",
    "# 2). max_ < 80: max_ = 80\n",
    "# 3). max_ < 60: skip\n",
    "\n",
    "for element in lists:\n",
    "    if max_ < element:\n",
    "        max_ = element\n",
    "# print(max_) = 80\n",
    "\n",
    "print(lists)\n",
    "for i in range( len(lists) ):\n",
    "    # print(i)\n",
    "    # print( lists[i] )\n",
    "    lists[i] = lists[i] / max_ * 100\n",
    "print(lists)"
   ]
  },
  {
   "cell_type": "markdown",
   "metadata": {},
   "source": [
    "# 주어진 문자열의 총합을 구해봅시다.\n",
    "\n",
    "```\n",
    "    '29384752834'\n",
    "```\n",
    "\n",
    "- 문자열은 한자리릐 정수로만 이루어져 있다고 가정한다. "
   ]
  },
  {
   "cell_type": "code",
   "execution_count": 3,
   "metadata": {},
   "outputs": [
    {
     "name": "stdout",
     "output_type": "stream",
     "text": [
      "55\n"
     ]
    }
   ],
   "source": [
    "string = '29384752834'\n",
    "\n",
    "total = 0\n",
    "for ch in string:\n",
    "    #print(ch)\n",
    "    total += int(ch)\n",
    "print(total)"
   ]
  },
  {
   "cell_type": "markdown",
   "metadata": {},
   "source": [
    "# 단어의 갯수를 세어봅시다. \n",
    "\n",
    "```\n",
    "'The Curious Case of Benjamin Button'\n",
    "```\n",
    "\n",
    "- 단어의 구분은 화이트 스페이스(공백, 탭, 뉴라인)으로 할 수 있다. \n",
    "- 마지막 문자열의 끝에 있는 뉴라인은 지금은 확인이 안되므로, 구해진 단어 갯수에 +1을 해주도록 하자"
   ]
  },
  {
   "cell_type": "code",
   "execution_count": 4,
   "metadata": {},
   "outputs": [
    {
     "name": "stdout",
     "output_type": "stream",
     "text": [
      "6\n"
     ]
    }
   ],
   "source": [
    "string = 'The Curious Case of Benjamin Button'\n",
    "cnt = 0\n",
    "\n",
    "# 단어의 갯수 == 화이트 스페이스의 갯수\n",
    "\n",
    "for ch in string:\n",
    "    if ch == ' ':\n",
    "        cnt += 1\n",
    "\n",
    "print(cnt + 1)"
   ]
  },
  {
   "cell_type": "markdown",
   "metadata": {},
   "source": [
    "# 갯수 세어보기 두 번째\n",
    "\n",
    "```\n",
    "    '1098237489215923874'\n",
    "```\n",
    "\n",
    "- 주어진 문자열에서 0 에서 9까지 각 숫자가 몇번 나왔는지 구해봅시다. \n",
    "- 10개의 원소를 갖는 리스트를 하나 생성하여 각 리스트의 인덱스와 갯수를 구하려는 정수를 매치하면 쉽게 접근이 가능하다. "
   ]
  },
  {
   "cell_type": "code",
   "execution_count": 1,
   "metadata": {},
   "outputs": [
    {
     "name": "stdout",
     "output_type": "stream",
     "text": [
      "[1, 2, 3, 2, 2, 1, 0, 2, 3, 3]\n"
     ]
    }
   ],
   "source": [
    "string = '1098237489215923874'\n",
    "cnt = [0,0,0,0,0,0,0,0,0,0]\n",
    "\n",
    "for ch in string:\n",
    "    cnt[int(ch)] += 1\n",
    "print(cnt)"
   ]
  },
  {
   "cell_type": "markdown",
   "metadata": {},
   "source": [
    "# 충첩 루프(루프의 루프)\n",
    "\n",
    "```\n",
    "    단 = [ 2, 3, 4, 5, 6, 7, 8, 9 ]\n",
    "    리스트 = [ 1, 2, 3, 4, 5, 6, 7, 8, 9 ]\n",
    "```\n",
    "\n",
    "- 몇개의 루프를 중첩을 하든 제한은 없지만(파이썬은 있을수도...)\n",
    "- 하지만 일반적으로 3개를 초과하여 루프를 작성하는 일은 흔한일이 아니다. \n",
    "- 기본적으로 2개의 루프를 중첨하는 내용까지는 확실히 익혀두도록 하자. \n",
    "- 구구단은 거의 모든 언어에서 중첩된 루프를 설명할 때 사용하는 예제 이기도 하다. \n",
    "- 익숙해지면, 횡으로 출력하는 방법도 고민해 보자. "
   ]
  },
  {
   "cell_type": "code",
   "execution_count": 3,
   "metadata": {},
   "outputs": [
    {
     "name": "stdout",
     "output_type": "stream",
     "text": [
      "2 x 1 = 2\n",
      "2 x 2 = 4\n",
      "2 x 3 = 6\n",
      "2 x 4 = 8\n",
      "2 x 5 = 10\n",
      "2 x 6 = 12\n",
      "2 x 7 = 14\n",
      "2 x 8 = 16\n",
      "2 x 9 = 18\n",
      "3 x 1 = 3\n",
      "3 x 2 = 6\n",
      "3 x 3 = 9\n",
      "3 x 4 = 12\n",
      "3 x 5 = 15\n",
      "3 x 6 = 18\n",
      "3 x 7 = 21\n",
      "3 x 8 = 24\n",
      "3 x 9 = 27\n",
      "4 x 1 = 4\n",
      "4 x 2 = 8\n",
      "4 x 3 = 12\n",
      "4 x 4 = 16\n",
      "4 x 5 = 20\n",
      "4 x 6 = 24\n",
      "4 x 7 = 28\n",
      "4 x 8 = 32\n",
      "4 x 9 = 36\n",
      "5 x 1 = 5\n",
      "5 x 2 = 10\n",
      "5 x 3 = 15\n",
      "5 x 4 = 20\n",
      "5 x 5 = 25\n",
      "5 x 6 = 30\n",
      "5 x 7 = 35\n",
      "5 x 8 = 40\n",
      "5 x 9 = 45\n",
      "6 x 1 = 6\n",
      "6 x 2 = 12\n",
      "6 x 3 = 18\n",
      "6 x 4 = 24\n",
      "6 x 5 = 30\n",
      "6 x 6 = 36\n",
      "6 x 7 = 42\n",
      "6 x 8 = 48\n",
      "6 x 9 = 54\n",
      "7 x 1 = 7\n",
      "7 x 2 = 14\n",
      "7 x 3 = 21\n",
      "7 x 4 = 28\n",
      "7 x 5 = 35\n",
      "7 x 6 = 42\n",
      "7 x 7 = 49\n",
      "7 x 8 = 56\n",
      "7 x 9 = 63\n",
      "8 x 1 = 8\n",
      "8 x 2 = 16\n",
      "8 x 3 = 24\n",
      "8 x 4 = 32\n",
      "8 x 5 = 40\n",
      "8 x 6 = 48\n",
      "8 x 7 = 56\n",
      "8 x 8 = 64\n",
      "8 x 9 = 72\n",
      "9 x 1 = 9\n",
      "9 x 2 = 18\n",
      "9 x 3 = 27\n",
      "9 x 4 = 36\n",
      "9 x 5 = 45\n",
      "9 x 6 = 54\n",
      "9 x 7 = 63\n",
      "9 x 8 = 72\n",
      "9 x 9 = 81\n"
     ]
    }
   ],
   "source": [
    "n = [2,3,4,5,6,7,8,9]\n",
    "m = [1,2,3,4,5,6,7,8,9]\n",
    "\n",
    "for 단 in n:\n",
    "    # print('단: ' + str(단))\n",
    "    for i in m:\n",
    "        # print('숫자: ' + str(i))\n",
    "        print('{} x {} = {}'.format(단, i, 단*i) )"
   ]
  }
 ],
 "metadata": {
  "kernelspec": {
   "display_name": "Python 3",
   "language": "python",
   "name": "python3"
  },
  "language_info": {
   "codemirror_mode": {
    "name": "ipython",
    "version": 3
   },
   "file_extension": ".py",
   "mimetype": "text/x-python",
   "name": "python",
   "nbconvert_exporter": "python",
   "pygments_lexer": "ipython3",
   "version": "3.7.1"
  }
 },
 "nbformat": 4,
 "nbformat_minor": 2
}
