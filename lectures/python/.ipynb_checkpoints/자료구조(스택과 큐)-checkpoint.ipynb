{
 "cells": [
  {
   "cell_type": "markdown",
   "metadata": {},
   "source": [
    "# 스택(stack)\n",
    "- 데이터를 관리하는 모습이 마치 물건을 쌓아 올리는 모습과 유사하여 붙은 이름\n",
    "- 데이터의 입/출력이 한 쪽에서 발생하는 단방향 자료구조이다.\n",
    "- 데이터 입/출력이 발생하지 않는 쪽을 Bottom이라고 한다.\n",
    "- 가장 먼저 입력된 데이터가 가장 늦게 나온다고 해서 LIFO(Last In First Out)구조라고도 한다."
   ]
  },
  {
   "cell_type": "markdown",
   "metadata": {},
   "source": [
    "## push\n",
    "- 스택에 데이터를 입력하는 명령\n",
    "- 파이썬은 리스트의 메서드인 append나 extend, +,를 통해서 구현이 가능"
   ]
  },
  {
   "cell_type": "code",
   "execution_count": 4,
   "metadata": {},
   "outputs": [],
   "source": [
    "# 이것은 스택입니다.\n",
    "# 왜냐면 스택처럼 한쪽에서만 push, pop이 발생하도록 구현할것이기 때문\n",
    "stack = []"
   ]
  },
  {
   "cell_type": "code",
   "execution_count": 5,
   "metadata": {},
   "outputs": [
    {
     "name": "stdout",
     "output_type": "stream",
     "text": [
      "[10]\n"
     ]
    }
   ],
   "source": [
    "# push는 append를 이용해서 쉽게 구현이 가능하다.\n",
    "stack.append(10)\n",
    "print(stack)"
   ]
  },
  {
   "cell_type": "code",
   "execution_count": 6,
   "metadata": {},
   "outputs": [
    {
     "name": "stdout",
     "output_type": "stream",
     "text": [
      "[10, 20]\n"
     ]
    }
   ],
   "source": [
    "stack.append(20)\n",
    "print(stack)"
   ]
  },
  {
   "cell_type": "code",
   "execution_count": 7,
   "metadata": {},
   "outputs": [
    {
     "name": "stdout",
     "output_type": "stream",
     "text": [
      "[10, 20, 30]\n"
     ]
    }
   ],
   "source": [
    "stack.append(30)\n",
    "print(stack)"
   ]
  },
  {
   "cell_type": "markdown",
   "metadata": {},
   "source": [
    "## pop\n",
    "- 스택에서 데이터를 꺼내오는 명령\n",
    "- 스택의 top(가장 위)에 있는 데이터를 꺼내온다."
   ]
  },
  {
   "cell_type": "code",
   "execution_count": 8,
   "metadata": {},
   "outputs": [
    {
     "data": {
      "text/plain": [
       "[10, 20]"
      ]
     },
     "execution_count": 8,
     "metadata": {},
     "output_type": "execute_result"
    }
   ],
   "source": [
    "stack.pop(-1)\n",
    "stack"
   ]
  },
  {
   "cell_type": "code",
   "execution_count": 9,
   "metadata": {},
   "outputs": [
    {
     "data": {
      "text/plain": [
       "[10]"
      ]
     },
     "execution_count": 9,
     "metadata": {},
     "output_type": "execute_result"
    }
   ],
   "source": [
    "stack.pop(-1)\n",
    "stack"
   ]
  },
  {
   "cell_type": "markdown",
   "metadata": {},
   "source": [
    "## top\n",
    "- 파이썬에서 스택의 탑은 항상 -1이다."
   ]
  },
  {
   "cell_type": "code",
   "execution_count": 10,
   "metadata": {},
   "outputs": [
    {
     "name": "stdout",
     "output_type": "stream",
     "text": [
      "[10, 20]\n",
      "20\n"
     ]
    }
   ],
   "source": [
    "stack.append(20)\n",
    "print(stack)\n",
    "print(stack[-1])"
   ]
  },
  {
   "cell_type": "code",
   "execution_count": 11,
   "metadata": {},
   "outputs": [
    {
     "name": "stdout",
     "output_type": "stream",
     "text": [
      "[10, 20, 30]\n",
      "30\n"
     ]
    }
   ],
   "source": [
    "stack.append(30)\n",
    "print(stack)\n",
    "print(stack[-1])"
   ]
  },
  {
   "cell_type": "markdown",
   "metadata": {},
   "source": [
    "# stack 예제"
   ]
  },
  {
   "cell_type": "markdown",
   "metadata": {},
   "source": [
    "## Stack"
   ]
  },
  {
   "cell_type": "code",
   "execution_count": 12,
   "metadata": {},
   "outputs": [
    {
     "name": "stdout",
     "output_type": "stream",
     "text": [
      "3\n",
      "0\n",
      "10\n",
      "0\n",
      "20\n",
      "0\n",
      "30\n",
      "10 20 30 "
     ]
    }
   ],
   "source": [
    "# 제일 먼저 첫번째 입력으로부터 입력 횟수를 입력 받습니다. \n",
    "n = int(input())\n",
    "\n",
    "stack = []\n",
    "for _ in range(n):\n",
    "\tcmd = int(input())\n",
    "\tif cmd == 0: # push\n",
    "\t\tvalue = int(input()) # push이면 데이터를 추가로 입력\n",
    "\t\tif len(stack) < 10: # 스택의 크기가 10보다 크면 더 이상 데이터를 입력 X\n",
    "\t\t\tstack.append(value)\n",
    "\t\telse:\n",
    "\t\t\tprint('overflow')\n",
    "\telif cmd == 1: # pop\n",
    "\t\tif not len(stack) == 0:\n",
    "\t\t\tstack.pop(-1)\n",
    "\t\telse:\n",
    "\t\t\tprint('underflow')\n",
    "\telse: # exit\n",
    "\t\tbreak\n",
    "\n",
    "for data in stack:\n",
    "\tprint(data, end= ' ')"
   ]
  },
  {
   "cell_type": "markdown",
   "metadata": {},
   "source": [
    "## 괄호 짝 맞추기\n",
    "- 입력 예시\n",
    "```\n",
    "6\n",
    "(())())\n",
    "(((()())()\n",
    "(()())((()))\n",
    "((()()(()))(((())))()\n",
    "()()()()(()()())()\n",
    "(()((())()(\n",
    "```"
   ]
  },
  {
   "cell_type": "code",
   "execution_count": 13,
   "metadata": {},
   "outputs": [
    {
     "name": "stdout",
     "output_type": "stream",
     "text": [
      "6\n",
      "(())())\n",
      "짝이 맞지 않습니다.\n",
      "(((()())()\n",
      "짝이 맞지 않습니다.\n",
      "(()())((()))\n",
      "짝이 맞습니다\n",
      "((()()(()))(((())))()\n",
      "짝이 맞지 않습니다.\n",
      "()()()()(()()())()\n",
      "짝이 맞습니다\n",
      "(()((())()(\n",
      "짝이 맞지 않습니다.\n"
     ]
    }
   ],
   "source": [
    "n = int(input()) # 첫번째 입력으로부터 입력 횟수를 입력받는다.\n",
    "\n",
    "stack = []\n",
    "flag = 0\n",
    "\n",
    "for _ in range(n):\n",
    "    line = input() # 괄호 짝을 체크할 라인을 읽어 옵니다. \n",
    "    for braket in line:\n",
    "        if braket == '(':\n",
    "            stack.append(braket)\n",
    "        else: \n",
    "            if not len(stack) == 0:\n",
    "                stack.pop(-1)\n",
    "            else:\n",
    "                flag = 1\n",
    "                break\n",
    "                \n",
    "    # 스택에 데이터가 남았는지 남아 있지 않은지\n",
    "    # 스택이 비어있고, 언더플로우가 없다면\n",
    "    if len(stack) == 0 and flag == 0: print(\"짝이 맞습니다\")\n",
    "    # 스택이 비어있지 않거나, 비어 있었다고 해도 언더플로우가 있었으면 짝이 안맞는 겁니다.\n",
    "    elif not len(stack) == 0 or flag == 1: print(\"짝이 맞지 않습니다.\") \n",
    "    stack = []\n",
    "    flag = 0"
   ]
  },
  {
   "cell_type": "code",
   "execution_count": null,
   "metadata": {},
   "outputs": [],
   "source": []
  }
 ],
 "metadata": {
  "kernelspec": {
   "display_name": "Python 3",
   "language": "python",
   "name": "python3"
  },
  "language_info": {
   "codemirror_mode": {
    "name": "ipython",
    "version": 3
   },
   "file_extension": ".py",
   "mimetype": "text/x-python",
   "name": "python",
   "nbconvert_exporter": "python",
   "pygments_lexer": "ipython3",
   "version": "3.7.4"
  }
 },
 "nbformat": 4,
 "nbformat_minor": 2
}
