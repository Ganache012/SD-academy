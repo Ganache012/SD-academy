{
 "cells": [
  {
   "cell_type": "markdown",
   "metadata": {},
   "source": [
    "# 파이썬 기초 - 주의 사항\n",
    "\n",
    "## 들여쓰기\n",
    "- 파이썬 에서는 블록을 표현할 때 들여쓰기를 사용한다. \n",
    "- 들여쓰기의 간격이 다르면 서로 다른 블록으로 판단하여 실행 오류가 발생할 수 있다. \n",
    "- 참고로, 공백과 탭은 엄연히 다르다.\n",
    "\n",
    "## 오류에 대한 대처법\n",
    "- ~~파이썬은 문법 오류나 런타임 오류와 관계없이 항상 실행중에 오류가 발생한다.~~(요즘은 툴이 좋아져서 실행하기 전에 간단한 문법 오류는 미리 찾아주기도 한다. )\n",
    "- 오류가 발생했을 경우 출력되는 메시지는 가급적 자세히 확인해보자. "
   ]
  },
  {
   "cell_type": "markdown",
   "metadata": {},
   "source": [
    "# 파이썬 기초 - 프린트 명령의 이해"
   ]
  },
  {
   "cell_type": "code",
   "execution_count": null,
   "metadata": {},
   "outputs": [],
   "source": [
    "print('hello, world')\n",
    "print(\"hello, world\")\n",
    "print('''hello, world''')\n",
    "print(\"\"\"hello, world\"\"\")"
   ]
  },
  {
   "cell_type": "markdown",
   "metadata": {},
   "source": [
    "### [참고]  escape string\n",
    "\n",
    "```\n",
    "\\n : 개행\n",
    "\\t : 탭\n",
    "\\\\ : 특수 문자\n",
    "\\': 특수 문자\n",
    "\\\" : 특수 문자\n",
    "\\b : 백 스페이스\n",
    "\\0 : 널 문자\n",
    "```\n"
   ]
  },
  {
   "cell_type": "code",
   "execution_count": 7,
   "metadata": {},
   "outputs": [
    {
     "name": "stdout",
     "output_type": "stream",
     "text": [
      "hello, world\n",
      "hello, world\n",
      "hello, world\n",
      "hello, world\n"
     ]
    }
   ],
   "source": [
    "print('hello, world\\nhello, world')\n",
    "print('hello, world\\x0ahello, world')"
   ]
  },
  {
   "cell_type": "code",
   "execution_count": 11,
   "metadata": {},
   "outputs": [
    {
     "name": "stdout",
     "output_type": "stream",
     "text": [
      "hello world\n",
      "helloworld\n"
     ]
    }
   ],
   "source": [
    "print('hello', 'world')\n",
    "print('hello' + 'world')"
   ]
  },
  {
   "cell_type": "markdown",
   "metadata": {},
   "source": [
    "# 개를 출력해 봅시다!\n",
    "\n",
    "```\n",
    "|\\_/|\n",
    "|q p|   /}\n",
    "( 0 )\"\"\"\\\n",
    "|\"^\"`    |\n",
    "||_/=\\\\__|\n",
    "```\n",
    "\n",
    "> 출처: 백준 알고리즘:https://www.acmicpc.net"
   ]
  },
  {
   "cell_type": "code",
   "execution_count": 12,
   "metadata": {},
   "outputs": [],
   "source": [
    "# 여기에 작성하시면 됩니다."
   ]
  },
  {
   "cell_type": "markdown",
   "metadata": {},
   "source": [
    "# 변수\n",
    "\n",
    "- 파이썬 에서는 변수의 선언이 존재하지 않습니다. \n",
    "- 변수에 값을 할당(assignment)하는 것 자체가 선언과 동일한 효과를 가집니다. \n",
    "\n",
    "## 1. 변수의 기본 속성 2가지 \n",
    "- 타입\n",
    "- 값\n",
    "\n",
    "## 2. 변수의 기본 타입\n",
    "- 정수(Integer)\n",
    "- 실수(Float)\n",
    "- 문자열(String)\n",
    "- Boolean(참, 거짓)"
   ]
  },
  {
   "cell_type": "markdown",
   "metadata": {},
   "source": [
    "각각의 값이 가지는 타입을 미리 확인해봅니다.   \n",
    "파이썬 에서 표현되는 모든 값들은 전부 타입을 지니고 있습니다. "
   ]
  },
  {
   "cell_type": "code",
   "execution_count": 4,
   "metadata": {},
   "outputs": [
    {
     "name": "stdout",
     "output_type": "stream",
     "text": [
      "<class 'int'>\n",
      "<class 'float'>\n",
      "<class 'str'>\n",
      "<class 'bool'>\n"
     ]
    }
   ],
   "source": [
    "print(type(10))\n",
    "print(type(10.0))\n",
    "print(type('10'))\n",
    "print(type(True))"
   ]
  },
  {
   "cell_type": "markdown",
   "metadata": {},
   "source": [
    "그리고 변수는 할당된 값의 타입을 그대로 따릅니다.   \n",
    "아래의 예제에서 변수에 할당된 값을 10, 10.0, '10', True 등으로 변경하면서 변수의 기본 속성인 타입과 값이 어떻게 변화 되는지 확인해 봅니다. "
   ]
  },
  {
   "cell_type": "code",
   "execution_count": 7,
   "metadata": {},
   "outputs": [
    {
     "name": "stdout",
     "output_type": "stream",
     "text": [
      "<class 'str'>\n",
      "10\n"
     ]
    }
   ],
   "source": [
    "변수 = '10'\n",
    "print(type(변수))\n",
    "print(변수)"
   ]
  },
  {
   "cell_type": "markdown",
   "metadata": {},
   "source": [
    "# 여러개의 값을 표현 하려면?\n",
    "\n",
    "- 수학에서 얘기하는 `집합`과 같은 표현\n",
    "- 단일 데이터가 아닌 여러 데이터를 하나의 변수에 넣고 관리할 수는 없을까?\n",
    "- 파이썬 에서는 기본적으로 `list`, `tuple`, `range`의 기본적인 타입을 제공합니다. \n",
    "- `list`와 `tuple`은 가변형과 불변형의 차이를 제외하곤 동일하게 사용이 가능합니다. \n",
    "- `tuple` 타입은 가변형 연산을 제외한 내용은 `list` 타입과 동일하게 사용 가능합니다. "
   ]
  },
  {
   "cell_type": "markdown",
   "metadata": {},
   "source": [
    "리스트 또한 변수로써, 변수의 기본 속성인 타입과 값 두가지 모든 속성을 가지고 있습니다.    \n",
    "하지만, 리스트 변수는 원소내의 특정한 값을 가지지 않습니다. "
   ]
  },
  {
   "cell_type": "code",
   "execution_count": 20,
   "metadata": {},
   "outputs": [
    {
     "name": "stdout",
     "output_type": "stream",
     "text": [
      "<class 'list'>\n",
      "[1, 'hello', 3.0, True]\n"
     ]
    }
   ],
   "source": [
    "리스트 = [1, 'hello', 3.0, True]\n",
    "print(type(리스트))\n",
    "print(리스트)"
   ]
  },
  {
   "cell_type": "markdown",
   "metadata": {},
   "source": [
    "리스트 내의 특정 원소를 표현 하려면 인덱싱을 사용하여야 합니다. "
   ]
  },
  {
   "cell_type": "code",
   "execution_count": 21,
   "metadata": {},
   "outputs": [
    {
     "data": {
      "text/plain": [
       "'hello'"
      ]
     },
     "execution_count": 21,
     "metadata": {},
     "output_type": "execute_result"
    }
   ],
   "source": [
    "리스트[1]"
   ]
  },
  {
   "cell_type": "markdown",
   "metadata": {},
   "source": [
    "시퀀스 타입에 공통으로 적용 가능한 연산들이 있습니다.     \n",
    "각각의 코드를 실행하여서, 실행 결과를 확인하고 왜 그러한 결과가 나오게 되는지 직접 확인해 봅시다. "
   ]
  },
  {
   "cell_type": "code",
   "execution_count": 22,
   "metadata": {},
   "outputs": [
    {
     "name": "stdout",
     "output_type": "stream",
     "text": [
      "False\n",
      "[1, 'hello', 3.0, True, 'python', 'basic', 2]\n",
      "[1, 'hello', 3.0, True]\n",
      "[1, 'hello', 3.0, True]\n",
      "4\n"
     ]
    }
   ],
   "source": [
    "print( 11 in 리스트 )\n",
    "print( 리스트 + ['python', 'basic', 2])\n",
    "print( 리스트 )\n",
    "print( 리스트[:])\n",
    "print( len(리스트))"
   ]
  },
  {
   "cell_type": "markdown",
   "metadata": {},
   "source": [
    "파이썬에서, 리스트 타입은 가변형 으로써, 리스트 내의 원소를 변경할 수 있습니다. "
   ]
  },
  {
   "cell_type": "code",
   "execution_count": 26,
   "metadata": {},
   "outputs": [
    {
     "name": "stdout",
     "output_type": "stream",
     "text": [
      "[1, 'hello', 3.0, True]\n",
      "[100, 'hello', 3.0, True]\n"
     ]
    }
   ],
   "source": [
    "print(리스트)\n",
    "리스트[0] = 100\n",
    "print(리스트)"
   ]
  },
  {
   "cell_type": "markdown",
   "metadata": {},
   "source": [
    "리스트 내에 원소를 추가하는 3가지 방법 입니다. "
   ]
  },
  {
   "cell_type": "code",
   "execution_count": 27,
   "metadata": {},
   "outputs": [
    {
     "name": "stdout",
     "output_type": "stream",
     "text": [
      "[100, 'hello', 3.0, True, 10]\n"
     ]
    }
   ],
   "source": [
    "# 리스트 = 리스트 + [10]\n",
    "리스트 += [10]\n",
    "print(리스트)"
   ]
  },
  {
   "cell_type": "code",
   "execution_count": 28,
   "metadata": {},
   "outputs": [
    {
     "name": "stdout",
     "output_type": "stream",
     "text": [
      "[100, 'hello', 3.0, True, 10, 'python']\n"
     ]
    }
   ],
   "source": [
    "리스트.append('python')\n",
    "print(리스트)"
   ]
  },
  {
   "cell_type": "code",
   "execution_count": 29,
   "metadata": {},
   "outputs": [
    {
     "name": "stdout",
     "output_type": "stream",
     "text": [
      "[100, 'hello', 3.0, True, 10, 'python', False]\n"
     ]
    }
   ],
   "source": [
    "리스트.extend([False])\n",
    "print(리스트)"
   ]
  },
  {
   "cell_type": "markdown",
   "metadata": {},
   "source": [
    "# 제어문\n",
    "\n",
    "- 분기문과 반복문의 2가지 형태가 있습니다. \n",
    "- 거의 모든 언어들은 이 2가지의 제어문을 이용해 전체 코드의 흐름을 제어 하게 됩니다. "
   ]
  },
  {
   "cell_type": "markdown",
   "metadata": {},
   "source": [
    "# 분기문\n",
    "\n",
    "- 파이썬 에서는 `if`문 하나만 제공 합니다. \n",
    "- `if` 문의 기본 형태는 다음과 같습니다. \n",
    "\n",
    "```\n",
    "if <statement>:\n",
    "    명령어1\n",
    "    명령어2\n",
    "    명령어3\n",
    "    ...\n",
    "```\n",
    "- 이 기본 형태에서 여러가지 변형된 형태로 사용이 가능하지만, 기본 형태는 변하지 않습니다. \n",
    "- `<statement>`뒤에 `:` 으로 끝나는 것에 주의 하십시오. \n",
    "- 명령어 들의 들여쓰기가 모두 동일한 것을 확인하셔야 합니다. \n",
    "- `<statement>`에는 `True` 혹은 `False`로 `리턴`되는 모든 형태를 사용할 수 있습니다. "
   ]
  },
  {
   "cell_type": "code",
   "execution_count": 30,
   "metadata": {},
   "outputs": [
    {
     "name": "stdout",
     "output_type": "stream",
     "text": [
      "리스트 내에 해당 원소가 존재합니다\n"
     ]
    }
   ],
   "source": [
    "리스트 = [1,2,3]\n",
    "\n",
    "if 1 in 리스트:\n",
    "    print('리스트 내에 해당 원소가 존재합니다')"
   ]
  },
  {
   "cell_type": "markdown",
   "metadata": {},
   "source": [
    "기본 형태에서 변형된 형태로 `else`문장이 추가 되었습니다.    \n",
    "둘 중, 하나의 명령은 반드시 실행이 됩니다.   \n",
    "코드를 실행 후에 결과를 확인 하세요 또한, a가 '1'인 경우에는 코드의 흐름이 어떻게 변경되는지 확인해보세요 "
   ]
  },
  {
   "cell_type": "code",
   "execution_count": 15,
   "metadata": {},
   "outputs": [
    {
     "name": "stdout",
     "output_type": "stream",
     "text": [
      "False\n"
     ]
    }
   ],
   "source": [
    "a = 10\n",
    "\n",
    "if a < 3:\n",
    "    print(True)\n",
    "else:\n",
    "    print(False)"
   ]
  },
  {
   "cell_type": "markdown",
   "metadata": {},
   "source": [
    "조금더 확장된 형태로, `elif`가 추가 되었습니다.    \n",
    "a가 3인 경우에 명령의 실행 흐름이 어떻게 변경되는지 확인해보세요 "
   ]
  },
  {
   "cell_type": "code",
   "execution_count": 17,
   "metadata": {},
   "outputs": [
    {
     "name": "stdout",
     "output_type": "stream",
     "text": [
      "a가 3보다 작다\n"
     ]
    }
   ],
   "source": [
    "a = 10\n",
    "\n",
    "if a < 3:\n",
    "    print(\"a가 3보다 작다\")\n",
    "elif a > 3: \n",
    "    print(\"a가 3보다 크다\")\n",
    "else:\n",
    "    print(\"a는 3과 같다\")"
   ]
  },
  {
   "cell_type": "markdown",
   "metadata": {},
   "source": [
    "boolean 연산자를 이용해서 다중 조건을 설정하는 것도 가능합니다. "
   ]
  },
  {
   "cell_type": "code",
   "execution_count": 33,
   "metadata": {},
   "outputs": [
    {
     "name": "stdout",
     "output_type": "stream",
     "text": [
      "a가 3보다 크거나 같다\n"
     ]
    }
   ],
   "source": [
    "a = 10\n",
    "\n",
    "if a < 3 and not a == 3:\n",
    "    print(\"a가 3보다 작다\")\n",
    "else:\n",
    "    print(\"a가 3보다 크거나 같다\")\n"
   ]
  },
  {
   "cell_type": "markdown",
   "metadata": {},
   "source": [
    "# 반복문\n",
    "\n",
    "- 파이썬 에서는 `while`과 `for` 2가지 형태의 구문을 제공합니다. \n",
    "- `while` 문의 기본 형태는 다음과 같습니다. \n",
    "\n",
    "```\n",
    "while <statement>:\n",
    "    명령어1\n",
    "    명령어2\n",
    "    명령어3\n",
    "    ...\n",
    "```\n",
    "\n",
    "- 이 기본 형태에서 여러가지 변형된 형태로 사용이 가능하지만, 기본 형태는 변하지 않습니다. \n",
    "- `<statement>`뒤에 `:` 으로 끝나는 것에 주의 하십시오. \n",
    "- 명령어 들의 들여쓰기가 모두 동일한 것을 확인하셔야 합니다. \n",
    "- `<statement>`에는 `True` 혹은 `False`로 `리턴`되는 모든 형태를 사용할 수 있습니다. \n",
    "- 주의해야 하는 점은 `<statement>`에서 종료가 되는 조건을 만들어 주지 못하면 `무한루프`가 발생하게 됩니다 "
   ]
  },
  {
   "cell_type": "markdown",
   "metadata": {},
   "source": [
    "이제부터는 반복되는 명령어에서 변수의 값이 어떻게 변화 하는지에 주목 하셔야 합니다 "
   ]
  },
  {
   "cell_type": "code",
   "execution_count": 34,
   "metadata": {},
   "outputs": [
    {
     "name": "stdout",
     "output_type": "stream",
     "text": [
      "어떻게 변화 하는가: 0\n",
      "어떻게 변화 하는가: 1\n",
      "어떻게 변화 하는가: 2\n",
      "어떻게 변화 하는가: 3\n",
      "어떻게 변화 하는가: 4\n",
      "어떻게 변화 하는가: 5\n",
      "어떻게 변화 하는가: 6\n",
      "어떻게 변화 하는가: 7\n",
      "어떻게 변화 하는가: 8\n",
      "어떻게 변화 하는가: 9\n"
     ]
    }
   ],
   "source": [
    "변화하는_변수 = 0\n",
    "\n",
    "while 변화하는_변수 < 10:\n",
    "    print('어떻게 변화 하는가:', 변화하는_변수)\n",
    "    # 변화하는_변수 = 변화하는_변수 + 1\n",
    "    변화하는_변수 += 1"
   ]
  },
  {
   "cell_type": "markdown",
   "metadata": {},
   "source": [
    "# 반복문 두 번째: for\n",
    "\n",
    "- for 루프는 시퀀스 타입의 변수에 매우 특화된 형태를 띄고 있다. \n",
    "- 기본 형태는 다음과 같다. \n",
    "\n",
    "```\n",
    "for 원소를_담는_변수 in 리스트:\n",
    "    명령어1\n",
    "    명령어2\n",
    "    명령어3\n",
    "    ...\n",
    "```\n",
    "\n",
    "- 역시, 마지막에 `:`로 끝나는 부분에 주목하세요\n",
    "- 들여쓰기는 언제나 중요합니다"
   ]
  },
  {
   "cell_type": "code",
   "execution_count": 7,
   "metadata": {},
   "outputs": [
    {
     "name": "stdout",
     "output_type": "stream",
     "text": [
      "hello\n",
      "python\n",
      "study\n"
     ]
    }
   ],
   "source": [
    "리스트 = ['hello', 'python', 'study']\n",
    "\n",
    "for 원소를_담는_변수 in 리스트:\n",
    "    print(원소를_담는_변수)"
   ]
  },
  {
   "cell_type": "markdown",
   "metadata": {},
   "source": [
    "# 유클리드 호제법\n",
    "\n",
    "## 두 수의 최대공약수(GCD)를 구하는 과정\n",
    "\n",
    "1. a, b가 주어졌을 때, b가 a보다 크면 b의 값을 a로, a의 값을 b로 지정한다. \n",
    "2. a를 b로 나눈 나머지를 n으로 지정한다.\n",
    "3. n이 0이면 b가 최대공약수이다. (종료)\n",
    "4. n이 0이 아니라면, a의 값을 b로, b의 값을 n로 지정하고, 2번으로 돌아간다. \n",
    "\n"
   ]
  },
  {
   "cell_type": "code",
   "execution_count": 31,
   "metadata": {},
   "outputs": [],
   "source": [
    "# a = 1234\n",
    "# b = 123\n",
    "# n = 0\n",
    "a, b, n = 123, 1234, 0\n",
    "\n",
    "# 1). a, b가 주어졌을 때, b가 a보다 크면 b의 값을 a로, a의 값을 b로 지정한다.\n",
    "if b > a:\n",
    "    a, b = b, a\n",
    "\n",
    "while True:\n",
    "    # 2). a를 b로 나눈 나머지를 n으로 지정한다.\n",
    "    n = a % b\n",
    "    \n",
    "    # 3). n이 0이면 b가 최대공약수이다. (종료)\n",
    "    if n == 0:\n",
    "        break\n",
    "        \n",
    "    # 4). n이 0이 아니라면, a의 값을 b로, b의 값을 n로 지정하고, 2번으로 돌아간다.\n",
    "    a, b = b, n\n",
    "    \n",
    "print(b)"
   ]
  },
  {
   "cell_type": "markdown",
   "metadata": {},
   "source": [
    "# 연습문제 \n",
    "\n",
    "## 윤년 구하기!\n",
    "\n",
    "1. 연도가 4로 나누어 떨어지면 윤년이다. \n",
    "2. 연도가 4와 100으로 나누어 떨어지면 평년이다. \n",
    "3. 연도가 4, 100, 400으로 나누어 떨어지면 윤년이다. "
   ]
  },
  {
   "cell_type": "code",
   "execution_count": null,
   "metadata": {},
   "outputs": [],
   "source": [
    "year = 1996\n",
    "\n",
    "if not (year % 4) == 0:\n",
    "    print('평년 입니다')\n",
    "elif (year % 100) == 0:\n",
    "    print('평년 입니다')\n",
    "elif not (year % 400) == 0:\n",
    "    print('평년 입니다')\n",
    "else:\n",
    "    print('윤년 입니다')"
   ]
  },
  {
   "cell_type": "markdown",
   "metadata": {},
   "source": [
    "# 연습문제(총합 구하기)\n",
    "\n",
    "- n이 주어졌을 때, 1부터 n까지 합을 구하는 프로그램을 작성하시오.\n"
   ]
  },
  {
   "cell_type": "code",
   "execution_count": 9,
   "metadata": {},
   "outputs": [
    {
     "name": "stdout",
     "output_type": "stream",
     "text": [
      "500500\n"
     ]
    }
   ],
   "source": [
    "n = 1000\n",
    "합 = 0\n",
    "for i in range(1, n+1):\n",
    "    합 = 합 + i\n",
    "\n",
    "print(합)"
   ]
  },
  {
   "cell_type": "markdown",
   "metadata": {},
   "source": [
    "# 연습문제(power)\n",
    "\n",
    "- n이 주어졌을 때, 2^n을 구하는 프로그램을 작성하시오.\n"
   ]
  },
  {
   "cell_type": "code",
   "execution_count": 23,
   "metadata": {},
   "outputs": [
    {
     "name": "stdout",
     "output_type": "stream",
     "text": [
      "0\n",
      "1\n",
      "2\n",
      "3\n",
      "4\n",
      "5\n",
      "6\n",
      "7\n"
     ]
    }
   ],
   "source": [
    "n = 8\n",
    "power = 1\n",
    "\n",
    "for _ in range(n):\n",
    "    print(_)\n",
    "    # power *= 2\n",
    "    power = power * 2\n",
    "\n",
    "#print(power)\n",
    "    "
   ]
  },
  {
   "cell_type": "markdown",
   "metadata": {},
   "source": [
    "# 리스트와 for loop를 사용해서 다음과 같이 출력 되도록\n",
    "\n",
    "```\n",
    "2x1 = 2\n",
    "2x2 = 4\n",
    "2x3 = 6\n",
    "...\n",
    "2x9 = 18\n",
    "```"
   ]
  },
  {
   "cell_type": "code",
   "execution_count": 22,
   "metadata": {},
   "outputs": [
    {
     "name": "stdout",
     "output_type": "stream",
     "text": [
      "2 x 1 = 2\n",
      "2 x 2 = 4\n",
      "2 x 3 = 6\n",
      "2 x 4 = 8\n",
      "2 x 5 = 10\n",
      "2 x 6 = 12\n",
      "2 x 7 = 14\n",
      "2 x 8 = 16\n",
      "2 x 9 = 18\n"
     ]
    }
   ],
   "source": [
    "리스트 = [1, 2, 3, 4, 5, 6, 7, 8, 9]\n",
    "p =  1\n",
    "\n",
    "for i in 리스트:\n",
    "    p = 2 * i\n",
    "    print('2 x',i,'=',p)"
   ]
  },
  {
   "cell_type": "code",
   "execution_count": 29,
   "metadata": {},
   "outputs": [
    {
     "name": "stdout",
     "output_type": "stream",
     "text": [
      "2 X 1 = 2\n",
      "2 X 2 = 4\n",
      "2 X 3 = 6\n",
      "2 X 4 = 8\n",
      "2 X 5 = 10\n",
      "2 X 6 = 12\n",
      "2 X 7 = 14\n",
      "2 X 8 = 16\n",
      "2 X 9 = 18\n"
     ]
    }
   ],
   "source": [
    "리스트 = [1, 2, 3, 4, 5, 6, 7, 8, 9]\n",
    "\n",
    "for i in 리스트:\n",
    "    print( \"2 X {} = {}\".format( i, 2*i))"
   ]
  },
  {
   "cell_type": "markdown",
   "metadata": {},
   "source": [
    "# 타입 캐스팅과 문자열 포맷팅"
   ]
  },
  {
   "cell_type": "code",
   "execution_count": 25,
   "metadata": {},
   "outputs": [
    {
     "name": "stdout",
     "output_type": "stream",
     "text": [
      "<class 'int'>\n",
      "<class 'str'>\n",
      "2\n",
      "hello2\n"
     ]
    }
   ],
   "source": [
    "var = 2\n",
    "print(type(var))\n",
    "var = str(var)\n",
    "print(type(var))\n",
    "print(var)\n",
    "print('hello' + var)"
   ]
  },
  {
   "cell_type": "code",
   "execution_count": 27,
   "metadata": {},
   "outputs": [
    {
     "name": "stdout",
     "output_type": "stream",
     "text": [
      "<class 'str'>\n",
      "<class 'int'>\n",
      "3\n"
     ]
    }
   ],
   "source": [
    "var = '2'\n",
    "print(type(var))\n",
    "print(type(int(var)))\n",
    "print(1 + int(var))"
   ]
  },
  {
   "cell_type": "code",
   "execution_count": 28,
   "metadata": {},
   "outputs": [
    {
     "data": {
      "text/plain": [
       "'The sum of 1 + 2 is 3'"
      ]
     },
     "execution_count": 28,
     "metadata": {},
     "output_type": "execute_result"
    }
   ],
   "source": [
    "\"The sum of 1 + 2 is {0}\".format(1+2)"
   ]
  },
  {
   "cell_type": "markdown",
   "metadata": {},
   "source": [
    "# x보다 작은 수 모두 출력하기\n",
    "\n",
    "주어진 리스트에서 x보다 작은 수를 모두 출력하시면 됩니다.\n",
    "```\n",
    "  x = 5\n",
    "  [1, 10, 4, 9, 2, 3, 8, 5, 7, 6]\n",
    "```\n"
   ]
  },
  {
   "cell_type": "code",
   "execution_count": 32,
   "metadata": {},
   "outputs": [
    {
     "name": "stdout",
     "output_type": "stream",
     "text": [
      "1\n",
      "4\n",
      "2\n",
      "3\n"
     ]
    }
   ],
   "source": [
    "리스트 = [1, 10, 4, 9, 2, 3, 8, 5, 7, 6]\n",
    "x = 5\n",
    "\n",
    "for i in 리스트:\n",
    "    if(x>i):\n",
    "        print(i)"
   ]
  },
  {
   "cell_type": "code",
   "execution_count": 33,
   "metadata": {},
   "outputs": [
    {
     "name": "stdout",
     "output_type": "stream",
     "text": [
      "True\n",
      "False\n"
     ]
    }
   ],
   "source": [
    "#답2\n",
    "리스트 = [1, 10, 4, 9, 2, 3, 8, 5, 7, 6]\n",
    "x = 5\n",
    "\n",
    "if 리스트[0] < x:\n",
    "    print(True)\n",
    "else:\n",
    "    print(False)\n",
    "if 리스트[1] < x:\n",
    "    print(True)\n",
    "else:\n",
    "    print(False)"
   ]
  },
  {
   "cell_type": "markdown",
   "metadata": {},
   "source": [
    "# 주어진 리스트의 점수를 새로 계산하는 프로그램을 작성\n",
    "```\n",
    "  [10. 20, 30]\n",
    "   max(M) = 30\n",
    "  \n",
    "  ex) 첫번째 원소: 10\n",
    "  => 10/M * 100 => 33.3333333\n",
    "```"
   ]
  },
  {
   "cell_type": "code",
   "execution_count": 71,
   "metadata": {},
   "outputs": [
    {
     "name": "stdout",
     "output_type": "stream",
     "text": [
      "[50.0, 100.0, 75.0]\n"
     ]
    }
   ],
   "source": [
    "lists = [40, 80, 60]\n",
    "M = 0\n",
    "\n",
    "for element in lists:\n",
    "    if M<element:\n",
    "        M = element\n",
    "\n",
    "for i in range(0, len(lists)):\n",
    "    #print(i)\n",
    "    #print(lists[i])\n",
    "    lists[i] = lists[i] / M *100\n",
    "print(lists)\n"
   ]
  },
  {
   "cell_type": "code",
   "execution_count": 65,
   "metadata": {},
   "outputs": [
    {
     "name": "stdout",
     "output_type": "stream",
     "text": [
      "80\n"
     ]
    }
   ],
   "source": [
    "lists = [40, 80, 60]\n",
    "M = max(lists)\n",
    "print(M)"
   ]
  },
  {
   "cell_type": "code",
   "execution_count": 72,
   "metadata": {},
   "outputs": [
    {
     "name": "stdout",
     "output_type": "stream",
     "text": [
      "[50.0, 100.0, 75.0]\n"
     ]
    }
   ],
   "source": [
    "lists = [40, 80, 60]\n",
    "M = 0\n",
    "\n",
    "for i in lists:\n",
    "    if M == 0 or i>M:\n",
    "        M=i\n",
    "\n",
    "for i in range(0, len(lists)):\n",
    "    lists[i] = lists[i] / M * 100\n",
    "print(lists)"
   ]
  },
  {
   "cell_type": "markdown",
   "metadata": {},
   "source": [
    "# 주어진 문자열의 총합을 구해봅시다\n",
    "```\n",
    "29384752834\n",
    "```"
   ]
  },
  {
   "cell_type": "code",
   "execution_count": 80,
   "metadata": {},
   "outputs": [
    {
     "name": "stdout",
     "output_type": "stream",
     "text": [
      "55\n",
      "55\n"
     ]
    }
   ],
   "source": [
    "string = '29384752834'\n",
    "\n",
    "total = 0\n",
    "for ch in string:\n",
    "    total += int(ch)\n",
    "    \n",
    "print(total)\n",
    "\n",
    "total = 0\n",
    "for i in range(len(string)):\n",
    "    total += int(string[i])\n",
    "print(total)"
   ]
  },
  {
   "cell_type": "markdown",
   "metadata": {},
   "source": [
    "# 단어의 갯수를 세어봅시다.\n",
    "```\n",
    "The Curious Case of Benjamin Button\n",
    "```"
   ]
  },
  {
   "cell_type": "code",
   "execution_count": 90,
   "metadata": {},
   "outputs": [
    {
     "name": "stdout",
     "output_type": "stream",
     "text": [
      "공백 수:  5\n",
      "단어 수:  6\n"
     ]
    }
   ],
   "source": [
    "string = 'The Curious Case of Benjamin Button'\n",
    "cnt = 0\n",
    "\n",
    "for i in string:\n",
    "    if i == ' ':\n",
    "        cnt += 1\n",
    "\n",
    "print('공백 수: ',cnt)\n",
    "print('단어 수: ',cnt+1)    "
   ]
  },
  {
   "cell_type": "markdown",
   "metadata": {},
   "source": [
    "# 갯수 세어보기 두 번째\n",
    "```\n",
    "'1098237489215923874'\n",
    "```\n",
    "주어진 문자열에서 0에서 9까지 각 숫자가 몇번 나왔는지 구해봅시다."
   ]
  },
  {
   "cell_type": "code",
   "execution_count": 8,
   "metadata": {},
   "outputs": [
    {
     "name": "stdout",
     "output_type": "stream",
     "text": [
      "[1, 2, 3, 2, 2, 1, 0, 2, 3, 3]\n"
     ]
    }
   ],
   "source": [
    "string = '1098237489215923874'\n",
    "cnt = [0,0,0,0,0,0,0,0,0,0]\n",
    "#방법 1\n",
    "for i in string:\n",
    "    if i == '0':\n",
    "        cnt[0] += 1\n",
    "    elif i == '1':\n",
    "        cnt[1] += 1\n",
    "    elif i == '2':\n",
    "        cnt[2] += 1\n",
    "    elif i == '3':\n",
    "        cnt[3] += 1\n",
    "    elif i == '4':\n",
    "        cnt[4] += 1\n",
    "    elif i == '5':\n",
    "        cnt[5] += 1\n",
    "    elif i == '6':\n",
    "        cnt[6] += 1\n",
    "    elif i == '7':\n",
    "        cnt[7] += 1\n",
    "    elif i == '8':\n",
    "        cnt[8] += 1\n",
    "    else:\n",
    "        cnt[9] += 1\n",
    "\n",
    "print(cnt)\n",
    "\n",
    "#방법 2\n",
    "for ch in string:\n",
    "    cnt[int(ch)] += 1\n",
    "print(cnt)"
   ]
  },
  {
   "cell_type": "markdown",
   "metadata": {},
   "source": [
    "# 중첩루프 (루프의 루프)\n",
    "```\n",
    "   단 = [2, 3, 4, 5, 6, 7, 8, 9]\n",
    "   리스트 = [1, 2, 3, 4, 5, 6, 7, 8, 9]\n",
    "```\n",
    "- 중첩 구문을 이용한 구구단 만들기"
   ]
  },
  {
   "cell_type": "code",
   "execution_count": 27,
   "metadata": {},
   "outputs": [
    {
     "name": "stdout",
     "output_type": "stream",
     "text": [
      "2 x 1 = 2\n",
      "2 x 2 = 4\n",
      "2 x 3 = 6\n",
      "2 x 4 = 8\n",
      "2 x 5 = 10\n",
      "2 x 6 = 12\n",
      "2 x 7 = 14\n",
      "2 x 8 = 16\n",
      "2 x 9 = 18\n",
      "3 x 1 = 3\n",
      "3 x 2 = 6\n",
      "3 x 3 = 9\n",
      "3 x 4 = 12\n",
      "3 x 5 = 15\n",
      "3 x 6 = 18\n",
      "3 x 7 = 21\n",
      "3 x 8 = 24\n",
      "3 x 9 = 27\n",
      "4 x 1 = 4\n",
      "4 x 2 = 8\n",
      "4 x 3 = 12\n",
      "4 x 4 = 16\n",
      "4 x 5 = 20\n",
      "4 x 6 = 24\n",
      "4 x 7 = 28\n",
      "4 x 8 = 32\n",
      "4 x 9 = 36\n",
      "5 x 1 = 5\n",
      "5 x 2 = 10\n",
      "5 x 3 = 15\n",
      "5 x 4 = 20\n",
      "5 x 5 = 25\n",
      "5 x 6 = 30\n",
      "5 x 7 = 35\n",
      "5 x 8 = 40\n",
      "5 x 9 = 45\n",
      "6 x 1 = 6\n",
      "6 x 2 = 12\n",
      "6 x 3 = 18\n",
      "6 x 4 = 24\n",
      "6 x 5 = 30\n",
      "6 x 6 = 36\n",
      "6 x 7 = 42\n",
      "6 x 8 = 48\n",
      "6 x 9 = 54\n",
      "7 x 1 = 7\n",
      "7 x 2 = 14\n",
      "7 x 3 = 21\n",
      "7 x 4 = 28\n",
      "7 x 5 = 35\n",
      "7 x 6 = 42\n",
      "7 x 7 = 49\n",
      "7 x 8 = 56\n",
      "7 x 9 = 63\n",
      "8 x 1 = 8\n",
      "8 x 2 = 16\n",
      "8 x 3 = 24\n",
      "8 x 4 = 32\n",
      "8 x 5 = 40\n",
      "8 x 6 = 48\n",
      "8 x 7 = 56\n",
      "8 x 8 = 64\n",
      "8 x 9 = 72\n",
      "9 x 1 = 9\n",
      "9 x 2 = 18\n",
      "9 x 3 = 27\n",
      "9 x 4 = 36\n",
      "9 x 5 = 45\n",
      "9 x 6 = 54\n",
      "9 x 7 = 63\n",
      "9 x 8 = 72\n",
      "9 x 9 = 81\n"
     ]
    }
   ],
   "source": [
    "단 = [2, 3, 4, 5, 6, 7, 8, 9]\n",
    "리스트 = [1, 2, 3, 4, 5, 6, 7, 8, 9]\n",
    "\n",
    "for dan in range(0, 8):\n",
    "    for i in range(0, 9):\n",
    "        print(단[dan],'x',리스트[i],'=',단[dan]*리스트[i])"
   ]
  },
  {
   "cell_type": "markdown",
   "metadata": {},
   "source": [
    "# 함수(function)\n",
    "- 수학적인 함수와는 다릅니다\n",
    "```\n",
    "def 함수명(arguments,....):\n",
    "    pass\n",
    "```"
   ]
  },
  {
   "cell_type": "code",
   "execution_count": 2,
   "metadata": {},
   "outputs": [],
   "source": [
    "#함수의 예\n",
    "def func(lists=[]):\n",
    "    M = 0\n",
    "    for element in lists:\n",
    "        if M < element:\n",
    "            M = element\n",
    "    return M\n",
    "\n",
    "n = func([1, 2, 3, 4, 5, 6])"
   ]
  },
  {
   "cell_type": "code",
   "execution_count": 3,
   "metadata": {},
   "outputs": [
    {
     "data": {
      "text/plain": [
       "6"
      ]
     },
     "execution_count": 3,
     "metadata": {},
     "output_type": "execute_result"
    }
   ],
   "source": [
    "n"
   ]
  },
  {
   "cell_type": "code",
   "execution_count": 5,
   "metadata": {},
   "outputs": [
    {
     "data": {
      "text/plain": [
       "['The Curious Case of ', 'enjamin ', 'utton']"
      ]
     },
     "execution_count": 5,
     "metadata": {},
     "output_type": "execute_result"
    }
   ],
   "source": [
    "string = 'The Curious Case of Benjamin Button'\n",
    "    \n",
    "string.split(sep='B')"
   ]
  },
  {
   "cell_type": "code",
   "execution_count": 6,
   "metadata": {},
   "outputs": [
    {
     "data": {
      "text/plain": [
       "6"
      ]
     },
     "execution_count": 6,
     "metadata": {},
     "output_type": "execute_result"
    }
   ],
   "source": [
    "string = 'The Curious Case of Benjamin Button'\n",
    "\n",
    "word_count = string.split(sep = ' ')\n",
    "len(word_count)"
   ]
  },
  {
   "cell_type": "markdown",
   "metadata": {},
   "source": [
    "# 입/출력\n",
    "\n",
    "# 1. 표준 입출력\n",
    " \n",
    "# 2. 파일 읽기/쓰기\n",
    "\n",
    "# 3. 네트워크 통신"
   ]
  },
  {
   "cell_type": "markdown",
   "metadata": {},
   "source": [
    "# 표준 입/출력\n",
    "\n",
    "- 표준 입력 장치로부터 받은 입력을 \n",
    "  표준 출력 장치로 출력"
   ]
  },
  {
   "cell_type": "code",
   "execution_count": 7,
   "metadata": {},
   "outputs": [
    {
     "name": "stdout",
     "output_type": "stream",
     "text": [
      "hello\n"
     ]
    }
   ],
   "source": [
    "n = input()"
   ]
  },
  {
   "cell_type": "code",
   "execution_count": 8,
   "metadata": {},
   "outputs": [
    {
     "data": {
      "text/plain": [
       "'hello'"
      ]
     },
     "execution_count": 8,
     "metadata": {},
     "output_type": "execute_result"
    }
   ],
   "source": [
    "n"
   ]
  },
  {
   "cell_type": "markdown",
   "metadata": {},
   "source": [
    "# 표준 입력 연습문제\n",
    "\n",
    "표준입력으로부터 정수 하나를 입력받아서\n",
    "해당 정수의 구구단이 출력되도록\n",
    "프로그램을 작성해볼게요\n",
    "- 이때 입력은 0을 제외한 한자리수 라고 가정"
   ]
  },
  {
   "cell_type": "code",
   "execution_count": 8,
   "metadata": {},
   "outputs": [
    {
     "name": "stdout",
     "output_type": "stream",
     "text": [
      "3\n",
      "3 X 1 = 3\n",
      "3 X 2 = 6\n",
      "3 X 3 = 9\n",
      "3 X 4 = 12\n",
      "3 X 5 = 15\n",
      "3 X 6 = 18\n",
      "3 X 7 = 21\n",
      "3 X 8 = 24\n",
      "3 X 9 = 27\n"
     ]
    }
   ],
   "source": [
    "리스트 = [1, 2, 3, 4, 5, 6, 7, 8, 9]\n",
    "n = input()\n",
    "\n",
    "for i in range(1, 10):\n",
    "    if not int(n) == 0  and int(n)<10:\n",
    "        print( \"{} X {} = {}\".format(n, i, int(n)*i))\n",
    "    else:\n",
    "        print(\"다시 입력하세요\")\n",
    "        break"
   ]
  },
  {
   "cell_type": "code",
   "execution_count": 9,
   "metadata": {},
   "outputs": [
    {
     "name": "stdout",
     "output_type": "stream",
     "text": [
      "10\n",
      "10 X 1 = 10\n",
      "10 X 2 = 20\n",
      "10 X 3 = 30\n",
      "10 X 4 = 40\n",
      "10 X 5 = 50\n",
      "10 X 6 = 60\n",
      "10 X 7 = 70\n",
      "10 X 8 = 80\n",
      "10 X 9 = 90\n"
     ]
    }
   ],
   "source": [
    "리스트 = [1, 2, 3, 4, 5, 6, 7, 8, 9]\n",
    "n = input()\n",
    "n = int(n)\n",
    "\n",
    "for i in range(1, 10):\n",
    "    print( \"{} X {} = {}\".format(n, i, n*i))"
   ]
  },
  {
   "cell_type": "code",
   "execution_count": null,
   "metadata": {},
   "outputs": [],
   "source": []
  }
 ],
 "metadata": {
  "kernelspec": {
   "display_name": "Python 3",
   "language": "python",
   "name": "python3"
  },
  "language_info": {
   "codemirror_mode": {
    "name": "ipython",
    "version": 3
   },
   "file_extension": ".py",
   "mimetype": "text/x-python",
   "name": "python",
   "nbconvert_exporter": "python",
   "pygments_lexer": "ipython3",
   "version": "3.7.4"
  }
 },
 "nbformat": 4,
 "nbformat_minor": 2
}
