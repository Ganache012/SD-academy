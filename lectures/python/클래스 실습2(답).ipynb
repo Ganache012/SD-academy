{
 "cells": [
  {
   "cell_type": "markdown",
   "metadata": {},
   "source": [
    "# 파이썬 에서 변수의 종류\n",
    "- 위치에 따라 변수의 종류가 구분되고\n",
    "- 변수의 영향력이 달라진다\n",
    "\n",
    "## 1. 전역변수(global)\n",
    "- 함수와 클래스 그 어디에도 포함되어 있지 않은 위치에 정의\n",
    "- 정의된 시점부터 파일의 끝까지 유효하다\n",
    "\n",
    "## 2. 지역변수(local)\n",
    "- 함수 내에서 정의\n",
    "- 함수의 인자(매개변수)도 역시, 지역변수\n",
    "- 함수 내에서만 유효\n",
    "\n",
    "## 3. 클래스 변수\n",
    "- 메소드에 포함되어 있지 않은 클래스 내부에서 정의\n",
    "- 각 클래스마다 한개만 존재하는 변수\n",
    "- 즉 클래스가 아닌 곳에서는 참조가 불가능\n",
    "\n",
    "## 4. 객체 변수\n",
    "- 객체가 생성될 때 정의되는 변수\n",
    "- 객체 변수를 참조할 때에는 앞에 self가 붙는다"
   ]
  },
  {
   "cell_type": "markdown",
   "metadata": {},
   "source": [
    "# 1. BankAccount 클래스 정의하기\n",
    "- 은행에서 계좌를 개설하면 기본적으로 계좌번호와 잔액이 설정됩니다.\n",
    "- 생성자를 이용해서 구현해 봅시다."
   ]
  },
  {
   "cell_type": "code",
   "execution_count": 26,
   "metadata": {},
   "outputs": [],
   "source": [
    "# 계좌번호와 잔액을 글로벌 변수로 유지하는 경우\n",
    "#account_no = ''\n",
    "#balance = 0\n",
    "\n",
    "#class BankAccount:\n",
    "    #def __init__(self, account_no_='', balance_=0):\n",
    "        #global account_no\n",
    "        #global balance\n",
    "        #account_no = account_no_\n",
    "        #balance = balance_\n",
    "#계좌번호와 잔액을 지역 변수로 유지하는 경우\n",
    "#class BankAccount:\n",
    "    #def __init__(self, account_no_, balance_):\n",
    "        #account_no = account_no_\n",
    "        #balance = balance_\n",
    "\n",
    "#정답\n",
    "class BankAccount:\n",
    "    def __init__(self, account_no = '', balance = 0):\n",
    "        self.account_no = account_no\n",
    "        self.balance = balance"
   ]
  },
  {
   "cell_type": "code",
   "execution_count": 27,
   "metadata": {},
   "outputs": [],
   "source": [
    "# 맨 마지막 객체의 값이 출력된다.\n",
    "client = BankAccount('111-111111-11-11-1111', 10000)"
   ]
  },
  {
   "cell_type": "code",
   "execution_count": 28,
   "metadata": {},
   "outputs": [
    {
     "data": {
      "text/plain": [
       "'111-111111-11-11-1111'"
      ]
     },
     "execution_count": 28,
     "metadata": {},
     "output_type": "execute_result"
    }
   ],
   "source": [
    "client.account_no"
   ]
  },
  {
   "cell_type": "markdown",
   "metadata": {},
   "source": [
    "# 2. 클래스 변수\n",
    "- 개설된 계좌의 갯수를 저장하는 클래스 변수 하나를 정의하세요.\n",
    "- number_of_bank_account"
   ]
  },
  {
   "cell_type": "code",
   "execution_count": 34,
   "metadata": {},
   "outputs": [],
   "source": [
    "# 만약에 number_of_bank_account를 '객체 변수'로써 구현하게 된다면?\n",
    "class BankAccount:\n",
    "    #클래스 변수\n",
    "    number_of_bank_account = 0\n",
    "    \n",
    "    def __init__(self, account_no = '', balance = 0):\n",
    "        self.account_no = account_no #객체변수 = 지역변수\n",
    "        self.balance = balance # 객체변수 = 지역변수\n",
    "        self.number_of_bank_account = 0\n",
    "        self.add_number_of_account()\n",
    "        \n",
    "    def add_number_of_account(self):\n",
    "        # self.number_of_banck_account = self.number_of_bank_account + 1\n",
    "        self.number_of_bank_account += 1"
   ]
  },
  {
   "cell_type": "code",
   "execution_count": 35,
   "metadata": {},
   "outputs": [
    {
     "data": {
      "text/plain": [
       "0"
      ]
     },
     "execution_count": 35,
     "metadata": {},
     "output_type": "execute_result"
    }
   ],
   "source": [
    "# 클래스 변수는 객체 생성 시점과는 무관!!\n",
    "# 객체변수는 객체를 만들면 '동적으로 할당'된다. (객체를 만들지 않으면 사용X)\n",
    "BankAccount.number_of_bank_account"
   ]
  },
  {
   "cell_type": "code",
   "execution_count": 36,
   "metadata": {},
   "outputs": [],
   "source": [
    "client = BankAccount()"
   ]
  },
  {
   "cell_type": "code",
   "execution_count": 37,
   "metadata": {},
   "outputs": [
    {
     "data": {
      "text/plain": [
       "1"
      ]
     },
     "execution_count": 37,
     "metadata": {},
     "output_type": "execute_result"
    }
   ],
   "source": [
    "client.number_of_bank_account"
   ]
  },
  {
   "cell_type": "code",
   "execution_count": 38,
   "metadata": {},
   "outputs": [
    {
     "data": {
      "text/plain": [
       "1"
      ]
     },
     "execution_count": 38,
     "metadata": {},
     "output_type": "execute_result"
    }
   ],
   "source": [
    "client2 = BankAccount()\n",
    "client2.number_of_bank_account"
   ]
  },
  {
   "cell_type": "code",
   "execution_count": 41,
   "metadata": {},
   "outputs": [],
   "source": [
    "# 정답\n",
    "class BankAccount:\n",
    "    #클래스 변수\n",
    "    number_of_bank_account = 0\n",
    "    \n",
    "    #생성자: 객체가 생성될 때, 제일 먼저 실행되는 메소드\n",
    "    def __init__(self, account_no = '', balance = 0):\n",
    "        self.account_no = account_no #객체변수 = 지역변수\n",
    "        self.balance = balance # 객체변수 = 지역변수\n",
    "        BankAccount.number_of_bank_account += 1"
   ]
  },
  {
   "cell_type": "code",
   "execution_count": 42,
   "metadata": {},
   "outputs": [],
   "source": [
    "client1 = BankAccount()# 생성자 호출\n",
    "client2 = BankAccount()"
   ]
  },
  {
   "cell_type": "code",
   "execution_count": 43,
   "metadata": {},
   "outputs": [
    {
     "data": {
      "text/plain": [
       "2"
      ]
     },
     "execution_count": 43,
     "metadata": {},
     "output_type": "execute_result"
    }
   ],
   "source": [
    "BankAccount.number_of_bank_account"
   ]
  },
  {
   "cell_type": "markdown",
   "metadata": {},
   "source": [
    "# 3. 입금 메서드\n",
    "- 계좌를 개설한 객체에 입금을 하기 위한 deposit메서드를 추가해 봅시다.\n",
    "- 최소 입금액은 1원이라고 가정 합니다."
   ]
  },
  {
   "cell_type": "code",
   "execution_count": 58,
   "metadata": {},
   "outputs": [],
   "source": [
    "# 정답\n",
    "class BankAccount:\n",
    "    #클래스 변수\n",
    "    number_of_bank_account = 0\n",
    "    \n",
    "    #생성자: 객체가 생성될 때, 제일 먼저 실행되는 메소드\n",
    "    def __init__(self, account_no = '', balance = 0):\n",
    "        self.account_no = account_no #객체변수 = 지역변수\n",
    "        self.balance = balance # 객체변수 = 지역변수\n",
    "        BankAccount.number_of_bank_account += 1\n",
    "        \n",
    "    def deposit(self, amount=0):\n",
    "        if amount < 1:\n",
    "            print('최소 입금액은 1원 입니다.')\n",
    "        else:\n",
    "            self.balance += amount\n",
    "            # self.balance = self.balance + amount\n",
    "            print('{}원이 입금되었습니다.'.format(amount))"
   ]
  },
  {
   "cell_type": "code",
   "execution_count": 59,
   "metadata": {},
   "outputs": [],
   "source": [
    "client1 = BankAccount('11-1111111-111-1', 10000)"
   ]
  },
  {
   "cell_type": "code",
   "execution_count": 60,
   "metadata": {},
   "outputs": [
    {
     "name": "stdout",
     "output_type": "stream",
     "text": [
      "10000원이 입금되었습니다.\n"
     ]
    },
    {
     "data": {
      "text/plain": [
       "20000"
      ]
     },
     "execution_count": 60,
     "metadata": {},
     "output_type": "execute_result"
    }
   ],
   "source": [
    "client1.deposit(10000)\n",
    "client1.balance"
   ]
  },
  {
   "cell_type": "markdown",
   "metadata": {},
   "source": [
    "# 4. 출금 메서드\n",
    "- 마찬가지로 출금을 하기 위한, withdraw 메서드를 추가해 봅시다.\n",
    "- 잔액 이상으로는 출금할 수 없습니다."
   ]
  },
  {
   "cell_type": "code",
   "execution_count": 1,
   "metadata": {},
   "outputs": [],
   "source": [
    "# 정답\n",
    "class BankAccount:\n",
    "    #클래스 변수\n",
    "    number_of_bank_account = 0\n",
    "    \n",
    "    #생성자: 객체가 생성될 때, 제일 먼저 실행되는 메소드\n",
    "    def __init__(self, account_no = '', balance = 0):\n",
    "        self.account_no = account_no #객체변수 = 지역변수\n",
    "        self.balance = balance # 객체변수 = 지역변수\n",
    "        BankAccount.number_of_bank_account += 1\n",
    "        \n",
    "    def deposit(self, amount=0):\n",
    "        if amount < 1:\n",
    "            print('최소 입금액은 1원 입니다.')\n",
    "        else:\n",
    "            self.balance += amount\n",
    "            # self.balance = self.balance + amount\n",
    "            print('{}원이 입금되었습니다.'.format(amount))\n",
    "            \n",
    "    def withdraw(self, amount = 0):\n",
    "        if amount < self.balance:\n",
    "            self.balance -= amount\n",
    "            print('{}원이 출금되었습니다.'.format(amount))\n",
    "            print('현재 잔액은 {}원 입니다.'.format(self.balance))\n",
    "        else:\n",
    "            print('잔액이 부족합니다.')"
   ]
  },
  {
   "cell_type": "code",
   "execution_count": 2,
   "metadata": {},
   "outputs": [],
   "source": [
    "client1 = BankAccount('11-1111111-111-1', 10000)"
   ]
  },
  {
   "cell_type": "code",
   "execution_count": 3,
   "metadata": {},
   "outputs": [
    {
     "name": "stdout",
     "output_type": "stream",
     "text": [
      "10000원이 입금되었습니다.\n",
      "9000원이 출금되었습니다.\n",
      "현재 잔액은 11000원 입니다.\n"
     ]
    },
    {
     "data": {
      "text/plain": [
       "11000"
      ]
     },
     "execution_count": 3,
     "metadata": {},
     "output_type": "execute_result"
    }
   ],
   "source": [
    "client1.deposit(10000)\n",
    "client1.withdraw(9000)\n",
    "client1.balance"
   ]
  },
  {
   "cell_type": "markdown",
   "metadata": {},
   "source": [
    "#### ps) 만약에, 대화식으로 작성하고 싶다면?"
   ]
  },
  {
   "cell_type": "code",
   "execution_count": 4,
   "metadata": {},
   "outputs": [
    {
     "name": "stdout",
     "output_type": "stream",
     "text": [
      "계좌번호를 입력해주세요: 11-1111111111-1111\n",
      "입금할 금액을 입력해주세요: 1000\n"
     ]
    }
   ],
   "source": [
    "account_no = input('계좌번호를 입력해주세요: ')\n",
    "amount = input('입금할 금액을 입력해주세요: ')\n",
    "\n",
    "amount = int(amount)\n",
    "\n",
    "client = BankAccount(account_no, amount)"
   ]
  },
  {
   "cell_type": "markdown",
   "metadata": {},
   "source": [
    "# 5. 이자 지급하기\n",
    "- 입금횟수가 5회가 될 때 마다 잔고를 기준으로 1%의 이자를 잔고에 추가하도록 해 봅시다."
   ]
  },
  {
   "cell_type": "code",
   "execution_count": 22,
   "metadata": {},
   "outputs": [],
   "source": [
    "# 정답\n",
    "class BankAccount:\n",
    "    #클래스 변수\n",
    "    number_of_bank_account = 0\n",
    "    \n",
    "    #생성자: 객체가 생성될 때, 제일 먼저 실행되는 메소드\n",
    "    def __init__(self, account_no = '', balance = 0, number_of_deposit=0):\n",
    "        self.account_no = account_no #객체변수 = 지역변수\n",
    "        self.balance = balance # 객체변수 = 지역변수\n",
    "        self.number_of_deposit = number_of_deposit\n",
    "        BankAccount.number_of_bank_account += 1\n",
    "        \n",
    "    def deposit(self, amount=0):\n",
    "        if amount < 1:\n",
    "            print('최소 입금액은 1원 입니다.')\n",
    "        else:\n",
    "            self.balance += amount\n",
    "            # self.balance = self.balance + amount\n",
    "            self.number_of_deposit +=1\n",
    "            print('{}원이 입금되었습니다.'.format(amount))\n",
    "            print('{}회 입금하였습니다.'.format(self.number_of_deposit))\n",
    "            print('현재 잔액은 {}원 입니다.'.format(self.balance))\n",
    "            \n",
    "            #5의 배수면 1% 이자가 붙는다.\n",
    "            if (self.number_of_deposit % 5) == 0:\n",
    "                interest = self.balance * 0.01\n",
    "                self.balance += interest\n",
    "            \n",
    "    def withdraw(self, amount = 0):\n",
    "        if amount < self.balance:\n",
    "            self.balance -= amount\n",
    "            print('{}원이 출금되었습니다.'.format(amount))\n",
    "            print('현재 잔액은 {}원 입니다.'.format(self.balance))\n",
    "        else:\n",
    "            print('잔액이 부족합니다.')"
   ]
  },
  {
   "cell_type": "code",
   "execution_count": 23,
   "metadata": {},
   "outputs": [],
   "source": [
    "client1 = BankAccount('11-1111111-111-1', 10000)"
   ]
  },
  {
   "cell_type": "code",
   "execution_count": 24,
   "metadata": {},
   "outputs": [
    {
     "name": "stdout",
     "output_type": "stream",
     "text": [
      "10000원이 입금되었습니다.\n",
      "1회 입금하였습니다.\n",
      "현재 잔액은 20000원 입니다.\n"
     ]
    }
   ],
   "source": [
    "client1.deposit(10000)"
   ]
  }
 ],
 "metadata": {
  "kernelspec": {
   "display_name": "Python 3",
   "language": "python",
   "name": "python3"
  },
  "language_info": {
   "codemirror_mode": {
    "name": "ipython",
    "version": 3
   },
   "file_extension": ".py",
   "mimetype": "text/x-python",
   "name": "python",
   "nbconvert_exporter": "python",
   "pygments_lexer": "ipython3",
   "version": "3.7.4"
  }
 },
 "nbformat": 4,
 "nbformat_minor": 2
}
