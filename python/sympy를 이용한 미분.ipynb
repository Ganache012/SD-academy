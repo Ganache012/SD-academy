{
 "cells": [
  {
   "cell_type": "code",
   "execution_count": 2,
   "metadata": {},
   "outputs": [],
   "source": [
    "import numpy as np\n",
    "import sympy as sp\n",
    "import matplotlib.pyplot as plt"
   ]
  },
  {
   "cell_type": "markdown",
   "metadata": {},
   "source": [
    "## 미분이란?\n",
    "- 머신러닝/딥러닝 알고리즘들에서 사용하는 최적화 기법(알고리즘)의 핵심\n",
    "- 함수의 기울기: 함수의 변화량"
   ]
  },
  {
   "cell_type": "code",
   "execution_count": 34,
   "metadata": {},
   "outputs": [],
   "source": [
    "def f(x):\n",
    "    return 2 * x + 6\n",
    "\n",
    "# f = lambda x:2*x+6"
   ]
  },
  {
   "cell_type": "code",
   "execution_count": 38,
   "metadata": {},
   "outputs": [
    {
     "name": "stdout",
     "output_type": "stream",
     "text": [
      "[0.         0.05050505 0.1010101  0.15151515 0.2020202  0.25252525\n",
      " 0.3030303  0.35353535 0.4040404  0.45454545 0.50505051 0.55555556\n",
      " 0.60606061 0.65656566 0.70707071 0.75757576 0.80808081 0.85858586\n",
      " 0.90909091 0.95959596 1.01010101 1.06060606 1.11111111 1.16161616\n",
      " 1.21212121 1.26262626 1.31313131 1.36363636 1.41414141 1.46464646\n",
      " 1.51515152 1.56565657 1.61616162 1.66666667 1.71717172 1.76767677\n",
      " 1.81818182 1.86868687 1.91919192 1.96969697 2.02020202 2.07070707\n",
      " 2.12121212 2.17171717 2.22222222 2.27272727 2.32323232 2.37373737\n",
      " 2.42424242 2.47474747 2.52525253 2.57575758 2.62626263 2.67676768\n",
      " 2.72727273 2.77777778 2.82828283 2.87878788 2.92929293 2.97979798\n",
      " 3.03030303 3.08080808 3.13131313 3.18181818 3.23232323 3.28282828\n",
      " 3.33333333 3.38383838 3.43434343 3.48484848 3.53535354 3.58585859\n",
      " 3.63636364 3.68686869 3.73737374 3.78787879 3.83838384 3.88888889\n",
      " 3.93939394 3.98989899 4.04040404 4.09090909 4.14141414 4.19191919\n",
      " 4.24242424 4.29292929 4.34343434 4.39393939 4.44444444 4.49494949\n",
      " 4.54545455 4.5959596  4.64646465 4.6969697  4.74747475 4.7979798\n",
      " 4.84848485 4.8989899  4.94949495 5.        ]\n"
     ]
    }
   ],
   "source": [
    "# 그래프로 표현하기 1. 수치로 나타내기\n",
    "x = np.linspace(0, 5, 100)\n",
    "print(x)"
   ]
  },
  {
   "cell_type": "code",
   "execution_count": 39,
   "metadata": {},
   "outputs": [
    {
     "name": "stdout",
     "output_type": "stream",
     "text": [
      "[ 6.          6.1010101   6.2020202   6.3030303   6.4040404   6.50505051\n",
      "  6.60606061  6.70707071  6.80808081  6.90909091  7.01010101  7.11111111\n",
      "  7.21212121  7.31313131  7.41414141  7.51515152  7.61616162  7.71717172\n",
      "  7.81818182  7.91919192  8.02020202  8.12121212  8.22222222  8.32323232\n",
      "  8.42424242  8.52525253  8.62626263  8.72727273  8.82828283  8.92929293\n",
      "  9.03030303  9.13131313  9.23232323  9.33333333  9.43434343  9.53535354\n",
      "  9.63636364  9.73737374  9.83838384  9.93939394 10.04040404 10.14141414\n",
      " 10.24242424 10.34343434 10.44444444 10.54545455 10.64646465 10.74747475\n",
      " 10.84848485 10.94949495 11.05050505 11.15151515 11.25252525 11.35353535\n",
      " 11.45454545 11.55555556 11.65656566 11.75757576 11.85858586 11.95959596\n",
      " 12.06060606 12.16161616 12.26262626 12.36363636 12.46464646 12.56565657\n",
      " 12.66666667 12.76767677 12.86868687 12.96969697 13.07070707 13.17171717\n",
      " 13.27272727 13.37373737 13.47474747 13.57575758 13.67676768 13.77777778\n",
      " 13.87878788 13.97979798 14.08080808 14.18181818 14.28282828 14.38383838\n",
      " 14.48484848 14.58585859 14.68686869 14.78787879 14.88888889 14.98989899\n",
      " 15.09090909 15.19191919 15.29292929 15.39393939 15.49494949 15.5959596\n",
      " 15.6969697  15.7979798  15.8989899  16.        ]\n"
     ]
    }
   ],
   "source": [
    "y = f(x)\n",
    "print(y)"
   ]
  },
  {
   "cell_type": "code",
   "execution_count": 40,
   "metadata": {},
   "outputs": [
    {
     "data": {
      "image/png": "[encoded data removed]",
      "text/plain": [
       "<Figure size 432x288 with 1 Axes>"
      ]
     },
     "metadata": {
      "needs_background": "light"
     },
     "output_type": "display_data"
    }
   ],
   "source": [
    "plt.plot(x,y)\n",
    "plt.grid()\n",
    "plt.xlim(0, 4)\n",
    "plt.ylim(0, 8)\n",
    "plt.xticks(np.arange(0, 5))\n",
    "plt.yticks(np.arange(0, 9))\n",
    "\n",
    "plt.annotate('', xy=(2,2), xytext=(2, 1), arrowprops=dict(facecolor='red'))\n",
    "plt.show()"
   ]
  },
  {
   "cell_type": "markdown",
   "metadata": {},
   "source": [
    "- 어느 위치에서든 동일한 기울기를 구할 수 있다.\n",
    "- 직선인 경우 기울기의 변화가 없다"
   ]
  },
  {
   "cell_type": "code",
   "execution_count": 4,
   "metadata": {},
   "outputs": [],
   "source": [
    "f = lambda x:x**2 - 4 * x + 6"
   ]
  },
  {
   "cell_type": "code",
   "execution_count": 5,
   "metadata": {},
   "outputs": [],
   "source": [
    "x = np.linspace(2, 5, 100)\n",
    "y = f(x)"
   ]
  },
  {
   "cell_type": "code",
   "execution_count": 7,
   "metadata": {},
   "outputs": [
    {
     "data": {
      "image/png": "[encoded data removed]",
      "text/plain": [
       "<Figure size 432x288 with 1 Axes>"
      ]
     },
     "metadata": {
      "needs_background": "light"
     },
     "output_type": "display_data"
    }
   ],
   "source": [
    "plt.plot(x,y)\n",
    "plt.grid()\n",
    "#plt.annotate('', xy=(3,0,2), xytext=(2.5,2), arrowprops=dict(facecolor='red'))\n",
    "#plt.annotate('', xy=(3,0,3), xytext=(3,0,2), arrowprops=dict(facecolor='red'))\n",
    "plt.xlabel('x: speed')\n",
    "plt.ylabel('y: distance')\n",
    "\n",
    "plt.plot(4.0,6, \"ro\")\n",
    "plt.plot(4.5,6, \"bo\")\n",
    "\n",
    "plt.show()"
   ]
  },
  {
   "cell_type": "markdown",
   "metadata": {},
   "source": [
    "- 빨간점: a, 파란점: b라고 가정하면\n",
    "- 평균 변화율은 다음과 같이 정의된다.\n",
    "$$\n",
    "    \\frac{\\Delta y}{\\Delta x} = \\frac{f(b)-f(a)}{b-a} = \\frac{f(a+\\Delta x) - f(a)}{\\Delta x}\n",
    "$$"
   ]
  },
  {
   "cell_type": "markdown",
   "metadata": {},
   "source": [
    "### 순간 변화율?\n",
    "\n",
    "- 충분히 작은 구간에서의 평균변화율\n",
    "- x의 변화량을 0.01 정도로 놓고 계산한다면?\n",
    "\n",
    "$$\n",
    "    df(x) = \\frac{f(x+0.01)}{0.01}\n",
    "$$\n",
    "\n",
    "- 다음과 같은 함수를 가정해 보자: $ f(x) = x^2 $\n",
    "- 이 함수의 순간 변화율은 $2x$이다.\n",
    "\n",
    "\n",
    "- 실제 순간 변화율과는 오차가 발생한다.\n",
    "- 즉, 0.01도 (값을 작게 줘도) 순간변화율이라고 얘기할 수 없다.\n",
    "- 0.001, 0.0001,0.00000001,.... 변화량을 아주 작게 줄인다고 해도 오차는 계속 발생"
   ]
  },
  {
   "cell_type": "markdown",
   "metadata": {},
   "source": [
    "- 변화량(기울기)이 일정치가 않기 때문에\n",
    "- 변화량을 측정하는 위치마다 값이 다르게 나온다.\n",
    "- 직선과는 다르게 함수의 뚜렷한 변화량을 확인하기 어렵다."
   ]
  },
  {
   "cell_type": "markdown",
   "metadata": {},
   "source": [
    "## 미분의 정의\n",
    "\n",
    "- 변화율을 아무리 작게 가져가도 순간변화율을 구할 수 없음을 확인했다\n",
    "- 극한(limit)의 개념을 사용(수렴, 극한, 급수, 유리수의 조밀성, 완비성 공리,...) - 수업에서는 자세하게 다룸x\n",
    "\n",
    "$$\n",
    "    f'(a) = \\lim_{b\\to a} \\frac{f(b) - f(a)}{b-a} = \\lim_{ \\Delta x \\to 0} \\frac{f(x + \\Delta x) - f(x)}{\\Delta x}\n",
    "$$\n",
    "\n",
    "- 분모를 순간에 이를 정도로(극한) 작게 만들면 순간변화율 이라고 얘기하고,\n",
    "- 극한이 존재한다면, 이 극한값에 대한 평균변화율을 '순간변화율' 혹은 '미분계수'라고 하고,\n",
    "- 순간변화율은 그 위치에서의 접선의 기울기로 해석될 수 있다.\n",
    "- 미분계수를 값으로 하는 함수를 '도함수'라고 하고 $f'()$ f 프라임 이라고 표기한다."
   ]
  },
  {
   "cell_type": "markdown",
   "metadata": {},
   "source": [
    "## 다항함수의 미분\n",
    "\n",
    "$$\n",
    "    f(x) = x^2\n",
    "$$\n",
    "\n",
    "1. 미분의 정의에 의하여,\n",
    "\n",
    "$$\n",
    "    \\lim_{\\Delta x \\to 0} \\frac{f(x+ \\Delta x) - f(x)}{\\Delta x} = \\lim_{\\Delta x \\to 0} \\frac{(x + \\Delta x)^ 2 - x^2}{\\Delta x}\n",
    "$$\n",
    "\n",
    "2. 거듭제곱에 대한 미분의 정의\n",
    "\n",
    "$$\n",
    "    \\frac{d}{dx}(x^n) = nx^(n-1)\n",
    "$$"
   ]
  },
  {
   "cell_type": "markdown",
   "metadata": {},
   "source": [
    "## 하지만 sympy를 사용하면"
   ]
  },
  {
   "cell_type": "code",
   "execution_count": 8,
   "metadata": {},
   "outputs": [
    {
     "data": {
      "text/latex": [
       "$\\displaystyle 2 x$"
      ],
      "text/plain": [
       "2*x"
      ]
     },
     "execution_count": 8,
     "metadata": {},
     "output_type": "execute_result"
    }
   ],
   "source": [
    "# sympy에서는 수식에 사용되는 변수를 기호로 취급\n",
    "# 때문에 sp.Symbol() 함수를 통해서 수식에 사용되는 변수를 기호로 바꿔줘야 한다.\n",
    "x = sp.Symbol('x')\n",
    "sp.diff(x**2,x)"
   ]
  },
  {
   "cell_type": "markdown",
   "metadata": {},
   "source": [
    "## 단일변수/ 일변수 함수의 미분"
   ]
  },
  {
   "cell_type": "markdown",
   "metadata": {},
   "source": [
    "$$\n",
    "    f(x) = x^2 + 4x + 6\n",
    "$$"
   ]
  },
  {
   "cell_type": "code",
   "execution_count": 18,
   "metadata": {},
   "outputs": [],
   "source": [
    "def h(x):\n",
    "    return x ** 2 + 4 * x + 6\n",
    "\n",
    "def dh(x): # 도함수 입니다\n",
    "    return 2 * x + 4"
   ]
  },
  {
   "cell_type": "code",
   "execution_count": 13,
   "metadata": {},
   "outputs": [
    {
     "data": {
      "text/latex": [
       "$\\displaystyle 2 x + 4$"
      ],
      "text/plain": [
       "2*x + 4"
      ]
     },
     "execution_count": 13,
     "metadata": {},
     "output_type": "execute_result"
    }
   ],
   "source": [
    "x = sp.Symbol('x')\n",
    "f = x**2 + 4 *x + 6 #파이썬으로의 표현\n",
    "sp.diff(f,x)"
   ]
  },
  {
   "cell_type": "markdown",
   "metadata": {},
   "source": [
    "### 다항함수의 그래프"
   ]
  },
  {
   "cell_type": "code",
   "execution_count": 19,
   "metadata": {},
   "outputs": [],
   "source": [
    "a = np.linspace(-5, 5, 100)\n",
    "fa = h(a)\n",
    "dfa = dh(a)# 도함수의 변수"
   ]
  },
  {
   "cell_type": "code",
   "execution_count": 21,
   "metadata": {},
   "outputs": [
    {
     "data": {
      "image/png": "[encoded data removed]",
      "text/plain": [
       "<Figure size 432x288 with 1 Axes>"
      ]
     },
     "metadata": {
      "needs_background": "light"
     },
     "output_type": "display_data"
    }
   ],
   "source": [
    "plt.plot(a, fa, 'b-')\n",
    "plt.grid()\n",
    "plt.plot(a, dfa, 'r:') #요것은 도함수 입니다.\n",
    "plt.show()"
   ]
  },
  {
   "cell_type": "markdown",
   "metadata": {},
   "source": [
    "### 도함수의 그래프"
   ]
  },
  {
   "cell_type": "code",
   "execution_count": 20,
   "metadata": {},
   "outputs": [
    {
     "data": {
      "image/png": "[encoded data removed]",
      "text/plain": [
       "<Figure size 432x288 with 1 Axes>"
      ]
     },
     "metadata": {
      "needs_background": "light"
     },
     "output_type": "display_data"
    }
   ],
   "source": [
    "# 도함수만 그려봅시다.\n",
    "plt.plot(a, dfa)\n",
    "plt.grid()\n",
    "plt.show()"
   ]
  },
  {
   "cell_type": "markdown",
   "metadata": {},
   "source": [
    "### 아래에 주어진 다항함수에 대한 미분계수를 구하고 그림도 그려봅시다\n",
    "$$\n",
    "    f(x) = x^3 - 5x\n",
    "$$"
   ]
  },
  {
   "cell_type": "code",
   "execution_count": 27,
   "metadata": {},
   "outputs": [],
   "source": [
    "def h(x): # 다항함수\n",
    "    return x ** 3 - 5 * x\n",
    "\n",
    "def d(x): #도함수\n",
    "    return 3*x**2 - 5"
   ]
  },
  {
   "cell_type": "code",
   "execution_count": 28,
   "metadata": {},
   "outputs": [
    {
     "data": {
      "text/latex": [
       "$\\displaystyle 3 x^{2} - 5$"
      ],
      "text/plain": [
       "3*x**2 - 5"
      ]
     },
     "execution_count": 28,
     "metadata": {},
     "output_type": "execute_result"
    }
   ],
   "source": [
    "x = sp.Symbol('x')\n",
    "f = x**3 - 5*x\n",
    "sp.diff(f,x)"
   ]
  },
  {
   "cell_type": "code",
   "execution_count": 29,
   "metadata": {},
   "outputs": [],
   "source": [
    "a = np.linspace(-5, 5, 100)\n",
    "fa = h(a)\n",
    "dfa = d(a)"
   ]
  },
  {
   "cell_type": "code",
   "execution_count": 30,
   "metadata": {},
   "outputs": [
    {
     "data": {
      "image/png": "[encoded data removed]",
      "text/plain": [
       "<Figure size 432x288 with 1 Axes>"
      ]
     },
     "metadata": {
      "needs_background": "light"
     },
     "output_type": "display_data"
    }
   ],
   "source": [
    "plt.plot(a, fa, 'b-')\n",
    "plt.grid()\n",
    "plt.plot(a, dfa, 'r:') #요것은 도함수 입니다.\n",
    "plt.show()"
   ]
  },
  {
   "cell_type": "code",
   "execution_count": 31,
   "metadata": {},
   "outputs": [
    {
     "data": {
      "image/png": "[encoded data removed]",
      "text/plain": [
       "<Figure size 432x288 with 2 Axes>"
      ]
     },
     "metadata": {
      "needs_background": "light"
     },
     "output_type": "display_data"
    }
   ],
   "source": [
    "plt.subplot(2,1,1)\n",
    "plt.grid()\n",
    "plt.plot(a, fa, 'b-')\n",
    "\n",
    "plt.subplot(2,1,2)\n",
    "plt.grid()\n",
    "plt.plot(a,dfa, 'r:')\n",
    "plt.show()"
   ]
  },
  {
   "cell_type": "markdown",
   "metadata": {},
   "source": [
    "## 다변수 함수의 미분"
   ]
  },
  {
   "cell_type": "code",
   "execution_count": null,
   "metadata": {},
   "outputs": [],
   "source": []
  }
 ],
 "metadata": {
  "kernelspec": {
   "display_name": "Python 3",
   "language": "python",
   "name": "python3"
  },
  "language_info": {
   "codemirror_mode": {
    "name": "ipython",
    "version": 3
   },
   "file_extension": ".py",
   "mimetype": "text/x-python",
   "name": "python",
   "nbconvert_exporter": "python",
   "pygments_lexer": "ipython3",
   "version": "3.7.4"
  }
 },
 "nbformat": 4,
 "nbformat_minor": 4
}
