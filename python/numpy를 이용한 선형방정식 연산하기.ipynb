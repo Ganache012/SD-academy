{
 "cells": [
  {
   "cell_type": "code",
   "execution_count": 2,
   "metadata": {},
   "outputs": [],
   "source": [
    "import numpy as np"
   ]
  },
  {
   "cell_type": "markdown",
   "metadata": {},
   "source": [
    "## 선형대수를 통한 해를 구하기"
   ]
  },
  {
   "cell_type": "markdown",
   "metadata": {},
   "source": [
    "## 다양한 벡터와 행렬"
   ]
  },
  {
   "cell_type": "markdown",
   "metadata": {},
   "source": [
    "### 영벡터\n",
    "- 모든 원소가 0인 벡터"
   ]
  },
  {
   "cell_type": "code",
   "execution_count": 2,
   "metadata": {},
   "outputs": [
    {
     "data": {
      "text/plain": [
       "array([[0.],\n",
       "       [0.],\n",
       "       [0.],\n",
       "       [0.]])"
      ]
     },
     "execution_count": 2,
     "metadata": {},
     "output_type": "execute_result"
    }
   ],
   "source": [
    "np.zeros((4,1))"
   ]
  },
  {
   "cell_type": "markdown",
   "metadata": {},
   "source": [
    "### 일벡터\n",
    "- 모든 원소가 1인 벡터"
   ]
  },
  {
   "cell_type": "code",
   "execution_count": 3,
   "metadata": {},
   "outputs": [
    {
     "data": {
      "text/plain": [
       "array([[1.],\n",
       "       [1.],\n",
       "       [1.],\n",
       "       [1.]])"
      ]
     },
     "execution_count": 3,
     "metadata": {},
     "output_type": "execute_result"
    }
   ],
   "source": [
    "np.ones((4,1))"
   ]
  },
  {
   "cell_type": "markdown",
   "metadata": {},
   "source": [
    "### 정방행렬(squre matrix)\n",
    "- 행과 열의 크기가 같은 행렬"
   ]
  },
  {
   "cell_type": "code",
   "execution_count": 4,
   "metadata": {},
   "outputs": [
    {
     "data": {
      "text/plain": [
       "array([[9, 1, 9, 1, 8],\n",
       "       [6, 8, 5, 5, 2],\n",
       "       [6, 3, 5, 3, 9],\n",
       "       [5, 2, 3, 8, 3],\n",
       "       [8, 1, 8, 8, 3]])"
      ]
     },
     "execution_count": 4,
     "metadata": {},
     "output_type": "execute_result"
    }
   ],
   "source": [
    "np.random.randint(10, size=(5,5))"
   ]
  },
  {
   "cell_type": "markdown",
   "metadata": {},
   "source": [
    "### 대각행렬(digonal matrix)\n",
    "- 행과 열이 같은 위치에 있고(대각)\n",
    "- 비대각(대각 위치가 아닌)의 모든 요소가 0인 행렬"
   ]
  },
  {
   "cell_type": "code",
   "execution_count": 5,
   "metadata": {},
   "outputs": [
    {
     "data": {
      "text/plain": [
       "array([[1, 0, 0, 0, 0],\n",
       "       [0, 2, 0, 0, 0],\n",
       "       [0, 0, 3, 0, 0],\n",
       "       [0, 0, 0, 4, 0],\n",
       "       [0, 0, 0, 0, 5]])"
      ]
     },
     "execution_count": 5,
     "metadata": {},
     "output_type": "execute_result"
    }
   ],
   "source": [
    "np.diag([1,2,3,4,5])"
   ]
  },
  {
   "cell_type": "markdown",
   "metadata": {},
   "source": [
    "### 항등행렬(identity matrix)\n",
    "- 대각행렬 중에서도 대각위치의 값이 모두 1인 행렬"
   ]
  },
  {
   "cell_type": "code",
   "execution_count": 6,
   "metadata": {},
   "outputs": [
    {
     "data": {
      "text/plain": [
       "array([[1, 0, 0, 0, 0],\n",
       "       [0, 1, 0, 0, 0],\n",
       "       [0, 0, 1, 0, 0],\n",
       "       [0, 0, 0, 1, 0],\n",
       "       [0, 0, 0, 0, 1]])"
      ]
     },
     "execution_count": 6,
     "metadata": {},
     "output_type": "execute_result"
    }
   ],
   "source": [
    "np.diag([1,1,1,1,1])"
   ]
  },
  {
   "cell_type": "code",
   "execution_count": 7,
   "metadata": {},
   "outputs": [
    {
     "data": {
      "text/plain": [
       "array([[1., 0., 0., 0., 0.],\n",
       "       [0., 1., 0., 0., 0.],\n",
       "       [0., 0., 1., 0., 0.],\n",
       "       [0., 0., 0., 1., 0.],\n",
       "       [0., 0., 0., 0., 1.]])"
      ]
     },
     "execution_count": 7,
     "metadata": {},
     "output_type": "execute_result"
    }
   ],
   "source": [
    "np.identity(5)"
   ]
  },
  {
   "cell_type": "code",
   "execution_count": 8,
   "metadata": {},
   "outputs": [
    {
     "data": {
      "text/plain": [
       "array([[1., 0., 0., 0., 0.],\n",
       "       [0., 1., 0., 0., 0.],\n",
       "       [0., 0., 1., 0., 0.],\n",
       "       [0., 0., 0., 1., 0.],\n",
       "       [0., 0., 0., 0., 1.]])"
      ]
     },
     "execution_count": 8,
     "metadata": {},
     "output_type": "execute_result"
    }
   ],
   "source": [
    "np.eye(5)"
   ]
  },
  {
   "cell_type": "markdown",
   "metadata": {},
   "source": [
    "## 선형대수를 통한 해를 구하기"
   ]
  },
  {
   "cell_type": "markdown",
   "metadata": {},
   "source": [
    "### 역행렬\n",
    "- 정수: + 연산에 대해서 역원의 존재성을 보장, 하지만 * 에 대해서는 보장하지 않음\n",
    "- 실수: +, * 연산에 대해서 역원의 존재성을 보장\n",
    "\n",
    "- 행렬: 역행렬이 존재, 무조건 존재하지는 않는다.\n",
    "- 역행렬은 존재할 수도 있고, 없을수도 있다"
   ]
  },
  {
   "cell_type": "markdown",
   "metadata": {},
   "source": [
    "### 역행렬의 존재성\n",
    "- 반드시 정방행렬 이어야만 한다.\n",
    "- determinant(판별식) != 0 경우는 역행렬의 존재한다"
   ]
  },
  {
   "cell_type": "code",
   "execution_count": 79,
   "metadata": {},
   "outputs": [
    {
     "name": "stdout",
     "output_type": "stream",
     "text": [
      "[[1 4 2 0]\n",
      " [9 5 0 0]\n",
      " [4 0 2 4]\n",
      " [6 1 8 3]]\n",
      "[[15]\n",
      " [19]\n",
      " [26]\n",
      " [44]]\n"
     ]
    }
   ],
   "source": [
    "A = np.matrix('1,4,2,0; 9,5,0,0; 4,0,2,4; 6,1,8,3')\n",
    "y = np.matrix('15;19;26;44')\n",
    "print(A)\n",
    "print(y)"
   ]
  },
  {
   "cell_type": "code",
   "execution_count": 80,
   "metadata": {},
   "outputs": [
    {
     "data": {
      "text/plain": [
       "853.9999999999995"
      ]
     },
     "execution_count": 80,
     "metadata": {},
     "output_type": "execute_result"
    }
   ],
   "source": [
    "np.linalg.det(A) #역행렬 존재 여부를 확인해준다."
   ]
  },
  {
   "cell_type": "code",
   "execution_count": 81,
   "metadata": {},
   "outputs": [
    {
     "data": {
      "text/plain": [
       "matrix([[1.],\n",
       "        [2.],\n",
       "        [3.],\n",
       "        [4.]])"
      ]
     },
     "execution_count": 81,
     "metadata": {},
     "output_type": "execute_result"
    }
   ],
   "source": [
    "np.linalg.solve(A, y)"
   ]
  },
  {
   "cell_type": "code",
   "execution_count": 82,
   "metadata": {},
   "outputs": [
    {
     "name": "stdout",
     "output_type": "stream",
     "text": [
      "[[-0.15222482  0.11241218 -0.03512881  0.04683841]\n",
      " [ 0.27400468 -0.00234192  0.06323185 -0.08430913]\n",
      " [ 0.02810304 -0.05152225 -0.1088993   0.14519906]\n",
      " [ 0.1381733  -0.08665105  0.33957845 -0.11943794]]\n"
     ]
    }
   ],
   "source": [
    "A_inv = np.linalg.inv(A) #역행렬 구하기\n",
    "print(A_inv)"
   ]
  },
  {
   "cell_type": "code",
   "execution_count": 83,
   "metadata": {},
   "outputs": [
    {
     "data": {
      "text/plain": [
       "matrix([[1.],\n",
       "        [2.],\n",
       "        [3.],\n",
       "        [4.]])"
      ]
     },
     "execution_count": 83,
     "metadata": {},
     "output_type": "execute_result"
    }
   ],
   "source": [
    "A_inv * y"
   ]
  },
  {
   "cell_type": "code",
   "execution_count": 36,
   "metadata": {},
   "outputs": [
    {
     "name": "stdout",
     "output_type": "stream",
     "text": [
      "[[278.]\n",
      " [230.]\n",
      " [288.]\n",
      " [449.]]\n"
     ]
    }
   ],
   "source": [
    "b = np.zeros((4,1))\n",
    "n = 4\n",
    "for i in range(0,n):\n",
    "    val = 0.0\n",
    "    for j in range(0, n):\n",
    "        val += A[i, j] * y[j,0]\n",
    "    b[i] = val\n",
    "print(b)"
   ]
  },
  {
   "cell_type": "code",
   "execution_count": 37,
   "metadata": {},
   "outputs": [
    {
     "name": "stdout",
     "output_type": "stream",
     "text": [
      "[[1 4 2 0]\n",
      " [9 5 0 0]\n",
      " [4 0 2 4]\n",
      " [6 1 8 3]]\n",
      "[[15]\n",
      " [19]\n",
      " [26]\n",
      " [44]]\n"
     ]
    }
   ],
   "source": [
    "A = np.array([\n",
    "    [1,4,2,0],\n",
    "    [9,5,0,0],\n",
    "    [4,0,2,4],\n",
    "    [6,1,8,3]\n",
    "])\n",
    "y = np.array ([[15],[19],[26],[44]])\n",
    "\n",
    "print(A)\n",
    "print(y)"
   ]
  },
  {
   "cell_type": "markdown",
   "metadata": {},
   "source": [
    "### 해를 구해 봅시다"
   ]
  },
  {
   "cell_type": "code",
   "execution_count": 29,
   "metadata": {},
   "outputs": [
    {
     "data": {
      "text/plain": [
       "0.0"
      ]
     },
     "execution_count": 29,
     "metadata": {},
     "output_type": "execute_result"
    }
   ],
   "source": [
    "A = np.matrix('1, 1; 2, 2')\n",
    "b = np.matrix('2;3')\n",
    "np.linalg.det(A)"
   ]
  },
  {
   "cell_type": "code",
   "execution_count": 30,
   "metadata": {},
   "outputs": [
    {
     "ename": "LinAlgError",
     "evalue": "Singular matrix",
     "output_type": "error",
     "traceback": [
      "\u001b[0;31m---------------------------------------------------------------------------\u001b[0m",
      "\u001b[0;31mLinAlgError\u001b[0m                               Traceback (most recent call last)",
      "\u001b[0;32m<ipython-input-30-1c1a7cd0e784>\u001b[0m in \u001b[0;36m<module>\u001b[0;34m\u001b[0m\n\u001b[0;32m----> 1\u001b[0;31m \u001b[0mx\u001b[0m \u001b[0;34m=\u001b[0m \u001b[0mnp\u001b[0m\u001b[0;34m.\u001b[0m\u001b[0mlinalg\u001b[0m\u001b[0;34m.\u001b[0m\u001b[0msolve\u001b[0m\u001b[0;34m(\u001b[0m\u001b[0mA\u001b[0m\u001b[0;34m,\u001b[0m \u001b[0mb\u001b[0m\u001b[0;34m)\u001b[0m\u001b[0;34m\u001b[0m\u001b[0;34m\u001b[0m\u001b[0m\n\u001b[0m",
      "\u001b[0;32m<__array_function__ internals>\u001b[0m in \u001b[0;36msolve\u001b[0;34m(*args, **kwargs)\u001b[0m\n",
      "\u001b[0;32m/usr/local/lib/python3.7/site-packages/numpy/linalg/linalg.py\u001b[0m in \u001b[0;36msolve\u001b[0;34m(a, b)\u001b[0m\n\u001b[1;32m    392\u001b[0m     \u001b[0msignature\u001b[0m \u001b[0;34m=\u001b[0m \u001b[0;34m'DD->D'\u001b[0m \u001b[0;32mif\u001b[0m \u001b[0misComplexType\u001b[0m\u001b[0;34m(\u001b[0m\u001b[0mt\u001b[0m\u001b[0;34m)\u001b[0m \u001b[0;32melse\u001b[0m \u001b[0;34m'dd->d'\u001b[0m\u001b[0;34m\u001b[0m\u001b[0;34m\u001b[0m\u001b[0m\n\u001b[1;32m    393\u001b[0m     \u001b[0mextobj\u001b[0m \u001b[0;34m=\u001b[0m \u001b[0mget_linalg_error_extobj\u001b[0m\u001b[0;34m(\u001b[0m\u001b[0m_raise_linalgerror_singular\u001b[0m\u001b[0;34m)\u001b[0m\u001b[0;34m\u001b[0m\u001b[0;34m\u001b[0m\u001b[0m\n\u001b[0;32m--> 394\u001b[0;31m     \u001b[0mr\u001b[0m \u001b[0;34m=\u001b[0m \u001b[0mgufunc\u001b[0m\u001b[0;34m(\u001b[0m\u001b[0ma\u001b[0m\u001b[0;34m,\u001b[0m \u001b[0mb\u001b[0m\u001b[0;34m,\u001b[0m \u001b[0msignature\u001b[0m\u001b[0;34m=\u001b[0m\u001b[0msignature\u001b[0m\u001b[0;34m,\u001b[0m \u001b[0mextobj\u001b[0m\u001b[0;34m=\u001b[0m\u001b[0mextobj\u001b[0m\u001b[0;34m)\u001b[0m\u001b[0;34m\u001b[0m\u001b[0;34m\u001b[0m\u001b[0m\n\u001b[0m\u001b[1;32m    395\u001b[0m \u001b[0;34m\u001b[0m\u001b[0m\n\u001b[1;32m    396\u001b[0m     \u001b[0;32mreturn\u001b[0m \u001b[0mwrap\u001b[0m\u001b[0;34m(\u001b[0m\u001b[0mr\u001b[0m\u001b[0;34m.\u001b[0m\u001b[0mastype\u001b[0m\u001b[0;34m(\u001b[0m\u001b[0mresult_t\u001b[0m\u001b[0;34m,\u001b[0m \u001b[0mcopy\u001b[0m\u001b[0;34m=\u001b[0m\u001b[0;32mFalse\u001b[0m\u001b[0;34m)\u001b[0m\u001b[0;34m)\u001b[0m\u001b[0;34m\u001b[0m\u001b[0;34m\u001b[0m\u001b[0m\n",
      "\u001b[0;32m/usr/local/lib/python3.7/site-packages/numpy/linalg/linalg.py\u001b[0m in \u001b[0;36m_raise_linalgerror_singular\u001b[0;34m(err, flag)\u001b[0m\n\u001b[1;32m     86\u001b[0m \u001b[0;34m\u001b[0m\u001b[0m\n\u001b[1;32m     87\u001b[0m \u001b[0;32mdef\u001b[0m \u001b[0m_raise_linalgerror_singular\u001b[0m\u001b[0;34m(\u001b[0m\u001b[0merr\u001b[0m\u001b[0;34m,\u001b[0m \u001b[0mflag\u001b[0m\u001b[0;34m)\u001b[0m\u001b[0;34m:\u001b[0m\u001b[0;34m\u001b[0m\u001b[0;34m\u001b[0m\u001b[0m\n\u001b[0;32m---> 88\u001b[0;31m     \u001b[0;32mraise\u001b[0m \u001b[0mLinAlgError\u001b[0m\u001b[0;34m(\u001b[0m\u001b[0;34m\"Singular matrix\"\u001b[0m\u001b[0;34m)\u001b[0m\u001b[0;34m\u001b[0m\u001b[0;34m\u001b[0m\u001b[0m\n\u001b[0m\u001b[1;32m     89\u001b[0m \u001b[0;34m\u001b[0m\u001b[0m\n\u001b[1;32m     90\u001b[0m \u001b[0;32mdef\u001b[0m \u001b[0m_raise_linalgerror_nonposdef\u001b[0m\u001b[0;34m(\u001b[0m\u001b[0merr\u001b[0m\u001b[0;34m,\u001b[0m \u001b[0mflag\u001b[0m\u001b[0;34m)\u001b[0m\u001b[0;34m:\u001b[0m\u001b[0;34m\u001b[0m\u001b[0;34m\u001b[0m\u001b[0m\n",
      "\u001b[0;31mLinAlgError\u001b[0m: Singular matrix"
     ]
    }
   ],
   "source": [
    "x = np.linalg.solve(A, b)"
   ]
  },
  {
   "cell_type": "markdown",
   "metadata": {},
   "source": [
    "### 선형방정식 풀이법\n",
    "\n",
    "1. 직접 풀이법(direct)\n",
    "- 가우스 소거법\n",
    "- ...\n",
    "\n",
    "2. 반복 풀이법(머신러닝에 사용하게 될 방법)\n",
    "- Jacobi method\n",
    "- Conjucate Gradient Method -> steepest Gradient Method(최적화)\n"
   ]
  },
  {
   "cell_type": "markdown",
   "metadata": {},
   "source": [
    "## Jacobi Method"
   ]
  },
  {
   "cell_type": "code",
   "execution_count": 71,
   "metadata": {},
   "outputs": [
    {
     "name": "stdout",
     "output_type": "stream",
     "text": [
      "[[10  4  2  0]\n",
      " [ 9  5  0  0]\n",
      " [ 4  0  2  4]\n",
      " [ 6  1  8  3]]\n"
     ]
    }
   ],
   "source": [
    "A = np.matrix('10,4,2,0; 9,5,0,0; 4,0,2,4; 6,1,8,3')\n",
    "y = np.matrix('15;19;26;44')\n",
    "\n",
    "print(A)"
   ]
  },
  {
   "cell_type": "code",
   "execution_count": 72,
   "metadata": {},
   "outputs": [
    {
     "name": "stdout",
     "output_type": "stream",
     "text": [
      "[[10  0  0  0]\n",
      " [ 0  5  0  0]\n",
      " [ 0  0  2  0]\n",
      " [ 0  0  0  3]]\n"
     ]
    }
   ],
   "source": [
    "# 대각 행렬을 먼저 구한다.\n",
    "D = np.diag(np.diag(A))\n",
    "print(D)"
   ]
  },
  {
   "cell_type": "code",
   "execution_count": 73,
   "metadata": {},
   "outputs": [
    {
     "name": "stdout",
     "output_type": "stream",
     "text": [
      "[[0 4 2 0]\n",
      " [9 0 0 0]\n",
      " [4 0 0 4]\n",
      " [6 1 8 0]]\n"
     ]
    }
   ],
   "source": [
    "R = A - D\n",
    "print(R)"
   ]
  },
  {
   "cell_type": "code",
   "execution_count": 74,
   "metadata": {},
   "outputs": [
    {
     "name": "stdout",
     "output_type": "stream",
     "text": [
      "[[0.1        0.         0.         0.        ]\n",
      " [0.         0.2        0.         0.        ]\n",
      " [0.         0.         0.5        0.        ]\n",
      " [0.         0.         0.         0.33333333]]\n"
     ]
    }
   ],
   "source": [
    "D_inv = np.linalg.inv(D)\n",
    "print(D_inv)"
   ]
  },
  {
   "cell_type": "markdown",
   "metadata": {},
   "source": [
    "$$\n",
    "    역함수\n",
    "    x^(k+1) = d^-1(b-Rx^(k))\n",
    "$$"
   ]
  },
  {
   "cell_type": "code",
   "execution_count": 78,
   "metadata": {},
   "outputs": [
    {
     "name": "stdout",
     "output_type": "stream",
     "text": [
      "[[-2.47412901e+20]\n",
      " [-1.76545500e+20]\n",
      " [-2.68680497e+21]\n",
      " [-3.13515925e+21]]\n"
     ]
    }
   ],
   "source": [
    "# 최적화 하는 방법\n",
    "Maxlter = 50\n",
    "# x0 = np.matrix('1;1;1;1')\n",
    "x0 = np.ones((4,1))# 일벡터\n",
    "\n",
    "for it in range(Maxlter):\n",
    "    x1 = D_inv * (b - R * x0)\n",
    "    x0 = x1\n",
    "print(x0)"
   ]
  },
  {
   "cell_type": "code",
   "execution_count": 76,
   "metadata": {},
   "outputs": [
    {
     "data": {
      "text/plain": [
       "matrix([[-2.70253165],\n",
       "        [ 8.66455696],\n",
       "        [ 3.6835443 ],\n",
       "        [ 7.36075949]])"
      ]
     },
     "execution_count": 76,
     "metadata": {},
     "output_type": "execute_result"
    }
   ],
   "source": [
    "np.linalg.solve(A,y)"
   ]
  },
  {
   "cell_type": "code",
   "execution_count": 86,
   "metadata": {},
   "outputs": [
    {
     "name": "stdout",
     "output_type": "stream",
     "text": [
      "[[1 4 2 0]\n",
      " [9 5 0 0]\n",
      " [4 0 2 4]\n",
      " [6 1 8 3]]\n"
     ]
    }
   ],
   "source": [
    "A = np.array([\n",
    "    [1,4,2,0],\n",
    "    [9,5,0,0],\n",
    "    [4,0,2,4],\n",
    "    [6,1,8,3]\n",
    "])\n",
    "b = np.array ([[15],[19],[26],[44]])\n",
    "\n",
    "print(A)"
   ]
  },
  {
   "cell_type": "code",
   "execution_count": 87,
   "metadata": {},
   "outputs": [
    {
     "data": {
      "text/plain": [
       "array([[1, 0, 0, 0],\n",
       "       [0, 5, 0, 0],\n",
       "       [0, 0, 2, 0],\n",
       "       [0, 0, 0, 3]])"
      ]
     },
     "execution_count": 87,
     "metadata": {},
     "output_type": "execute_result"
    }
   ],
   "source": [
    "D = np.diag(np.diag(A))\n",
    "D"
   ]
  },
  {
   "cell_type": "code",
   "execution_count": 88,
   "metadata": {},
   "outputs": [
    {
     "data": {
      "text/plain": [
       "array([[0, 4, 2, 0],\n",
       "       [9, 0, 0, 0],\n",
       "       [4, 0, 0, 4],\n",
       "       [6, 1, 8, 0]])"
      ]
     },
     "execution_count": 88,
     "metadata": {},
     "output_type": "execute_result"
    }
   ],
   "source": [
    "R = A - D\n",
    "R"
   ]
  },
  {
   "cell_type": "code",
   "execution_count": 92,
   "metadata": {},
   "outputs": [
    {
     "data": {
      "text/plain": [
       "array([[1.        , 0.        , 0.        , 0.        ],\n",
       "       [0.        , 0.2       , 0.        , 0.        ],\n",
       "       [0.        , 0.        , 0.5       , 0.        ],\n",
       "       [0.        , 0.        , 0.        , 0.33333333]])"
      ]
     },
     "execution_count": 92,
     "metadata": {},
     "output_type": "execute_result"
    }
   ],
   "source": [
    "np.linalg.det(D)\n",
    "D_inv = np.linalg.inv(D)\n",
    "D_inv"
   ]
  },
  {
   "cell_type": "code",
   "execution_count": 97,
   "metadata": {},
   "outputs": [
    {
     "name": "stdout",
     "output_type": "stream",
     "text": [
      "[[nan nan nan nan]\n",
      " [nan nan nan nan]\n",
      " [nan nan nan nan]\n",
      " [nan nan nan nan]]\n"
     ]
    }
   ],
   "source": [
    "maxlter = 1000 # 야코비 방식으로 안풀림\n",
    "x0 = np.array([1,1,1,1])\n",
    "\n",
    "for it in range(maxlter):\n",
    "    x1 = np.dot(D_inv , (b - np.dot(R, x0)))\n",
    "    x0 = x1\n",
    "print(x0)"
   ]
  },
  {
   "cell_type": "markdown",
   "metadata": {},
   "source": [
    "## Conjugate Gradient Method"
   ]
  },
  {
   "cell_type": "code",
   "execution_count": 19,
   "metadata": {},
   "outputs": [
    {
     "name": "stdout",
     "output_type": "stream",
     "text": [
      "[[10  4  2  0]\n",
      " [ 9 15  0  0]\n",
      " [ 4  0 12  4]\n",
      " [ 6  1  8 13]]\n"
     ]
    }
   ],
   "source": [
    "A = np.matrix('10,4,2,0; 9,15,0,0; 4,0,12,4; 6,1,8,13')\n",
    "b = np.matrix('15;19;26;44')\n",
    "print(A)"
   ]
  },
  {
   "cell_type": "code",
   "execution_count": 20,
   "metadata": {},
   "outputs": [
    {
     "name": "stdout",
     "output_type": "stream",
     "text": [
      "[[1.01243867]\n",
      " [0.65802801]\n",
      " [1.10209854]\n",
      " [2.1958212 ]]\n"
     ]
    }
   ],
   "source": [
    "x0 = np.matrix('1;1;1;1')\n",
    "r0 = b - A * x0\n",
    "p0 = r0\n",
    "\n",
    "maxlter = 15\n",
    "for it in range(maxlter):\n",
    "    \n",
    "    a0 = (r0.T * r0) / (p0.T * A * p0)\n",
    "    \n",
    "    x1 = x0 + a0[0,0] * p0\n",
    "    r1 = r0 - a0[0,0] * A * p0\n",
    "    \n",
    "    if np.linalg.norm(r1) < 1E-8:\n",
    "        break\n",
    "        \n",
    "    b0 = (r1.T * r1) / (r0.T * r0)\n",
    "    p1 = r1 + b0[0,0] * p0\n",
    "    \n",
    "    r0 = r1\n",
    "    p0 = p1\n",
    "    x0 = x1\n",
    "\n",
    "print(x0)"
   ]
  },
  {
   "cell_type": "code",
   "execution_count": 7,
   "metadata": {},
   "outputs": [
    {
     "data": {
      "text/plain": [
       "matrix([[3.61363636]])"
      ]
     },
     "execution_count": 7,
     "metadata": {},
     "output_type": "execute_result"
    }
   ],
   "source": [
    "a0 #scalar: 2차원 배열"
   ]
  },
  {
   "cell_type": "code",
   "execution_count": 3,
   "metadata": {},
   "outputs": [
    {
     "name": "stdout",
     "output_type": "stream",
     "text": [
      "[[10  4  2  0]\n",
      " [ 9 15  0  0]\n",
      " [ 4  0 12  4]\n",
      " [ 6  1  8 13]]\n"
     ]
    }
   ],
   "source": [
    "A = np.matrix('10, 4, 2, 0; 9, 15, 0, 0; 4, 0, 12, 4; 6, 1, 8, 13')\n",
    "b = np.matrix('15;19;26;44')\n",
    "print(A)"
   ]
  },
  {
   "cell_type": "code",
   "execution_count": 21,
   "metadata": {},
   "outputs": [
    {
     "data": {
      "text/plain": [
       "matrix([[1.01243867],\n",
       "        [0.65802801],\n",
       "        [1.10209854],\n",
       "        [2.1958212 ]])"
      ]
     },
     "execution_count": 21,
     "metadata": {},
     "output_type": "execute_result"
    }
   ],
   "source": [
    "x0"
   ]
  },
  {
   "cell_type": "markdown",
   "metadata": {},
   "source": [
    "## 해를 구해 봅시다\n",
    "- 행렬곱 구하기"
   ]
  },
  {
   "cell_type": "code",
   "execution_count": 16,
   "metadata": {},
   "outputs": [
    {
     "name": "stdout",
     "output_type": "stream",
     "text": [
      "[[1 4 2 0]\n",
      " [9 5 0 0]\n",
      " [4 0 2 4]\n",
      " [6 1 8 3]]\n",
      "[[15]\n",
      " [19]\n",
      " [26]\n",
      " [44]]\n"
     ]
    }
   ],
   "source": [
    "# matrix  타입을 이용하여 내적(dot product)를 편하게 구해도 되고\n",
    "# array 타입으로도 구현을 해보기\n",
    "\n",
    "# matrix 타입\n",
    "A = np.matrix('1,4,2,0;9,5,0,0;4,0,2,4;6,1,8,3')\n",
    "b = np.matrix('15;19;26;44')\n",
    "\n",
    "print(A)\n",
    "print(b)"
   ]
  },
  {
   "cell_type": "code",
   "execution_count": 18,
   "metadata": {},
   "outputs": [
    {
     "name": "stdout",
     "output_type": "stream",
     "text": [
      "[[143]\n",
      " [230]\n",
      " [288]\n",
      " [449]]\n"
     ]
    }
   ],
   "source": [
    "# matrix 타입 연산\n",
    "\n",
    "d = np.dot(A, b)\n",
    "print(d)"
   ]
  },
  {
   "cell_type": "code",
   "execution_count": 37,
   "metadata": {},
   "outputs": [
    {
     "name": "stdout",
     "output_type": "stream",
     "text": [
      "[[1 4 2 0]\n",
      " [9 5 0 0]\n",
      " [4 0 2 4]\n",
      " [6 1 8 3]]\n",
      "[15 19 26 44]\n"
     ]
    }
   ],
   "source": [
    "# array 타입\n",
    "A = np.array([\n",
    "    [1,4,2,0],\n",
    "    [9,5,0,0],\n",
    "    [4,0,2,4],\n",
    "    [6,1,8,3]\n",
    "])\n",
    "#b = np.array ([[15],[19],[26],[44]])\n",
    "b = np.array([15, 19, 26, 44])\n",
    "\n",
    "print(A)\n",
    "print(b)"
   ]
  },
  {
   "cell_type": "code",
   "execution_count": 38,
   "metadata": {},
   "outputs": [
    {
     "name": "stdout",
     "output_type": "stream",
     "text": [
      "[0.99986246 2.00010192 2.99994726 4.00013263]\n"
     ]
    }
   ],
   "source": [
    "# array 타입 연산\n",
    "\n",
    "x0 = np.array([1,1,1,1])# 일벡터의 1차원 행렬\n",
    "r0 = b - np.dot(A, x0)\n",
    "p0 = r0\n",
    "\n",
    "maxlter = 100\n",
    "\n",
    "for it in range(maxlter):\n",
    "    # a0 = (r0.T * r0) /(p0.T * A * p0)\n",
    "    a0 = np.dot(r0, r0)/ np.dot(p0, np.dot(A, p0))\n",
    "    x1 = x0 + a0 * p0 # broadcast\n",
    "    r1 = r0 - a0 * np.dot(A, p0)\n",
    "    \n",
    "    if np.linalg.norm(r1) < 1e-8:\n",
    "        break\n",
    "        \n",
    "    b0 = np.dot(r1, r1) / np.dot(r0, r0)\n",
    "    p1 = r1 + b0 * p0\n",
    "    \n",
    "    r0 = r1\n",
    "    p0 = p1\n",
    "    x0 = x1\n",
    "    \n",
    "print(x0)"
   ]
  },
  {
   "cell_type": "code",
   "execution_count": 39,
   "metadata": {},
   "outputs": [
    {
     "data": {
      "text/plain": [
       "array([1., 2., 3., 4.])"
      ]
     },
     "execution_count": 39,
     "metadata": {},
     "output_type": "execute_result"
    }
   ],
   "source": [
    "np.linalg.solve(A,b)"
   ]
  },
  {
   "cell_type": "markdown",
   "metadata": {},
   "source": [
    "# 로또 번호 자동 생성기 만들기: numpy"
   ]
  },
  {
   "cell_type": "code",
   "execution_count": 40,
   "metadata": {},
   "outputs": [
    {
     "name": "stdout",
     "output_type": "stream",
     "text": [
      "[24, 39, 10, 2, 32, 16]\n"
     ]
    }
   ],
   "source": [
    "import random\n",
    "\n",
    "lotto = random.sample(range(1, 46), 6)\n",
    "\n",
    "print(lotto)"
   ]
  },
  {
   "cell_type": "code",
   "execution_count": 44,
   "metadata": {},
   "outputs": [
    {
     "name": "stdout",
     "output_type": "stream",
     "text": [
      "-----------추첨 시작-----------\n",
      "몇 회 돌리겠습니까?(숫자만 입력):5\n",
      "[11, 15, 20, 23, 25, 29]\n",
      "[5, 7, 9, 24, 39, 42]\n",
      "[6, 11, 14, 18, 26, 33]\n",
      "[8, 22, 23, 31, 32, 45]\n",
      "[1, 6, 10, 29, 35, 39]\n",
      "----------추첨 끝-------------\n"
     ]
    }
   ],
   "source": [
    "import random\n",
    "\n",
    "print(\"-----------추첨 시작-----------\")\n",
    "num = input(\"몇 회 돌리겠습니까?(숫자만 입력):\")\n",
    "\n",
    "for i in range(0,int(num)):\n",
    "    lotto = random.sample(range(1, 46), 6)\n",
    "    lotto.sort()\n",
    "    print(lotto)\n",
    "    \n",
    "print(\"----------추첨 끝-------------\")"
   ]
  },
  {
   "cell_type": "markdown",
   "metadata": {},
   "source": [
    "### 강사님 code"
   ]
  },
  {
   "cell_type": "code",
   "execution_count": 49,
   "metadata": {},
   "outputs": [
    {
     "data": {
      "text/plain": [
       "array([11,  6,  9, 13, 37, 20])"
      ]
     },
     "execution_count": 49,
     "metadata": {},
     "output_type": "execute_result"
    }
   ],
   "source": [
    "arr = np.arange(1, 46)\n",
    "np.random.choice(arr, size = 6, replace=False)# 중복방지: replace"
   ]
  },
  {
   "cell_type": "markdown",
   "metadata": {},
   "source": [
    "# 고차원 선형방정식 풀이\n",
    "- 직접 풀이 방식\n",
    "- 반복적 풀이 방식\n",
    "    - 야코비 방식\n",
    "    - conjugated Gradient Method\n",
    "\n",
    "## 수학적으로 깊이있게 다루진 않았고\n",
    "-  고차원의 풀리지 않는 문제들에 대해서 선형방정식을 반복적으로 접근함으로 인해서 문제를 해결\n",
    "- 선형방정식의 반복적인 계산으로 단순화 해서 문제를 해결\n",
    "- 선형방정식을 풀어야 함"
   ]
  },
  {
   "cell_type": "code",
   "execution_count": 50,
   "metadata": {},
   "outputs": [],
   "source": [
    "x = np.array([20, 21, 22, 23, 24])\n",
    "y = np.array([15, 16, 21, 33, 42])"
   ]
  },
  {
   "cell_type": "code",
   "execution_count": 52,
   "metadata": {},
   "outputs": [
    {
     "data": {
      "image/png": "[encoded data removed]",
      "text/plain": [
       "<Figure size 432x288 with 1 Axes>"
      ]
     },
     "metadata": {
      "needs_background": "light"
     },
     "output_type": "display_data"
    }
   ],
   "source": [
    "import matplotlib.pyplot as plt\n",
    "\n",
    "plt.plot(x,y, 'o')\n",
    "plt.grid()\n",
    "plt.xlabel('temperature')\n",
    "plt.ylabel('sales_iceream')\n",
    "plt.show()"
   ]
  },
  {
   "cell_type": "markdown",
   "metadata": {},
   "source": [
    "### 행렬과 벡터의 곱만 확인 - 다른 형태의 연산도 확인\n",
    "- 내적(inner product/ dot product)으로 제외한 행렬/벡터의 연산은\n",
    "- 행렬/벡터 내의 모든 원소에 대한 반복적인 연산(+, -, *, /)\n",
    "- 행렬/벡터 끼리 연산을 하는 경우 두 피연산자의 크기가 같아야 한다"
   ]
  },
  {
   "cell_type": "markdown",
   "metadata": {},
   "source": [
    "#### 스칼라와 벡터의 연산\n",
    "- 크기가 다른 피 연산자의 연산인 경우\n",
    "- 크기가 작은 피연산자를 반복 확장하여 크기가 큰 피연산자의 크기를 맞춘 후에 연산을 적용"
   ]
  },
  {
   "cell_type": "code",
   "execution_count": 56,
   "metadata": {},
   "outputs": [
    {
     "name": "stdout",
     "output_type": "stream",
     "text": [
      "[6 8 5 8 1 5]\n",
      "[60 80 50 80 10 50]\n",
      "[10 10 10 10 10 10]\n",
      "[60 80 50 80 10 50]\n"
     ]
    }
   ],
   "source": [
    "vector = np.random.randint(10, size=(6,))\n",
    "print(vector)\n",
    "\n",
    "print(10 * vector) # 브로드 캐스팅\n",
    "\n",
    "scalarVector = np.full((6,), 10)\n",
    "print(scalarVector)\n",
    "print(scalarVector * vector)"
   ]
  },
  {
   "cell_type": "code",
   "execution_count": 57,
   "metadata": {},
   "outputs": [
    {
     "name": "stdout",
     "output_type": "stream",
     "text": [
      "[6 8 5 8 1 5]\n",
      "[60 80 50 80 10 50]\n",
      "[16 18 15 18 11 15]\n",
      "[4 2 5 2 9 5]\n"
     ]
    }
   ],
   "source": [
    "print(vector)\n",
    "print(10 * vector)\n",
    "print(10 + vector)\n",
    "print(10 - vector)"
   ]
  },
  {
   "cell_type": "markdown",
   "metadata": {},
   "source": [
    "#### 스칼라와 행렬의 연산\n",
    "- 벡터와 마찬가지로 자동으로 확장하여 모든 행렬내의 모든 원소에 반복적으로 적용"
   ]
  },
  {
   "cell_type": "code",
   "execution_count": 58,
   "metadata": {},
   "outputs": [
    {
     "name": "stdout",
     "output_type": "stream",
     "text": [
      "[[4 5 3]\n",
      " [0 8 8]\n",
      " [3 4 8]\n",
      " [4 9 6]]\n",
      "[[40 50 30]\n",
      " [ 0 80 80]\n",
      " [30 40 80]\n",
      " [40 90 60]]\n"
     ]
    }
   ],
   "source": [
    "arr = np.random.randint(10, size=(4,3))\n",
    "print(arr)\n",
    "\n",
    "print( 10 * arr)"
   ]
  },
  {
   "cell_type": "code",
   "execution_count": 59,
   "metadata": {},
   "outputs": [
    {
     "name": "stdout",
     "output_type": "stream",
     "text": [
      "[[4 5 3]\n",
      " [0 8 8]\n",
      " [3 4 8]\n",
      " [4 9 6]]\n",
      "[[40 50 30]\n",
      " [ 0 80 80]\n",
      " [30 40 80]\n",
      " [40 90 60]]\n",
      "[[14 15 13]\n",
      " [10 18 18]\n",
      " [13 14 18]\n",
      " [14 19 16]]\n",
      "[[ 6  5  7]\n",
      " [10  2  2]\n",
      " [ 7  6  2]\n",
      " [ 6  1  4]]\n"
     ]
    }
   ],
   "source": [
    "print(arr)\n",
    "print(10 * arr)\n",
    "print(10 + arr)\n",
    "print(10 - arr)"
   ]
  },
  {
   "cell_type": "markdown",
   "metadata": {},
   "source": [
    "#### 벡터와 벡터의 연산"
   ]
  },
  {
   "cell_type": "code",
   "execution_count": 60,
   "metadata": {},
   "outputs": [
    {
     "name": "stdout",
     "output_type": "stream",
     "text": [
      "[9 6 4 1]\n",
      "[9 1 7 8]\n",
      "[18  7 11  9]\n",
      "[81  6 28  8]\n"
     ]
    }
   ],
   "source": [
    "# 크기가 같다면 문제가 되지 않는다.\n",
    "v1 = np.random.randint(10, size=(4,))\n",
    "v2 = np.random.randint(10, size=(4,))\n",
    "\n",
    "print(v1)\n",
    "print(v2)\n",
    "print(v1 + v2)\n",
    "print(v1 * v2)"
   ]
  },
  {
   "cell_type": "code",
   "execution_count": 61,
   "metadata": {},
   "outputs": [
    {
     "data": {
      "text/plain": [
       "123"
      ]
     },
     "execution_count": 61,
     "metadata": {},
     "output_type": "execute_result"
    }
   ],
   "source": [
    "#벡터와 벡터간의 내적은 스칼라 형태의 결과가 나온다.\n",
    "np.dot(v1, v2)"
   ]
  },
  {
   "cell_type": "code",
   "execution_count": 62,
   "metadata": {},
   "outputs": [
    {
     "name": "stdout",
     "output_type": "stream",
     "text": [
      "[9 0 4]\n",
      "[4 4 0 9]\n"
     ]
    }
   ],
   "source": [
    "# 벡터의 크기가 다르다면?\n",
    "v1 = np.random.randint(10, size=(3,))\n",
    "v2 = np.random.randint(10, size=(4,))\n",
    "print(v1)\n",
    "print(v2)"
   ]
  },
  {
   "cell_type": "code",
   "execution_count": 63,
   "metadata": {},
   "outputs": [
    {
     "ename": "ValueError",
     "evalue": "operands could not be broadcast together with shapes (3,) (4,) ",
     "output_type": "error",
     "traceback": [
      "\u001b[0;31m---------------------------------------------------------------------------\u001b[0m",
      "\u001b[0;31mValueError\u001b[0m                                Traceback (most recent call last)",
      "\u001b[0;32m<ipython-input-63-9bac93d7b55a>\u001b[0m in \u001b[0;36m<module>\u001b[0;34m\u001b[0m\n\u001b[0;32m----> 1\u001b[0;31m \u001b[0mprint\u001b[0m\u001b[0;34m(\u001b[0m\u001b[0mv1\u001b[0m \u001b[0;34m+\u001b[0m \u001b[0mv2\u001b[0m\u001b[0;34m)\u001b[0m \u001b[0;31m# 에러남\u001b[0m\u001b[0;34m\u001b[0m\u001b[0;34m\u001b[0m\u001b[0m\n\u001b[0m",
      "\u001b[0;31mValueError\u001b[0m: operands could not be broadcast together with shapes (3,) (4,) "
     ]
    }
   ],
   "source": [
    "print(v1 + v2) # 에러남"
   ]
  },
  {
   "cell_type": "code",
   "execution_count": 64,
   "metadata": {},
   "outputs": [
    {
     "ename": "ValueError",
     "evalue": "shapes (3,) and (4,) not aligned: 3 (dim 0) != 4 (dim 0)",
     "output_type": "error",
     "traceback": [
      "\u001b[0;31m---------------------------------------------------------------------------\u001b[0m",
      "\u001b[0;31mValueError\u001b[0m                                Traceback (most recent call last)",
      "\u001b[0;32m<ipython-input-64-c5cd6d15d40d>\u001b[0m in \u001b[0;36m<module>\u001b[0;34m\u001b[0m\n\u001b[1;32m      1\u001b[0m \u001b[0;31m# 내적 오류\u001b[0m\u001b[0;34m\u001b[0m\u001b[0;34m\u001b[0m\u001b[0;34m\u001b[0m\u001b[0m\n\u001b[0;32m----> 2\u001b[0;31m \u001b[0mnp\u001b[0m\u001b[0;34m.\u001b[0m\u001b[0mdot\u001b[0m\u001b[0;34m(\u001b[0m\u001b[0mv1\u001b[0m\u001b[0;34m,\u001b[0m \u001b[0mv2\u001b[0m\u001b[0;34m)\u001b[0m\u001b[0;34m\u001b[0m\u001b[0;34m\u001b[0m\u001b[0m\n\u001b[0m",
      "\u001b[0;32m<__array_function__ internals>\u001b[0m in \u001b[0;36mdot\u001b[0;34m(*args, **kwargs)\u001b[0m\n",
      "\u001b[0;31mValueError\u001b[0m: shapes (3,) and (4,) not aligned: 3 (dim 0) != 4 (dim 0)"
     ]
    }
   ],
   "source": [
    "# 내적 오류\n",
    "np.dot(v1, v2)"
   ]
  },
  {
   "cell_type": "markdown",
   "metadata": {},
   "source": [
    "### inner / dot product\n",
    "- 앞의 열과 뒤에 행의 갯수가 같아야만 한다."
   ]
  },
  {
   "cell_type": "code",
   "execution_count": 65,
   "metadata": {},
   "outputs": [
    {
     "name": "stdout",
     "output_type": "stream",
     "text": [
      "[[1 2 3 4]]\n",
      "[[1]\n",
      " [2]\n",
      " [3]\n",
      " [4]]\n"
     ]
    }
   ],
   "source": [
    "arr1 = np.matrix('1,2,3,4')\n",
    "arr2 = np.matrix('1;2;3;4')\n",
    "\n",
    "print(arr1)\n",
    "print(arr2)"
   ]
  },
  {
   "cell_type": "code",
   "execution_count": 66,
   "metadata": {},
   "outputs": [
    {
     "data": {
      "text/plain": [
       "matrix([[30]])"
      ]
     },
     "execution_count": 66,
     "metadata": {},
     "output_type": "execute_result"
    }
   ],
   "source": [
    "arr1 * arr2 # dot product"
   ]
  },
  {
   "cell_type": "code",
   "execution_count": 67,
   "metadata": {},
   "outputs": [
    {
     "data": {
      "text/plain": [
       "matrix([[ 1,  2,  3,  4],\n",
       "        [ 2,  4,  6,  8],\n",
       "        [ 3,  6,  9, 12],\n",
       "        [ 4,  8, 12, 16]])"
      ]
     },
     "execution_count": 67,
     "metadata": {},
     "output_type": "execute_result"
    }
   ],
   "source": [
    "arr2 * arr1"
   ]
  },
  {
   "cell_type": "code",
   "execution_count": 68,
   "metadata": {},
   "outputs": [
    {
     "name": "stdout",
     "output_type": "stream",
     "text": [
      "[1 2 3 4]\n",
      "[1 2 3 4]\n"
     ]
    }
   ],
   "source": [
    "arr1 = np.array([1,2,3,4])\n",
    "arr2 = np.array([1,2,3,4])\n",
    "\n",
    "print(arr1)\n",
    "print(arr2)"
   ]
  },
  {
   "cell_type": "code",
   "execution_count": 71,
   "metadata": {},
   "outputs": [
    {
     "data": {
      "text/plain": [
       "30"
      ]
     },
     "execution_count": 71,
     "metadata": {},
     "output_type": "execute_result"
    }
   ],
   "source": [
    "np.dot(arr1, arr2)"
   ]
  },
  {
   "cell_type": "code",
   "execution_count": 73,
   "metadata": {},
   "outputs": [
    {
     "name": "stdout",
     "output_type": "stream",
     "text": [
      "[[1]\n",
      " [2]\n",
      " [3]\n",
      " [4]]\n",
      "[[1 2 3 4]]\n"
     ]
    },
    {
     "data": {
      "text/plain": [
       "array([[ 1,  2,  3,  4],\n",
       "       [ 2,  4,  6,  8],\n",
       "       [ 3,  6,  9, 12],\n",
       "       [ 4,  8, 12, 16]])"
      ]
     },
     "execution_count": 73,
     "metadata": {},
     "output_type": "execute_result"
    }
   ],
   "source": [
    "print(arr1.reshape(4,1))\n",
    "print(arr2.reshape(1,4))\n",
    "np.dot(arr1.reshape(4,1), arr2.reshape(1,4))"
   ]
  },
  {
   "cell_type": "markdown",
   "metadata": {},
   "source": [
    "#### 벡터와 행렬의 연산\n",
    "- 크기를 행렬의 열 크기와 벡터의 행 크기가 같아야 한다."
   ]
  },
  {
   "cell_type": "code",
   "execution_count": 74,
   "metadata": {},
   "outputs": [
    {
     "name": "stdout",
     "output_type": "stream",
     "text": [
      "[4 0 3 2]\n",
      "[[4 3 5 6]\n",
      " [9 7 9 5]\n",
      " [5 5 8 3]]\n"
     ]
    }
   ],
   "source": [
    "arr1 = np.random.randint(10, size=(4,))\n",
    "arr2 = np.random.randint(10, size=(3,4))\n",
    "print(arr1)\n",
    "print(arr2)"
   ]
  },
  {
   "cell_type": "code",
   "execution_count": 75,
   "metadata": {},
   "outputs": [
    {
     "name": "stdout",
     "output_type": "stream",
     "text": [
      "[[ 8  3  8  8]\n",
      " [13  7 12  7]\n",
      " [ 9  5 11  5]]\n",
      "[[16  0 15 12]\n",
      " [36  0 27 10]\n",
      " [20  0 24  6]]\n"
     ]
    }
   ],
   "source": [
    "# 벡터가 행렬의 크기에 맞춰서 자동으로 확장(브로드 캐스팅)\n",
    "print(arr1 + arr2)\n",
    "print(arr1 * arr2)"
   ]
  },
  {
   "cell_type": "code",
   "execution_count": 77,
   "metadata": {},
   "outputs": [
    {
     "name": "stdout",
     "output_type": "stream",
     "text": [
      "[4 0 7 1]\n",
      "[[3 6 1]\n",
      " [7 4 1]\n",
      " [7 6 1]\n",
      " [1 2 1]]\n"
     ]
    }
   ],
   "source": [
    "arr1 = np.random.randint(10, size=(4,))\n",
    "arr2 = np.random.randint(10, size=(4,3))\n",
    "print(arr1)\n",
    "print(arr2)"
   ]
  },
  {
   "cell_type": "code",
   "execution_count": 78,
   "metadata": {},
   "outputs": [
    {
     "ename": "ValueError",
     "evalue": "operands could not be broadcast together with shapes (4,) (4,3) ",
     "output_type": "error",
     "traceback": [
      "\u001b[0;31m---------------------------------------------------------------------------\u001b[0m",
      "\u001b[0;31mValueError\u001b[0m                                Traceback (most recent call last)",
      "\u001b[0;32m<ipython-input-78-49e0ebdd2770>\u001b[0m in \u001b[0;36m<module>\u001b[0;34m\u001b[0m\n\u001b[0;32m----> 1\u001b[0;31m \u001b[0mprint\u001b[0m\u001b[0;34m(\u001b[0m\u001b[0marr1\u001b[0m \u001b[0;34m+\u001b[0m \u001b[0marr2\u001b[0m\u001b[0;34m)\u001b[0m\u001b[0;34m\u001b[0m\u001b[0;34m\u001b[0m\u001b[0m\n\u001b[0m",
      "\u001b[0;31mValueError\u001b[0m: operands could not be broadcast together with shapes (4,) (4,3) "
     ]
    }
   ],
   "source": [
    "print(arr1 + arr2)"
   ]
  },
  {
   "cell_type": "markdown",
   "metadata": {},
   "source": [
    "#### 행렬과 행렬의 연산\n",
    "- 행과 열의 갯수가 반드시 일치\n",
    "- 2차원 행렬과 3차원 행렬간에도 역시 브로드 캐스팅은 된다.\n",
    "- 행렬의 차원이 다르면 브로드 캐스팅 역시 적용이 되는데, 요점은 자동으로 확장되었을 경우 모양이 일치하기만 하면 된다."
   ]
  },
  {
   "cell_type": "code",
   "execution_count": 79,
   "metadata": {},
   "outputs": [
    {
     "name": "stdout",
     "output_type": "stream",
     "text": [
      "[[4 6 4]\n",
      " [2 0 7]]\n",
      "[[5 6 8]\n",
      " [4 7 9]]\n"
     ]
    }
   ],
   "source": [
    "arr1 = np.random.randint(10, size=(2,3))\n",
    "arr2 = np.random.randint(10, size=(2,3))\n",
    "print(arr1)\n",
    "print(arr2)"
   ]
  },
  {
   "cell_type": "code",
   "execution_count": 80,
   "metadata": {},
   "outputs": [
    {
     "name": "stdout",
     "output_type": "stream",
     "text": [
      "[[ 9 12 12]\n",
      " [ 6  7 16]]\n"
     ]
    }
   ],
   "source": [
    "print(arr1 + arr2)"
   ]
  },
  {
   "cell_type": "code",
   "execution_count": null,
   "metadata": {},
   "outputs": [],
   "source": []
  }
 ],
 "metadata": {
  "kernelspec": {
   "display_name": "Python 3",
   "language": "python",
   "name": "python3"
  },
  "language_info": {
   "codemirror_mode": {
    "name": "ipython",
    "version": 3
   },
   "file_extension": ".py",
   "mimetype": "text/x-python",
   "name": "python",
   "nbconvert_exporter": "python",
   "pygments_lexer": "ipython3",
   "version": "3.7.4"
  }
 },
 "nbformat": 4,
 "nbformat_minor": 4
}
