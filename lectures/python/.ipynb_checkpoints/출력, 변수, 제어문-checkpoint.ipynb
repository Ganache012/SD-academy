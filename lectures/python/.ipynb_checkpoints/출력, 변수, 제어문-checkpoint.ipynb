{
 "cells": [
  {
   "cell_type": "markdown",
   "metadata": {},
   "source": [
    "# 파이썬 기초 - 주의 사항\n",
    "\n",
    "## 들여쓰기\n",
    "- 파이썬 에서는 블록을 표현할 때 들여쓰기를 사용한다. \n",
    "- 들여쓰기의 간격이 다르면 서로 다른 블록으로 판단하여 실행 오류가 발생할 수 있다. \n",
    "- 참고로, 공백과 탭은 엄연히 다르다.\n",
    "\n",
    "## 오류에 대한 대처법\n",
    "- ~~파이썬은 문법 오류나 런타임 오류와 관계없이 항상 실행중에 오류가 발생한다.~~(요즘은 툴이 좋아져서 실행하기 전에 간단한 문법 오류는 미리 찾아주기도 한다. )\n",
    "- 오류가 발생했을 경우 출력되는 메시지는 가급적 자세히 확인해보자. "
   ]
  },
  {
   "cell_type": "markdown",
   "metadata": {},
   "source": [
    "# 파이썬 기초 - 프린트 명령의 이해"
   ]
  },
  {
   "cell_type": "code",
   "execution_count": null,
   "metadata": {},
   "outputs": [],
   "source": [
    "print('hello, world')\n",
    "print(\"hello, world\")\n",
    "print('''hello, world''')\n",
    "print(\"\"\"hello, world\"\"\")"
   ]
  },
  {
   "cell_type": "markdown",
   "metadata": {},
   "source": [
    "### [참고]  escape string\n",
    "\n",
    "```\n",
    "\\n : 개행\n",
    "\\t : 탭\n",
    "\\\\ : 특수 문자\n",
    "\\': 특수 문자\n",
    "\\\" : 특수 문자\n",
    "\\b : 백 스페이스\n",
    "\\0 : 널 문자\n",
    "```\n"
   ]
  },
  {
   "cell_type": "code",
   "execution_count": 7,
   "metadata": {},
   "outputs": [
    {
     "name": "stdout",
     "output_type": "stream",
     "text": [
      "hello, world\n",
      "hello, world\n",
      "hello, world\n",
      "hello, world\n"
     ]
    }
   ],
   "source": [
    "print('hello, world\\nhello, world')\n",
    "print('hello, world\\x0ahello, world')"
   ]
  },
  {
   "cell_type": "code",
   "execution_count": 11,
   "metadata": {},
   "outputs": [
    {
     "name": "stdout",
     "output_type": "stream",
     "text": [
      "hello world\n",
      "helloworld\n"
     ]
    }
   ],
   "source": [
    "print('hello', 'world')\n",
    "print('hello' + 'world')"
   ]
  },
  {
   "cell_type": "markdown",
   "metadata": {},
   "source": [
    "# 개를 출력해 봅시다!\n",
    "\n",
    "```\n",
    "|\\_/|\n",
    "|q p|   /}\n",
    "( 0 )\"\"\"\\\n",
    "|\"^\"`    |\n",
    "||_/=\\\\__|\n",
    "```\n",
    "\n",
    "> 출처: 백준 알고리즘:https://www.acmicpc.net"
   ]
  },
  {
   "cell_type": "code",
   "execution_count": 12,
   "metadata": {},
   "outputs": [],
   "source": [
    "# 여기에 작성하시면 됩니다."
   ]
  },
  {
   "cell_type": "markdown",
   "metadata": {},
   "source": [
    "# 변수\n",
    "\n",
    "- 파이썬 에서는 변수의 선언이 존재하지 않습니다. \n",
    "- 변수에 값을 할당(assignment)하는 것 자체가 선언과 동일한 효과를 가집니다. \n",
    "\n",
    "## 1. 변수의 기본 속성 2가지 \n",
    "- 타입\n",
    "- 값\n",
    "\n",
    "## 2. 변수의 기본 타입\n",
    "- 정수(Integer)\n",
    "- 실수(Float)\n",
    "- 문자열(String)\n",
    "- Boolean(참, 거짓)"
   ]
  },
  {
   "cell_type": "markdown",
   "metadata": {},
   "source": [
    "각각의 값이 가지는 타입을 미리 확인해봅니다.   \n",
    "파이썬 에서 표현되는 모든 값들은 전부 타입을 지니고 있습니다. "
   ]
  },
  {
   "cell_type": "code",
   "execution_count": 4,
   "metadata": {},
   "outputs": [
    {
     "name": "stdout",
     "output_type": "stream",
     "text": [
      "<class 'int'>\n",
      "<class 'float'>\n",
      "<class 'str'>\n",
      "<class 'bool'>\n"
     ]
    }
   ],
   "source": [
    "print(type(10))\n",
    "print(type(10.0))\n",
    "print(type('10'))\n",
    "print(type(True))"
   ]
  },
  {
   "cell_type": "markdown",
   "metadata": {},
   "source": [
    "그리고 변수는 할당된 값의 타입을 그대로 따릅니다.   \n",
    "아래의 예제에서 변수에 할당된 값을 10, 10.0, '10', True 등으로 변경하면서 변수의 기본 속성인 타입과 값이 어떻게 변화 되는지 확인해 봅니다. "
   ]
  },
  {
   "cell_type": "code",
   "execution_count": 7,
   "metadata": {},
   "outputs": [
    {
     "name": "stdout",
     "output_type": "stream",
     "text": [
      "<class 'str'>\n",
      "10\n"
     ]
    }
   ],
   "source": [
    "변수 = '10'\n",
    "print(type(변수))\n",
    "print(변수)"
   ]
  },
  {
   "cell_type": "markdown",
   "metadata": {},
   "source": [
    "# 여러개의 값을 표현 하려면?\n",
    "\n",
    "- 수학에서 얘기하는 `집합`과 같은 표현\n",
    "- 단일 데이터가 아닌 여러 데이터를 하나의 변수에 넣고 관리할 수는 없을까?\n",
    "- 파이썬 에서는 기본적으로 `list`, `tuple`, `range`의 기본적인 타입을 제공합니다. \n",
    "- `list`와 `tuple`은 가변형과 불변형의 차이를 제외하곤 동일하게 사용이 가능합니다. \n",
    "- `tuple` 타입은 가변형 연산을 제외한 내용은 `list` 타입과 동일하게 사용 가능합니다. "
   ]
  },
  {
   "cell_type": "markdown",
   "metadata": {},
   "source": [
    "리스트 또한 변수로써, 변수의 기본 속성인 타입과 값 두가지 모든 속성을 가지고 있습니다.    \n",
    "하지만, 리스트 변수는 원소내의 특정한 값을 가지지 않습니다. "
   ]
  },
  {
   "cell_type": "code",
   "execution_count": 20,
   "metadata": {},
   "outputs": [
    {
     "name": "stdout",
     "output_type": "stream",
     "text": [
      "<class 'list'>\n",
      "[1, 'hello', 3.0, True]\n"
     ]
    }
   ],
   "source": [
    "리스트 = [1, 'hello', 3.0, True]\n",
    "print(type(리스트))\n",
    "print(리스트)"
   ]
  },
  {
   "cell_type": "markdown",
   "metadata": {},
   "source": [
    "리스트 내의 특정 원소를 표현 하려면 인덱싱을 사용하여야 합니다. "
   ]
  },
  {
   "cell_type": "code",
   "execution_count": 21,
   "metadata": {},
   "outputs": [
    {
     "data": {
      "text/plain": [
       "'hello'"
      ]
     },
     "execution_count": 21,
     "metadata": {},
     "output_type": "execute_result"
    }
   ],
   "source": [
    "리스트[1]"
   ]
  },
  {
   "cell_type": "markdown",
   "metadata": {},
   "source": [
    "시퀀스 타입에 공통으로 적용 가능한 연산들이 있습니다.     \n",
    "각각의 코드를 실행하여서, 실행 결과를 확인하고 왜 그러한 결과가 나오게 되는지 직접 확인해 봅시다. "
   ]
  },
  {
   "cell_type": "code",
   "execution_count": 22,
   "metadata": {},
   "outputs": [
    {
     "name": "stdout",
     "output_type": "stream",
     "text": [
      "False\n",
      "[1, 'hello', 3.0, True, 'python', 'basic', 2]\n",
      "[1, 'hello', 3.0, True]\n",
      "[1, 'hello', 3.0, True]\n",
      "4\n"
     ]
    }
   ],
   "source": [
    "print( 11 in 리스트 )\n",
    "print( 리스트 + ['python', 'basic', 2])\n",
    "print( 리스트 )\n",
    "print( 리스트[:])\n",
    "print( len(리스트))"
   ]
  },
  {
   "cell_type": "markdown",
   "metadata": {},
   "source": [
    "파이썬에서, 리스트 타입은 가변형 으로써, 리스트 내의 원소를 변경할 수 있습니다. "
   ]
  },
  {
   "cell_type": "code",
   "execution_count": 26,
   "metadata": {},
   "outputs": [
    {
     "name": "stdout",
     "output_type": "stream",
     "text": [
      "[1, 'hello', 3.0, True]\n",
      "[100, 'hello', 3.0, True]\n"
     ]
    }
   ],
   "source": [
    "print(리스트)\n",
    "리스트[0] = 100\n",
    "print(리스트)"
   ]
  },
  {
   "cell_type": "markdown",
   "metadata": {},
   "source": [
    "리스트 내에 원소를 추가하는 3가지 방법 입니다. "
   ]
  },
  {
   "cell_type": "code",
   "execution_count": 27,
   "metadata": {},
   "outputs": [
    {
     "name": "stdout",
     "output_type": "stream",
     "text": [
      "[100, 'hello', 3.0, True, 10]\n"
     ]
    }
   ],
   "source": [
    "# 리스트 = 리스트 + [10]\n",
    "리스트 += [10]\n",
    "print(리스트)"
   ]
  },
  {
   "cell_type": "code",
   "execution_count": 28,
   "metadata": {},
   "outputs": [
    {
     "name": "stdout",
     "output_type": "stream",
     "text": [
      "[100, 'hello', 3.0, True, 10, 'python']\n"
     ]
    }
   ],
   "source": [
    "리스트.append('python')\n",
    "print(리스트)"
   ]
  },
  {
   "cell_type": "code",
   "execution_count": 29,
   "metadata": {},
   "outputs": [
    {
     "name": "stdout",
     "output_type": "stream",
     "text": [
      "[100, 'hello', 3.0, True, 10, 'python', False]\n"
     ]
    }
   ],
   "source": [
    "리스트.extend([False])\n",
    "print(리스트)"
   ]
  },
  {
   "cell_type": "markdown",
   "metadata": {},
   "source": [
    "# 제어문\n",
    "\n",
    "- 분기문과 반복문의 2가지 형태가 있습니다. \n",
    "- 거의 모든 언어들은 이 2가지의 제어문을 이용해 전체 코드의 흐름을 제어 하게 됩니다. "
   ]
  },
  {
   "cell_type": "markdown",
   "metadata": {},
   "source": [
    "# 분기문\n",
    "\n",
    "- 파이썬 에서는 `if`문 하나만 제공 합니다. \n",
    "- `if` 문의 기본 형태는 다음과 같습니다. \n",
    "\n",
    "```\n",
    "if <statement>:\n",
    "    명령어1\n",
    "    명령어2\n",
    "    명령어3\n",
    "    ...\n",
    "```\n",
    "- 이 기본 형태에서 여러가지 변형된 형태로 사용이 가능하지만, 기본 형태는 변하지 않습니다. \n",
    "- `<statement>`뒤에 `:` 으로 끝나는 것에 주의 하십시오. \n",
    "- 명령어 들의 들여쓰기가 모두 동일한 것을 확인하셔야 합니다. \n",
    "- `<statement>`에는 `True` 혹은 `False`로 `리턴`되는 모든 형태를 사용할 수 있습니다. "
   ]
  },
  {
   "cell_type": "code",
   "execution_count": 30,
   "metadata": {},
   "outputs": [
    {
     "name": "stdout",
     "output_type": "stream",
     "text": [
      "리스트 내에 해당 원소가 존재합니다\n"
     ]
    }
   ],
   "source": [
    "리스트 = [1,2,3]\n",
    "\n",
    "if 1 in 리스트:\n",
    "    print('리스트 내에 해당 원소가 존재합니다')"
   ]
  },
  {
   "cell_type": "markdown",
   "metadata": {},
   "source": [
    "기본 형태에서 변형된 형태로 `else`문장이 추가 되었습니다.    \n",
    "둘 중, 하나의 명령은 반드시 실행이 됩니다.   \n",
    "코드를 실행 후에 결과를 확인 하세요 또한, a가 '1'인 경우에는 코드의 흐름이 어떻게 변경되는지 확인해보세요 "
   ]
  },
  {
   "cell_type": "code",
   "execution_count": 15,
   "metadata": {},
   "outputs": [
    {
     "name": "stdout",
     "output_type": "stream",
     "text": [
      "False\n"
     ]
    }
   ],
   "source": [
    "a = 10\n",
    "\n",
    "if a < 3:\n",
    "    print(True)\n",
    "else:\n",
    "    print(False)"
   ]
  },
  {
   "cell_type": "markdown",
   "metadata": {},
   "source": [
    "조금더 확장된 형태로, `elif`가 추가 되었습니다.    \n",
    "a가 3인 경우에 명령의 실행 흐름이 어떻게 변경되는지 확인해보세요 "
   ]
  },
  {
   "cell_type": "code",
   "execution_count": 17,
   "metadata": {},
   "outputs": [
    {
     "name": "stdout",
     "output_type": "stream",
     "text": [
      "a가 3보다 작다\n"
     ]
    }
   ],
   "source": [
    "a = 10\n",
    "\n",
    "if a < 3:\n",
    "    print(\"a가 3보다 작다\")\n",
    "elif a > 3: \n",
    "    print(\"a가 3보다 크다\")\n",
    "else:\n",
    "    print(\"a는 3과 같다\")"
   ]
  },
  {
   "cell_type": "markdown",
   "metadata": {},
   "source": [
    "boolean 연산자를 이용해서 다중 조건을 설정하는 것도 가능합니다. "
   ]
  },
  {
   "cell_type": "code",
   "execution_count": 33,
   "metadata": {},
   "outputs": [
    {
     "name": "stdout",
     "output_type": "stream",
     "text": [
      "a가 3보다 크거나 같다\n"
     ]
    }
   ],
   "source": [
    "a = 10\n",
    "\n",
    "if a < 3 and not a == 3:\n",
    "    print(\"a가 3보다 작다\")\n",
    "else:\n",
    "    print(\"a가 3보다 크거나 같다\")\n"
   ]
  },
  {
   "cell_type": "markdown",
   "metadata": {},
   "source": [
    "# 반복문\n",
    "\n",
    "- 파이썬 에서는 `while`과 `for` 2가지 형태의 구문을 제공합니다. \n",
    "- `while` 문의 기본 형태는 다음과 같습니다. \n",
    "\n",
    "```\n",
    "while <statement>:\n",
    "    명령어1\n",
    "    명령어2\n",
    "    명령어3\n",
    "    ...\n",
    "```\n",
    "\n",
    "- 이 기본 형태에서 여러가지 변형된 형태로 사용이 가능하지만, 기본 형태는 변하지 않습니다. \n",
    "- `<statement>`뒤에 `:` 으로 끝나는 것에 주의 하십시오. \n",
    "- 명령어 들의 들여쓰기가 모두 동일한 것을 확인하셔야 합니다. \n",
    "- `<statement>`에는 `True` 혹은 `False`로 `리턴`되는 모든 형태를 사용할 수 있습니다. \n",
    "- 주의해야 하는 점은 `<statement>`에서 종료가 되는 조건을 만들어 주지 못하면 `무한루프`가 발생하게 됩니다 "
   ]
  },
  {
   "cell_type": "markdown",
   "metadata": {},
   "source": [
    "이제부터는 반복되는 명령어에서 변수의 값이 어떻게 변화 하는지에 주목 하셔야 합니다 "
   ]
  },
  {
   "cell_type": "code",
   "execution_count": 34,
   "metadata": {},
   "outputs": [
    {
     "name": "stdout",
     "output_type": "stream",
     "text": [
      "어떻게 변화 하는가: 0\n",
      "어떻게 변화 하는가: 1\n",
      "어떻게 변화 하는가: 2\n",
      "어떻게 변화 하는가: 3\n",
      "어떻게 변화 하는가: 4\n",
      "어떻게 변화 하는가: 5\n",
      "어떻게 변화 하는가: 6\n",
      "어떻게 변화 하는가: 7\n",
      "어떻게 변화 하는가: 8\n",
      "어떻게 변화 하는가: 9\n"
     ]
    }
   ],
   "source": [
    "변화하는_변수 = 0\n",
    "\n",
    "while 변화하는_변수 < 10:\n",
    "    print('어떻게 변화 하는가:', 변화하는_변수)\n",
    "    # 변화하는_변수 = 변화하는_변수 + 1\n",
    "    변화하는_변수 += 1"
   ]
  },
  {
   "cell_type": "markdown",
   "metadata": {},
   "source": [
    "# 반복문 두 번째: for\n",
    "\n",
    "- for 루프는 시퀀스 타입의 변수에 매우 특화된 형태를 띄고 있다. \n",
    "- 기본 형태는 다음과 같다. \n",
    "\n",
    "```\n",
    "for 원소를_담는_변수 in 리스트:\n",
    "    명령어1\n",
    "    명령어2\n",
    "    명령어3\n",
    "    ...\n",
    "```\n",
    "\n",
    "- 역시, 마지막에 `:`로 끝나는 부분에 주목하세요\n",
    "- 들여쓰기는 언제나 중요합니다"
   ]
  },
  {
   "cell_type": "code",
   "execution_count": 35,
   "metadata": {},
   "outputs": [
    {
     "name": "stdout",
     "output_type": "stream",
     "text": [
      "hello\n",
      "python\n",
      "study\n"
     ]
    }
   ],
   "source": [
    "리스트 = ['hello', 'python', 'study']\n",
    "\n",
    "for 원소를_담는_변수 in 리스트:\n",
    "    print(원소를_담는_변수)"
   ]
  },
  {
   "cell_type": "markdown",
   "metadata": {},
   "source": [
    "# 유클리드 호제법\n",
    "\n",
    "## 두 수의 최대공약수(GCD)를 구하는 과정\n",
    "\n",
    "1. a, b가 주어졌을 때, b가 a보다 크면 b의 값을 a로, a의 값을 b로 지정한다. \n",
    "2. a를 b로 나눈 나머지를 n으로 지정한다.\n",
    "3. n이 0이면 b가 최대공약수이다. (종료)\n",
    "4. n이 0이 아니라면, a의 값을 b로, b의 값을 n로 지정하고, 2번으로 돌아간다. \n",
    "\n"
   ]
  },
  {
   "cell_type": "code",
   "execution_count": 31,
   "metadata": {},
   "outputs": [],
   "source": [
    "# a = 1234\n",
    "# b = 123\n",
    "# n = 0\n",
    "a, b, n = 123, 1234, 0\n",
    "\n",
    "# 1). a, b가 주어졌을 때, b가 a보다 크면 b의 값을 a로, a의 값을 b로 지정한다.\n",
    "if b > a:\n",
    "    a, b = b, a\n",
    "\n",
    "while True:\n",
    "    # 2). a를 b로 나눈 나머지를 n으로 지정한다.\n",
    "    n = a % b\n",
    "    \n",
    "    # 3). n이 0이면 b가 최대공약수이다. (종료)\n",
    "    if n == 0:\n",
    "        break\n",
    "        \n",
    "    # 4). n이 0이 아니라면, a의 값을 b로, b의 값을 n로 지정하고, 2번으로 돌아간다.\n",
    "    a, b = b, n\n",
    "    \n",
    "print(b)"
   ]
  },
  {
   "cell_type": "markdown",
   "metadata": {},
   "source": [
    "# 연습문제 \n",
    "\n",
    "## 윤년 구하기!\n",
    "\n",
    "1. 연도가 4로 나누어 떨어지면 윤년이다. \n",
    "2. 연도가 4와 100으로 나누어 떨어지면 평년이다. \n",
    "3. 연도가 4, 100, 400으로 나누어 떨어지면 윤년이다. "
   ]
  },
  {
   "cell_type": "code",
   "execution_count": null,
   "metadata": {},
   "outputs": [],
   "source": [
    "year = 1996\n",
    "\n",
    "if not (year % 4) == 0:\n",
    "    print('평년 입니다')\n",
    "elif (year % 100) == 0:\n",
    "    print('평년 입니다')\n",
    "elif not (year % 400) == 0:\n",
    "    print('평년 입니다')\n",
    "else:\n",
    "    print('윤년 입니다')"
   ]
  },
  {
   "cell_type": "markdown",
   "metadata": {},
   "source": [
    "# 연습문제(총합 구하기)\n",
    "\n",
    "- n이 주어졌을 때, 1부터 n까지 합을 구하는 프로그램을 작성하시오.\n"
   ]
  },
  {
   "cell_type": "code",
   "execution_count": 9,
   "metadata": {},
   "outputs": [
    {
     "name": "stdout",
     "output_type": "stream",
     "text": [
      "500500\n"
     ]
    }
   ],
   "source": [
    "n = 1000\n",
    "합 = 0\n",
    "for i in range(1, n+1):\n",
    "    합 = 합 + i\n",
    "\n",
    "print(합)"
   ]
  },
  {
   "cell_type": "markdown",
   "metadata": {},
   "source": [
    "# 연습문제(power)\n",
    "\n",
    "- n이 주어졌을 때, 2^n을 구하는 프로그램을 작성하시오.\n"
   ]
  },
  {
   "cell_type": "code",
   "execution_count": 23,
   "metadata": {},
   "outputs": [
    {
     "name": "stdout",
     "output_type": "stream",
     "text": [
      "0\n",
      "1\n",
      "2\n",
      "3\n",
      "4\n",
      "5\n",
      "6\n",
      "7\n"
     ]
    }
   ],
   "source": [
    "n = 8\n",
    "power = 1\n",
    "\n",
    "for _ in range(n):\n",
    "    print(_)\n",
    "    # power *= 2\n",
    "    power = power * 2\n",
    "\n",
    "#print(power)\n",
    "    "
   ]
  },
  {
   "cell_type": "code",
   "execution_count": 1,
   "metadata": {},
   "outputs": [
    {
     "data": {
      "text/plain": [
       "True"
      ]
     },
     "execution_count": 1,
     "metadata": {},
     "output_type": "execute_result"
    }
   ],
   "source": [
    "10>0"
   ]
  },
  {
   "cell_type": "code",
   "execution_count": null,
   "metadata": {},
   "outputs": [],
   "source": []
  }
 ],
 "metadata": {
  "kernelspec": {
   "display_name": "Python 3",
   "language": "python",
   "name": "python3"
  },
  "language_info": {
   "codemirror_mode": {
    "name": "ipython",
    "version": 3
   },
   "file_extension": ".py",
   "mimetype": "text/x-python",
   "name": "python",
   "nbconvert_exporter": "python",
   "pygments_lexer": "ipython3",
   "version": "3.7.4"
  }
 },
 "nbformat": 4,
 "nbformat_minor": 2
}
