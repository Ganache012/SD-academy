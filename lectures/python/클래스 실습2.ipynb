{
 "cells": [
  {
   "cell_type": "markdown",
   "metadata": {},
   "source": [
    "# 1. BankAccount 클래스 정의하기 \n",
    "- 은행에서 계좌를 개설하면 기본적으로 계좌번호와 잔액이 설정됩니다. \n",
    "- 생성자를 이용해서 구현해 봅시다. "
   ]
  },
  {
   "cell_type": "code",
   "execution_count": 1,
   "metadata": {},
   "outputs": [],
   "source": [
    "class BankAccount:\n",
    "    \n",
    "    def __init__(self, account, balance):\n",
    "        self.account = account\n",
    "        self.balance = balance"
   ]
  },
  {
   "cell_type": "markdown",
   "metadata": {},
   "source": [
    "# 2. 클래스 변수\n",
    "- 개설된 계좌의 갯수를 저장하는 클래스 변수 하나를 정의하세요. \n",
    "- number_of_bank_account"
   ]
  },
  {
   "cell_type": "code",
   "execution_count": 19,
   "metadata": {},
   "outputs": [],
   "source": [
    "class BankAccount:\n",
    "    number_of_bank_account = 0 #계좌의 갯수를 저장하는 클래스 변수\n",
    "    \n",
    "    def __init__(self, account = 0, balance = 0):\n",
    "        self.account = account\n",
    "        self.balance = balance\n",
    "        BankAccount.number_of_bank_account = BankAccount.number_of_bank_account + 1\n",
    "        print(\"개설된 계좌의 수: \",format(BankAccount.number_of_bank_account))"
   ]
  },
  {
   "cell_type": "code",
   "execution_count": 20,
   "metadata": {},
   "outputs": [
    {
     "name": "stdout",
     "output_type": "stream",
     "text": [
      "개설된 계좌의 수: 1\n"
     ]
    },
    {
     "data": {
      "text/plain": [
       "37731261"
      ]
     },
     "execution_count": 20,
     "metadata": {},
     "output_type": "execute_result"
    }
   ],
   "source": [
    "account1 = BankAccount(37731261, 0)\n",
    "account1.balance\n",
    "account1.account"
   ]
  },
  {
   "cell_type": "markdown",
   "metadata": {},
   "source": [
    "# 3. 입금 메서드\n",
    "- 계좌를 개설한 객체에 입금을 하기 위한 deposit 메서드를 추가해 봅시다.\n",
    "- 최소 입금액은 1원이라고 가정 합니다. "
   ]
  },
  {
   "cell_type": "code",
   "execution_count": 34,
   "metadata": {},
   "outputs": [],
   "source": [
    "class BankAccount:\n",
    "    number_of_bank_account = 0 #계좌의 갯수를 저장하는 클래스 변수\n",
    "    \n",
    "    def __init__(self, account, balance):\n",
    "        self.account = account\n",
    "        self.balance = balance\n",
    "        BankAccount.number_of_bank_account = BankAccount.number_of_bank_account + 1\n",
    "        print(\"개설된 계좌의 수: \",format(BankAccount.number_of_bank_account))\n",
    "        \n",
    "    #입금 메서드: deposit\n",
    "    #d_balance: 입금액\n",
    "    def deposit(self, d_balance=0):\n",
    "        d_balance = int(input(\"입금액을 입력하세요: \"))\n",
    "        if(d_balance >= 1):\n",
    "            self.balance += d_balance\n",
    "            print('입금 계좌:',format(self.account), '잔액:',format(self.balance))\n",
    "        else:\n",
    "            print('입금 최소 금액은 1원입니다')"
   ]
  },
  {
   "cell_type": "code",
   "execution_count": 35,
   "metadata": {},
   "outputs": [
    {
     "name": "stdout",
     "output_type": "stream",
     "text": [
      "개설된 계좌의 수: 1\n",
      "입금액을 입력하세요: 20\n",
      "입금 계좌: 37731261 잔액: 20\n"
     ]
    }
   ],
   "source": [
    "account1 = BankAccount(37731261, 0)\n",
    "account1.deposit(1)"
   ]
  },
  {
   "cell_type": "markdown",
   "metadata": {},
   "source": [
    "# 4. 출금 메서드\n",
    "- 마찬가지로 출금을 하기 위한, withdraw 메서드를 추가해 봅시다. \n",
    "- 잔액 이상으로는 출금할 수 없습니다. "
   ]
  },
  {
   "cell_type": "code",
   "execution_count": 46,
   "metadata": {},
   "outputs": [],
   "source": [
    "class BankAccount:\n",
    "    number_of_bank_account = 0 #계좌의 갯수를 저장하는 클래스 변수\n",
    "    \n",
    "    def __init__(self, account, balance):\n",
    "        self.account = account\n",
    "        self.balance = balance\n",
    "        BankAccount.number_of_bank_account = BankAccount.number_of_bank_account + 1\n",
    "        print(\"개설된 계좌의 수: \",format(BankAccount.number_of_bank_account))\n",
    "        \n",
    "    #입금 메서드: deposit\n",
    "    #d_balance: 입금액\n",
    "    def deposit(self, d_balance=0):\n",
    "        d_balance = int(input(\"입금액을 입력하세요: \"))\n",
    "        if(d_balance > 1):\n",
    "            self.balance += d_balance\n",
    "            print('입금 계좌: ',format(self.account), '잔액:',format(self.balance))\n",
    "        else:\n",
    "            print('입금 최소 금액은 1원입니다')\n",
    "        \n",
    "    #출금 메서드: withdraw\n",
    "    #w_balance: 출금액\n",
    "    def withdraw(self, w_balance=0):\n",
    "        w_balance  = int(input(\"출금액을 입력하세요: \"))\n",
    "        if(w_balance <= self.balance):\n",
    "            self.balance = self.balance - w_balance\n",
    "            print('출금 되었습니다. 잔액:',format(self.balance))\n",
    "        else:\n",
    "            print('출금 할 수 없습니다! 다시 입력하세요')"
   ]
  },
  {
   "cell_type": "code",
   "execution_count": 47,
   "metadata": {},
   "outputs": [
    {
     "name": "stdout",
     "output_type": "stream",
     "text": [
      "개설된 계좌의 수:  1\n",
      "입금액을 입력하세요: 1000\n",
      "입금 계좌:  37731261 잔액: 1000\n",
      "출금액을 입력하세요: 1001\n",
      "출금 할 수 없습니다! 다시 입력하세요\n"
     ]
    }
   ],
   "source": [
    "account1 = BankAccount(37731261, 0)\n",
    "account1.deposit(1)\n",
    "account1.withdraw(0)"
   ]
  },
  {
   "cell_type": "markdown",
   "metadata": {},
   "source": [
    "# 5. 이자 지급하기\n",
    "- 입금횟수가 5회가 될 때 마다 잔고를 기준으로 1%의 이자를 잔고에 추가하도록 해 봅시다. "
   ]
  },
  {
   "cell_type": "code",
   "execution_count": 19,
   "metadata": {},
   "outputs": [],
   "source": [
    "class BankAccount:\n",
    "    number_of_bank_account = 0 #계좌의 갯수를 저장하는 클래스 변수\n",
    "    \n",
    "    def __init__(self, account, balance, number_of_deposit=0):\n",
    "        self.account = account\n",
    "        self.balance = balance\n",
    "        self.number_of_deposit = number_of_deposit\n",
    "        BankAccount.number_of_bank_account = BankAccount.number_of_bank_account + 1\n",
    "        print(\"개설된 계좌의 수: \",format(BankAccount.number_of_bank_account))\n",
    "             \n",
    "    #입금 메서드: deposit\n",
    "    #d_balance: 입금액\n",
    "    #입금 횟수: deposit_count\n",
    "    def deposit(self, d_balance = 0):\n",
    "        d_balance = int(input(\"입금액을 입력하세요: \"))\n",
    "        if(d_balance >= 1):\n",
    "            self.balance += d_balance\n",
    "            self.number_of_deposit += 1\n",
    "            \n",
    "            if (self.number_of_deposit % 5) == 0:\n",
    "                interest = self.balance * 0.01\n",
    "                self.balance += interest\n",
    "                \n",
    "            print('입금 계좌: ',format(self.account), '잔액: ',format(self.balance), '입금 횟수: ',format(self.number_of_deposit))\n",
    "        else:\n",
    "            print('입금 최소 금액은 1원입니다')\n",
    "        \n",
    "    #출금 메서드: withdraw\n",
    "    #w_balance: 출금액\n",
    "    def withdraw(self, w_balance = 0):\n",
    "        w_balance  = int(input(\"출금액을 입력하세요: \"))\n",
    "        if(w_balance <= self.balance):\n",
    "            self.balance = self.balance - w_balance\n",
    "            print('출금 되었습니다. 잔액:',format(self.balance))\n",
    "        else:\n",
    "            print('출금 할 수 없습니다! 다시 입력하세요')"
   ]
  },
  {
   "cell_type": "code",
   "execution_count": 20,
   "metadata": {},
   "outputs": [
    {
     "name": "stdout",
     "output_type": "stream",
     "text": [
      "개설된 계좌의 수:  1\n",
      "입금액을 입력하세요: 1\n",
      "입금 계좌:  37731261 잔액:  1 입금 횟수:  1\n",
      "입금액을 입력하세요: 1\n",
      "입금 계좌:  37731261 잔액:  2 입금 횟수:  2\n",
      "입금액을 입력하세요: 1\n",
      "입금 계좌:  37731261 잔액:  3 입금 횟수:  3\n",
      "입금액을 입력하세요: 1\n",
      "입금 계좌:  37731261 잔액:  4 입금 횟수:  4\n",
      "입금액을 입력하세요: 1\n",
      "입금 계좌:  37731261 잔액:  5.05 입금 횟수:  5\n",
      "입금액을 입력하세요: 1\n",
      "입금 계좌:  37731261 잔액:  6.05 입금 횟수:  6\n",
      "입금액을 입력하세요: 1\n",
      "입금 계좌:  37731261 잔액:  7.05 입금 횟수:  7\n",
      "입금액을 입력하세요: 1\n",
      "입금 계좌:  37731261 잔액:  8.05 입금 횟수:  8\n",
      "입금액을 입력하세요: 1\n",
      "입금 계좌:  37731261 잔액:  9.05 입금 횟수:  9\n",
      "입금액을 입력하세요: 1\n",
      "입금 계좌:  37731261 잔액:  10.150500000000001 입금 횟수:  10\n",
      "입금액을 입력하세요: 1\n",
      "입금 계좌:  37731261 잔액:  11.150500000000001 입금 횟수:  11\n"
     ]
    },
    {
     "data": {
      "text/plain": [
       "11.150500000000001"
      ]
     },
     "execution_count": 20,
     "metadata": {},
     "output_type": "execute_result"
    }
   ],
   "source": [
    "account1 = BankAccount(37731261, 0)\n",
    "account1.deposit()\n",
    "account1.deposit()\n",
    "account1.deposit()\n",
    "account1.deposit()\n",
    "account1.deposit()\n",
    "account1.deposit()\n",
    "account1.deposit()\n",
    "account1.deposit()\n",
    "account1.deposit()\n",
    "account1.deposit()\n",
    "account1.deposit()\n",
    "account1.balance"
   ]
  }
 ],
 "metadata": {
  "kernelspec": {
   "display_name": "Python 3",
   "language": "python",
   "name": "python3"
  },
  "language_info": {
   "codemirror_mode": {
    "name": "ipython",
    "version": 3
   },
   "file_extension": ".py",
   "mimetype": "text/x-python",
   "name": "python",
   "nbconvert_exporter": "python",
   "pygments_lexer": "ipython3",
   "version": "3.7.4"
  }
 },
 "nbformat": 4,
 "nbformat_minor": 2
}
